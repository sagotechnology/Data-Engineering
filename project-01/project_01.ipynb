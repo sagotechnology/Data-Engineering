{
 "cells": [
  {
   "cell_type": "code",
   "execution_count": 1,
   "metadata": {},
   "outputs": [
    {
     "name": "stdout",
     "output_type": "stream",
     "text": [
      "3.7.4 (default, Aug 13 2019, 15:17:50) \n",
      "[Clang 4.0.1 (tags/RELEASE_401/final)]\n",
      "1.17.2\n",
      "0.25.1\n"
     ]
    }
   ],
   "source": [
    "import sys\n",
    "import numpy as np\n",
    "import pandas as pd\n",
    "import matplotlib.pyplot as plt\n",
    "import matplotlib.ticker as ticker\n",
    "from matplotlib.colors import ListedColormap\n",
    "import matplotlib as mpl\n",
    "# pd.set_option('display.max_rows', None)\n",
    "from datetime import datetime,timedelta\n",
    "import seaborn as sns\n",
    "from scipy import stats\n",
    "import folium\n",
    "import geopandas as gpd\n",
    "print(sys.version)\n",
    "print(np.__version__)\n",
    "print(pd.__version__)"
   ]
  },
  {
   "cell_type": "markdown",
   "metadata": {},
   "source": [
    "---\n",
    "# Make recommendations to increase ridership."
   ]
  },
  {
   "cell_type": "markdown",
   "metadata": {},
   "source": [
    "### Recommendations\n",
    "1. Incentivize users to rider during November and December.  Through my analysis, it became apparent that the worst months of the year were November and December.\n",
    "\n",
    "2. Increase ridership during the weekends.  The best year for weekend trips was 2014.  Despite the total duration of weekday tips increasing in 2015, when compared to 2014, it ended up finishing with fewer total hours of trips.  The nosedive in weekend trips significantly contributed to 2015 logging fewer hours than 2014.  If the total weekend hours per day were more in line with the total weekday hours per day, a substantial increase in ridership could be realized. \n",
    "\n",
    "3. Add more bikes and docks to the top ten most popular stations.  The top ten most popular stations (in terms of total trip duration) have a 15% occurrence rate of zero to two bikes or zero to two docking stations available during the hours of 5 AM to 8 PM (the busiest time of the day).  Also, the top three bike stations supply is low upwards of 20% during this time frame.\n",
    "\n",
    "For further explanation please continue reading."
   ]
  },
  {
   "cell_type": "markdown",
   "metadata": {},
   "source": [
    "### Setup"
   ]
  },
  {
   "cell_type": "markdown",
   "metadata": {},
   "source": [
    "Before answering this question, I will save a view that contains trips that are eight hours or less--99.8% of trips are eight hours or less.  Therefore trips more than eight hours are outliers and will skew the results I intend to deliver.  However, there is one caveat, with the top 0.2% of data trimmed relating the bikeshare_trip table to the other tables will be slightly impacted.  This misrepresentation will be insignificant towards offer recommendations to increase ridership. \n",
    "\n",
    "The view I created is: studied-bounty-276502:project_01.trips_lesseq_8hr. \n",
    "\n",
    "*SQL Query*\n",
    "```\n",
    "SELECT *\n",
    "FROM bigquery-public-data.san_francisco.bikeshare_trips \n",
    "WHERE duration_sec <= 28800\n",
    "```"
   ]
  },
  {
   "cell_type": "code",
   "execution_count": 2,
   "metadata": {},
   "outputs": [
    {
     "name": "stdout",
     "output_type": "stream",
     "text": [
      "/bin/sh: bq: command not found\r\n"
     ]
    }
   ],
   "source": [
    "! bq query --use_legacy_sql=FALSE 'SELECT EXTRACT(year FROM start_date) AS date_year, \\\n",
    "round(sum(duration_sec/60),0) as total_duration_min \\\n",
    "FROM `studied-bounty-276502.project_01.trips_lesseq_8hr` \\\n",
    "GROUP BY date_year \\\n",
    "ORDER BY date_year DESC'"
   ]
  },
  {
   "cell_type": "code",
   "execution_count": 3,
   "metadata": {},
   "outputs": [
    {
     "name": "stdout",
     "output_type": "stream",
     "text": [
      "/bin/sh: bq: command not found\r\n"
     ]
    }
   ],
   "source": [
    "! bq query --use_legacy_sql=FALSE 'SELECT EXTRACT(year FROM start_date) AS date_year, \\\n",
    "round(sum(duration_sec/3600),0) as total_duration_hr \\\n",
    "FROM `studied-bounty-276502.project_01.trips_lesseq_8hr` \\\n",
    "GROUP BY date_year \\\n",
    "ORDER BY date_year DESC'"
   ]
  },
  {
   "cell_type": "markdown",
   "metadata": {},
   "source": [
    "## Start of magic commads to make dataframes."
   ]
  },
  {
   "cell_type": "markdown",
   "metadata": {},
   "source": [
    "#### Trips by Duration and Origin/Destintaion"
   ]
  },
  {
   "cell_type": "code",
   "execution_count": 4,
   "metadata": {},
   "outputs": [
    {
     "name": "stderr",
     "output_type": "stream",
     "text": [
      "UsageError: Cell magic `%%bigquery` not found.\n"
     ]
    }
   ],
   "source": [
    "%%bigquery dur_trips_orgdest_2016\n",
    "SELECT *\n",
    "FROM(\n",
    "SELECT extract(year from start_date) AS date_year,\n",
    "start_station_id,\n",
    "start_station_name,\n",
    "end_station_id,\n",
    "end_station_name,\n",
    "count(distinct trip_id) AS num_trips,\n",
    "round(sum(duration_sec)/60,0) AS total_trip_time,\n",
    "round(sum((((duration_sec)/60)/2692370)*100),2) AS percent_trip_time,\n",
    "round(avg(duration_sec/60),0) AS avg_trip_time,\n",
    "round(min(duration_sec/60),1) AS min_trip_time,\n",
    "round(max(duration_sec/60),1) AS max_trip_time,\n",
    "FROM `studied-bounty-276502.project_01.trips_lesseq_8hr`\n",
    "GROUP BY 1,2,3,4,5\n",
    "ORDER BY total_trip_time DESC)\n",
    "WHERE date_year = 2016"
   ]
  },
  {
   "cell_type": "code",
   "execution_count": null,
   "metadata": {},
   "outputs": [],
   "source": [
    "%%bigquery dur_trips_orgdest_2015\n",
    "SELECT *\n",
    "FROM(\n",
    "SELECT extract(year from start_date) AS date_year,\n",
    "start_station_id,\n",
    "start_station_name,\n",
    "end_station_id,\n",
    "end_station_name,\n",
    "count(distinct trip_id) AS num_trips,\n",
    "round(sum(duration_sec)/60,0) AS total_trip_time,\n",
    "round(sum((((duration_sec)/60)/4578562)*100),2) AS percent_trip_time,\n",
    "round(avg(duration_sec/60),0) AS avg_trip_time,\n",
    "round(min(duration_sec/60),1) AS min_trip_time,\n",
    "round(max(duration_sec/60),1) AS max_trip_time,\n",
    "FROM `studied-bounty-276502.project_01.trips_lesseq_8hr`\n",
    "GROUP BY 1,2,3,4,5\n",
    "ORDER BY total_trip_time DESC)\n",
    "WHERE date_year = 2015"
   ]
  },
  {
   "cell_type": "code",
   "execution_count": null,
   "metadata": {},
   "outputs": [],
   "source": [
    "%%bigquery dur_trips_orgdest_2014\n",
    "SELECT *\n",
    "FROM(\n",
    "SELECT extract(year from start_date) AS date_year,\n",
    "start_station_id,\n",
    "start_station_name,\n",
    "end_station_id,\n",
    "end_station_name,\n",
    "count(distinct trip_id) AS num_trips,\n",
    "round(sum(duration_sec)/60,0) AS total_trip_time,\n",
    "round(sum((((duration_sec)/60)/4673800)*100),2) AS percent_trip_time,\n",
    "round(avg(duration_sec/60),0) AS avg_trip_time,\n",
    "round(min(duration_sec/60),1) AS min_trip_time,\n",
    "round(max(duration_sec/60),1) AS max_trip_time,\n",
    "FROM `studied-bounty-276502.project_01.trips_lesseq_8hr`\n",
    "GROUP BY 1,2,3,4,5\n",
    "ORDER BY total_trip_time DESC)\n",
    "WHERE date_year = 2014"
   ]
  },
  {
   "cell_type": "markdown",
   "metadata": {},
   "source": [
    "#### Trips by Number of Trips and Origin/Destintaion"
   ]
  },
  {
   "cell_type": "code",
   "execution_count": null,
   "metadata": {},
   "outputs": [],
   "source": [
    "%%bigquery pop_trips_orgdest_2016\n",
    "SELECT *\n",
    "FROM(\n",
    "SELECT extract(year from start_date) AS date_year,\n",
    "start_station_id,\n",
    "start_station_name,\n",
    "end_station_id,\n",
    "end_station_name,\n",
    "count(distinct trip_id) AS num_trips,\n",
    "round(sum(duration_sec)/60,0) AS total_trip_time,\n",
    "round(sum((((duration_sec)/60)/2692370)*100),2) AS percent_trip_time,\n",
    "round(avg(duration_sec/60),0) AS avg_trip_time,\n",
    "round(min(duration_sec/60),1) AS min_trip_time,\n",
    "round(max(duration_sec/60),1) AS max_trip_time,\n",
    "FROM `studied-bounty-276502.project_01.trips_lesseq_8hr`\n",
    "GROUP BY 1,2,3,4,5\n",
    "ORDER BY num_trips DESC)\n",
    "WHERE date_year = 2016"
   ]
  },
  {
   "cell_type": "code",
   "execution_count": null,
   "metadata": {},
   "outputs": [],
   "source": [
    "%%bigquery pop_trips_orgdest_2015\n",
    "SELECT *\n",
    "FROM(\n",
    "SELECT extract(year from start_date) AS date_year,\n",
    "start_station_id,\n",
    "start_station_name,\n",
    "end_station_id,\n",
    "end_station_name,\n",
    "count(distinct trip_id) AS num_trips,\n",
    "round(sum(duration_sec)/60,0) AS total_trip_time,\n",
    "round(sum((((duration_sec)/60)/4578562)*100),2) AS percent_trip_time,\n",
    "round(avg(duration_sec/60),0) AS avg_trip_time,\n",
    "round(min(duration_sec/60),1) AS min_trip_time,\n",
    "round(max(duration_sec/60),1) AS max_trip_time,\n",
    "FROM `studied-bounty-276502.project_01.trips_lesseq_8hr`\n",
    "GROUP BY 1,2,3,4,5\n",
    "ORDER BY num_trips DESC)\n",
    "WHERE date_year = 2015"
   ]
  },
  {
   "cell_type": "code",
   "execution_count": null,
   "metadata": {},
   "outputs": [],
   "source": [
    "%%bigquery pop_trips_orgdest_2014\n",
    "SELECT *\n",
    "FROM(\n",
    "SELECT extract(year from start_date) AS date_year,\n",
    "start_station_id,\n",
    "start_station_name,\n",
    "end_station_id,\n",
    "end_station_name,\n",
    "count(distinct trip_id) AS num_trips,\n",
    "round(sum(duration_sec)/60,0) AS total_trip_time,\n",
    "round(sum((((duration_sec)/60)/4673800)*100),2) AS percent_trip_time,\n",
    "round(avg(duration_sec/60),0) AS avg_trip_time,\n",
    "round(min(duration_sec/60),1) AS min_trip_time,\n",
    "round(max(duration_sec/60),1) AS max_trip_time,\n",
    "FROM `studied-bounty-276502.project_01.trips_lesseq_8hr`\n",
    "GROUP BY 1,2,3,4,5\n",
    "ORDER BY num_trips DESC)\n",
    "WHERE date_year = 2014"
   ]
  },
  {
   "cell_type": "markdown",
   "metadata": {},
   "source": [
    "#### Trips by Duration and Origin"
   ]
  },
  {
   "cell_type": "code",
   "execution_count": null,
   "metadata": {},
   "outputs": [],
   "source": [
    "%%bigquery dur_trips_org_2016\n",
    "SELECT *\n",
    "FROM(\n",
    "SELECT extract(year from start_date) AS date_year,\n",
    "start_station_id,\n",
    "start_station_name,\n",
    "count(distinct trip_id) AS num_trips,\n",
    "round(sum(duration_sec)/60,0) AS total_trip_time,\n",
    "round(sum((((duration_sec)/60)/2692370)*100),2) AS percent_trip_time,\n",
    "round(avg(duration_sec/60),0) AS avg_trip_time,\n",
    "round(min(duration_sec/60),1) AS min_trip_time,\n",
    "round(max(duration_sec/60),1) AS max_trip_time,\n",
    "FROM `studied-bounty-276502.project_01.trips_lesseq_8hr`\n",
    "GROUP BY 1,2,3\n",
    "ORDER BY total_trip_time DESC)\n",
    "WHERE date_year = 2016"
   ]
  },
  {
   "cell_type": "code",
   "execution_count": null,
   "metadata": {},
   "outputs": [],
   "source": [
    "%%bigquery dur_trips_org_2015\n",
    "SELECT *\n",
    "FROM(\n",
    "SELECT extract(year from start_date) AS date_year,\n",
    "start_station_id,\n",
    "start_station_name,\n",
    "count(distinct trip_id) AS num_trips,\n",
    "round(sum(duration_sec)/60,0) AS total_trip_time,\n",
    "round(sum((((duration_sec)/60)/4578562)*100),2) AS percent_trip_time,\n",
    "round(avg(duration_sec/60),0) AS avg_trip_time,\n",
    "round(min(duration_sec/60),1) AS min_trip_time,\n",
    "round(max(duration_sec/60),1) AS max_trip_time,\n",
    "FROM `studied-bounty-276502.project_01.trips_lesseq_8hr`\n",
    "GROUP BY 1,2,3\n",
    "ORDER BY total_trip_time DESC)\n",
    "WHERE date_year = 2015"
   ]
  },
  {
   "cell_type": "code",
   "execution_count": null,
   "metadata": {},
   "outputs": [],
   "source": [
    "%%bigquery dur_trips_org_2014\n",
    "SELECT *\n",
    "FROM(\n",
    "SELECT extract(year from start_date) AS date_year,\n",
    "start_station_id,\n",
    "start_station_name,\n",
    "count(distinct trip_id) AS num_trips,\n",
    "round(sum(duration_sec)/60,0) AS total_trip_time,\n",
    "round(sum((((duration_sec)/60)/4673800)*100),2) AS percent_trip_time,\n",
    "round(avg(duration_sec/60),0) AS avg_trip_time,\n",
    "round(min(duration_sec/60),1) AS min_trip_time,\n",
    "round(max(duration_sec/60),1) AS max_trip_time,\n",
    "FROM `studied-bounty-276502.project_01.trips_lesseq_8hr`\n",
    "GROUP BY 1,2,3\n",
    "ORDER BY total_trip_time DESC)\n",
    "WHERE date_year = 2014"
   ]
  },
  {
   "cell_type": "code",
   "execution_count": null,
   "metadata": {},
   "outputs": [],
   "source": [
    "%%bigquery pop_trips_org_2016\n",
    "SELECT *\n",
    "FROM(\n",
    "SELECT extract(year from start_date) AS date_year,\n",
    "start_station_id,\n",
    "start_station_name,\n",
    "count(distinct trip_id) AS num_trips,\n",
    "round(sum(duration_sec)/60,0) AS total_trip_time,\n",
    "round(sum((((duration_sec)/60)/2692370)*100),2) AS percent_trip_time,\n",
    "round(avg(duration_sec/60),0) AS avg_trip_time,\n",
    "round(min(duration_sec/60),1) AS min_trip_time,\n",
    "round(max(duration_sec/60),1) AS max_trip_time,\n",
    "FROM `studied-bounty-276502.project_01.trips_lesseq_8hr`\n",
    "GROUP BY 1,2,3\n",
    "ORDER BY num_trips DESC)\n",
    "WHERE date_year = 2016"
   ]
  },
  {
   "cell_type": "code",
   "execution_count": null,
   "metadata": {},
   "outputs": [],
   "source": [
    "%%bigquery pop_trips_org_2015\n",
    "SELECT *\n",
    "FROM(\n",
    "SELECT extract(year from start_date) AS date_year,\n",
    "start_station_id,\n",
    "start_station_name,\n",
    "count(distinct trip_id) AS num_trips,\n",
    "round(sum(duration_sec)/60,0) AS total_trip_time,\n",
    "round(sum((((duration_sec)/60)/4578562)*100),2) AS percent_trip_time,\n",
    "round(avg(duration_sec/60),0) AS avg_trip_time,\n",
    "round(min(duration_sec/60),1) AS min_trip_time,\n",
    "round(max(duration_sec/60),1) AS max_trip_time,\n",
    "FROM `studied-bounty-276502.project_01.trips_lesseq_8hr`\n",
    "GROUP BY 1,2,3\n",
    "ORDER BY num_trips DESC)\n",
    "WHERE date_year = 2015"
   ]
  },
  {
   "cell_type": "code",
   "execution_count": null,
   "metadata": {},
   "outputs": [],
   "source": [
    "%%bigquery pop_trips_org_2014\n",
    "SELECT *\n",
    "FROM(\n",
    "SELECT extract(year from start_date) AS date_year,\n",
    "start_station_id,\n",
    "start_station_name,\n",
    "count(distinct trip_id) AS num_trips,\n",
    "round(sum(duration_sec)/60,0) AS total_trip_time,\n",
    "round(sum((((duration_sec)/60)/4673800)*100),2) AS percent_trip_time,\n",
    "round(avg(duration_sec/60),0) AS avg_trip_time,\n",
    "round(min(duration_sec/60),1) AS min_trip_time,\n",
    "round(max(duration_sec/60),1) AS max_trip_time,\n",
    "FROM `studied-bounty-276502.project_01.trips_lesseq_8hr`\n",
    "GROUP BY 1,2,3\n",
    "ORDER BY num_trips DESC)\n",
    "WHERE date_year = 2014"
   ]
  },
  {
   "cell_type": "markdown",
   "metadata": {},
   "source": [
    "## Plot Stations"
   ]
  },
  {
   "cell_type": "code",
   "execution_count": null,
   "metadata": {},
   "outputs": [],
   "source": [
    "%%bigquery bike_stations\n",
    "SELECT * FROM `bigquery-public-data.san_francisco.bikeshare_stations`"
   ]
  },
  {
   "cell_type": "markdown",
   "metadata": {},
   "source": [
    "\n"
   ]
  },
  {
   "cell_type": "code",
   "execution_count": null,
   "metadata": {},
   "outputs": [],
   "source": [
    "g = gpd.GeoDataFrame(bike_stations, geometry=gpd.points_from_xy(bike_stations.longitude, bike_stations.latitude))\n",
    "m = folium.Map(location=[g.latitude.mean(), g.longitude.mean()])\n",
    "points = folium.features.GeoJson(g[['geometry']].to_json())\n",
    "m.add_child(points)"
   ]
  },
  {
   "cell_type": "markdown",
   "metadata": {},
   "source": [
    "## Start of Analysis"
   ]
  },
  {
   "cell_type": "markdown",
   "metadata": {},
   "source": [
    "### 1.0 Trips by Number of Trips and Origin/Destination"
   ]
  },
  {
   "cell_type": "markdown",
   "metadata": {},
   "source": [
    "#### 1.1.1 - 2016 Trips by Number of Trips and Origin/Destination"
   ]
  },
  {
   "cell_type": "code",
   "execution_count": null,
   "metadata": {},
   "outputs": [],
   "source": [
    "pop_trips_orgdest_2016.head(10)"
   ]
  },
  {
   "cell_type": "markdown",
   "metadata": {},
   "source": [
    "##### 2016 Top Ten Trips by Number of Trips and Origin/Destination\n",
    "* Total trip duration percent = 7.1%"
   ]
  },
  {
   "cell_type": "code",
   "execution_count": null,
   "metadata": {},
   "outputs": [],
   "source": [
    "round(pop_trips_orgdest_2016.percent_trip_time.head(10).sum(),2)"
   ]
  },
  {
   "cell_type": "markdown",
   "metadata": {},
   "source": [
    "\n"
   ]
  },
  {
   "cell_type": "markdown",
   "metadata": {},
   "source": [
    "#### 1.1.2 - 2015 Trips by Number of Trips and Origin/Destination"
   ]
  },
  {
   "cell_type": "code",
   "execution_count": null,
   "metadata": {},
   "outputs": [],
   "source": [
    "pop_trips_orgdest_2015.head(10)"
   ]
  },
  {
   "cell_type": "markdown",
   "metadata": {},
   "source": [
    "##### 2015 Top Ten Trips by Number of Trips and Origin/Destination\n",
    "* Total trip duration percent = 5.84%"
   ]
  },
  {
   "cell_type": "code",
   "execution_count": null,
   "metadata": {},
   "outputs": [],
   "source": [
    "round(pop_trips_orgdest_2015.percent_trip_time.head(10).sum(),2)"
   ]
  },
  {
   "cell_type": "markdown",
   "metadata": {},
   "source": [
    "\n"
   ]
  },
  {
   "cell_type": "markdown",
   "metadata": {},
   "source": [
    "#### 1.1.3 - 2014 Trips by Number of Trips and Origin/Destination"
   ]
  },
  {
   "cell_type": "code",
   "execution_count": null,
   "metadata": {},
   "outputs": [],
   "source": [
    "pop_trips_orgdest_2014.head(10)"
   ]
  },
  {
   "cell_type": "markdown",
   "metadata": {},
   "source": [
    "##### 2014 Top Ten Trips by Number of Trips and Origin/Destination\n",
    "* Total trip duration percent = 5.0%"
   ]
  },
  {
   "cell_type": "code",
   "execution_count": null,
   "metadata": {},
   "outputs": [],
   "source": [
    "round(pop_trips_orgdest_2014.percent_trip_time.head(10).sum())"
   ]
  },
  {
   "cell_type": "markdown",
   "metadata": {},
   "source": [
    "### 1.2 Summary\n",
    "After grouping trips by start station and end station and then ordering by the number of trips, the data reveals the top ten trips make up less than 10% of total duration.    \n",
    "\n",
    "This is a decent start for deriving recommendations; however, I will move on to further analysis.  I am looking to capture more of the population before making recommendations."
   ]
  },
  {
   "cell_type": "markdown",
   "metadata": {},
   "source": [
    "\n"
   ]
  },
  {
   "cell_type": "markdown",
   "metadata": {},
   "source": [
    "### 2.0 Trips by Total Duration and Origin/Destination"
   ]
  },
  {
   "cell_type": "markdown",
   "metadata": {},
   "source": [
    "#### 2.1.1 - 2016 Trips by Duration and Origin/Destination"
   ]
  },
  {
   "cell_type": "code",
   "execution_count": null,
   "metadata": {},
   "outputs": [],
   "source": [
    "dur_trips_orgdest_2016.head(10)"
   ]
  },
  {
   "cell_type": "markdown",
   "metadata": {},
   "source": [
    "##### 2016 Top Ten Trips by Duration and Origin/Destination\n",
    "* Total trip duration percent = 9.0%"
   ]
  },
  {
   "cell_type": "code",
   "execution_count": null,
   "metadata": {},
   "outputs": [],
   "source": [
    "round(dur_trips_orgdest_2016.percent_trip_time.head(10).sum())"
   ]
  },
  {
   "cell_type": "markdown",
   "metadata": {},
   "source": [
    "\n"
   ]
  },
  {
   "cell_type": "markdown",
   "metadata": {},
   "source": [
    "#### 2.1.2 - 2015 Trips by Duration and Origin/Destination"
   ]
  },
  {
   "cell_type": "code",
   "execution_count": null,
   "metadata": {},
   "outputs": [],
   "source": [
    "dur_trips_orgdest_2015.head(10)"
   ]
  },
  {
   "cell_type": "markdown",
   "metadata": {},
   "source": [
    "##### 2015 Top Ten Trips by Duration and Origin/Destination\n",
    "* Total trip duration percent = 8.0%"
   ]
  },
  {
   "cell_type": "code",
   "execution_count": null,
   "metadata": {},
   "outputs": [],
   "source": [
    "round(dur_trips_orgdest_2015.percent_trip_time.head(10).sum())"
   ]
  },
  {
   "cell_type": "markdown",
   "metadata": {},
   "source": [
    "\n"
   ]
  },
  {
   "cell_type": "markdown",
   "metadata": {},
   "source": [
    "#### 2.1.3 - 2014 Trips by Duration and Origin/Destination"
   ]
  },
  {
   "cell_type": "code",
   "execution_count": null,
   "metadata": {},
   "outputs": [],
   "source": [
    "dur_trips_orgdest_2014.head(10)"
   ]
  },
  {
   "cell_type": "markdown",
   "metadata": {},
   "source": [
    "##### 2014 Top Ten Trips by Duration and Origin/Destination\n",
    "* Total trip duration percent = 9.0%"
   ]
  },
  {
   "cell_type": "code",
   "execution_count": null,
   "metadata": {},
   "outputs": [],
   "source": [
    "round(dur_trips_orgdest_2014.percent_trip_time.head(10).sum())"
   ]
  },
  {
   "cell_type": "markdown",
   "metadata": {},
   "source": [
    "### 2.2 Summary\n",
    "After grouping trips by start station and end station and then ordering by duration, the data reveals the top ten trips (sorted by duration) make up less than 10% of total duration.  It is interesting to note the order of trip magnitude differs from the duration table to the number of trips table.  When ordering by duration, the number of trips was in the hundreds vs. the number of trips is in the thousands, when ordering by the number of trips.This is a decent start for deriving recommendations; However, I will move on to further analysis.  I am looking to capture more of the population before making recommendations.\n",
    "\n",
    "The trips grouped by start station and end station are limiting the percent of the total duration.  Next, I will sort by the orgin only."
   ]
  },
  {
   "cell_type": "markdown",
   "metadata": {},
   "source": [
    " \n",
    " "
   ]
  },
  {
   "cell_type": "markdown",
   "metadata": {},
   "source": [
    "\n"
   ]
  },
  {
   "cell_type": "markdown",
   "metadata": {},
   "source": [
    "### 3.0 Trips by Duration and Number of Trips"
   ]
  },
  {
   "cell_type": "markdown",
   "metadata": {},
   "source": [
    "#### 3.1.1 - 2016 Trips by Duration and Number of Trips"
   ]
  },
  {
   "cell_type": "markdown",
   "metadata": {},
   "source": [
    "##### 3.1.1.1 - 2016 Trips by Duration"
   ]
  },
  {
   "cell_type": "code",
   "execution_count": null,
   "metadata": {},
   "outputs": [],
   "source": [
    "dur_trips_org_2016.head(10)"
   ]
  },
  {
   "cell_type": "markdown",
   "metadata": {},
   "source": [
    "##### 3.1.1.2 - 2016 Trips by Number of Trips"
   ]
  },
  {
   "cell_type": "code",
   "execution_count": null,
   "metadata": {},
   "outputs": [],
   "source": [
    "pop_trips_org_2016.head(10)"
   ]
  },
  {
   "cell_type": "markdown",
   "metadata": {},
   "source": [
    "##### 2016 Top Ten Trip Origin Summary\n",
    "* Total trip duration percent = 46%\n",
    "* Total number of trips percent = 46% \n",
    "* Total number of trips = 210,237"
   ]
  },
  {
   "cell_type": "code",
   "execution_count": null,
   "metadata": {},
   "outputs": [],
   "source": [
    "round(dur_trips_org_2016.percent_trip_time.head(10).sum()), \\\n",
    "round((dur_trips_org_2016.num_trips.head(10).sum()/dur_trips_org_2016.num_trips.sum())*100), \\\n",
    "dur_trips_org_2016.num_trips.sum()"
   ]
  },
  {
   "cell_type": "code",
   "execution_count": null,
   "metadata": {},
   "outputs": [],
   "source": [
    "round(pop_trips_org_2016.percent_trip_time.head(10).sum()), \\\n",
    "round((pop_trips_org_2016.num_trips.head(10).sum()/pop_trips_org_2016.num_trips.sum())*100), \\\n",
    "pop_trips_org_2016.num_trips.sum()"
   ]
  },
  {
   "cell_type": "markdown",
   "metadata": {},
   "source": [
    "#### 3.1.2 - 2015 Trips by Duration and Number of Trips"
   ]
  },
  {
   "cell_type": "markdown",
   "metadata": {},
   "source": [
    "##### 3.1.2.1 - 2015 Trips by Duration"
   ]
  },
  {
   "cell_type": "code",
   "execution_count": null,
   "metadata": {},
   "outputs": [],
   "source": [
    "dur_trips_org_2015.head(10)"
   ]
  },
  {
   "cell_type": "markdown",
   "metadata": {},
   "source": [
    "##### 3.1.2.1 - 2015 Trips by Number of Trips"
   ]
  },
  {
   "cell_type": "code",
   "execution_count": null,
   "metadata": {},
   "outputs": [],
   "source": [
    "pop_trips_org_2015.head(10)"
   ]
  },
  {
   "cell_type": "markdown",
   "metadata": {},
   "source": [
    "##### 2015 Top Ten Trip Origin Summary\n",
    "* Total trip duration percent = 45%\n",
    "* Total number of trips percent = 44% \n",
    "* Total number of trips = 345,634"
   ]
  },
  {
   "cell_type": "code",
   "execution_count": null,
   "metadata": {},
   "outputs": [],
   "source": [
    "round(dur_trips_org_2015.percent_trip_time.head(10).sum()), \\\n",
    "round((dur_trips_org_2015.num_trips.head(10).sum()/dur_trips_org_2015.num_trips.sum())*100), \\\n",
    "dur_trips_org_2015.num_trips.sum()"
   ]
  },
  {
   "cell_type": "code",
   "execution_count": null,
   "metadata": {},
   "outputs": [],
   "source": [
    "round(pop_trips_org_2015.percent_trip_time.head(10).sum()), \\\n",
    "round((pop_trips_org_2015.num_trips.head(10).sum()/pop_trips_org_2015.num_trips.sum())*100), \\\n",
    "pop_trips_org_2015.num_trips.sum()"
   ]
  },
  {
   "cell_type": "markdown",
   "metadata": {},
   "source": [
    "#### 3.1.3 - 2014 Trips by Duration and Number of Trips"
   ]
  },
  {
   "cell_type": "markdown",
   "metadata": {},
   "source": [
    "##### 3.1.3.1 - 2013 Trips by Duration"
   ]
  },
  {
   "cell_type": "code",
   "execution_count": null,
   "metadata": {},
   "outputs": [],
   "source": [
    "dur_trips_org_2014.head(10)"
   ]
  },
  {
   "cell_type": "markdown",
   "metadata": {},
   "source": [
    "##### 3.1.3.2 - 2013 Trips by Number of Trips"
   ]
  },
  {
   "cell_type": "code",
   "execution_count": null,
   "metadata": {},
   "outputs": [],
   "source": [
    "pop_trips_org_2014.head(10)"
   ]
  },
  {
   "cell_type": "markdown",
   "metadata": {},
   "source": [
    "##### 2014 Top Ten Trip Origin Summary\n",
    "* Total trip duration percent = 43%\n",
    "* Total number of trips percent = 41% \n",
    "* Total number of trips = 325,322"
   ]
  },
  {
   "cell_type": "code",
   "execution_count": null,
   "metadata": {},
   "outputs": [],
   "source": [
    "round(dur_trips_org_2014.percent_trip_time.head(10).sum()), \\\n",
    "round((dur_trips_org_2014.num_trips.head(10).sum()/dur_trips_org_2014.num_trips.sum())*100), \\\n",
    "dur_trips_org_2014.num_trips.sum()"
   ]
  },
  {
   "cell_type": "code",
   "execution_count": null,
   "metadata": {},
   "outputs": [],
   "source": [
    "round(pop_trips_org_2014.percent_trip_time.head(10).sum()), \\\n",
    "round((pop_trips_org_2014.num_trips.head(10).sum()/pop_trips_org_2014.num_trips.sum())*100), \\\n",
    "pop_trips_org_2014.num_trips.sum()"
   ]
  },
  {
   "cell_type": "markdown",
   "metadata": {},
   "source": [
    "### 3.2 Summary\n",
    "Grouping by the starting station captured 46% of the total trip duration and the total number of trips.  This is significantly more compared to grouping by the start and end station--10% of the total duration.  After capturing nearly 50% of the trips, any recommendations are sure to make more of an impact.\n",
    "\n",
    "Further analysis will incorporate the starting station only.  The start station is where a trip begins and is, therefore, more significant than the destination.  Not to say that the destination is insignificant, but if recommendations make starting a trip more available or appealing, then ridership should increase.\n",
    "\n",
    "Harry Bridge Plaza, San Francisco Caltrain, and Embarcadero at Sansome are the top three stations by duration.  It is interesting to note that San Francisco Caltrain has 62% more trips vs the other two top three stations--ranked by duration."
   ]
  },
  {
   "cell_type": "markdown",
   "metadata": {},
   "source": [
    "\n"
   ]
  },
  {
   "cell_type": "markdown",
   "metadata": {},
   "source": [
    "### 4.0 Trip Duration Distribution by Day of the Week"
   ]
  },
  {
   "cell_type": "code",
   "execution_count": null,
   "metadata": {},
   "outputs": [],
   "source": [
    "%%bigquery week_day_dist_2016\n",
    "SELECT *\n",
    "FROM(\n",
    "SELECT EXTRACT(year FROM start_date) AS date_year, \n",
    "       EXTRACT(dayofweek FROM start_date) AS date_day_num,\n",
    "       FORMAT_DATETIME(\"%A\", DATETIME(start_date)) AS date_day, \n",
    "       round(sum(duration_sec)/3600, 0) AS total_duration_hr,\n",
    "       round(sum((((duration_sec)/60)/2692370)*100),2) as distribution\n",
    "FROM `studied-bounty-276502.project_01.trips_lesseq_8hr`\n",
    "GROUP BY date_year, date_day_num, date_day\n",
    "ORDER BY date_year, date_day_num\n",
    ")\n",
    "WHERE date_year = 2016"
   ]
  },
  {
   "cell_type": "code",
   "execution_count": null,
   "metadata": {},
   "outputs": [],
   "source": [
    "%%bigquery week_day_dist_2015\n",
    "SELECT *\n",
    "FROM(\n",
    "SELECT EXTRACT(year FROM start_date) AS date_year, \n",
    "       EXTRACT(dayofweek FROM start_date) AS date_day_num,\n",
    "       FORMAT_DATETIME(\"%A\", DATETIME(start_date)) AS date_day, \n",
    "       round(sum(duration_sec)/3600, 0) AS total_duration_hr,\n",
    "       round(sum((((duration_sec)/60)/4578562)*100),2) as distribution\n",
    "FROM `studied-bounty-276502.project_01.trips_lesseq_8hr`\n",
    "GROUP BY date_year, date_day_num, date_day\n",
    "ORDER BY date_year, date_day_num\n",
    ")\n",
    "WHERE date_year = 2015"
   ]
  },
  {
   "cell_type": "code",
   "execution_count": null,
   "metadata": {},
   "outputs": [],
   "source": [
    "%%bigquery week_day_dist_2014\n",
    "SELECT *\n",
    "FROM(\n",
    "SELECT EXTRACT(year FROM start_date) AS date_year, \n",
    "       EXTRACT(dayofweek FROM start_date) AS date_day_num,\n",
    "       FORMAT_DATETIME(\"%A\", DATETIME(start_date)) AS date_day, \n",
    "       round(sum(duration_sec)/3600, 0) AS total_duration_hr,\n",
    "       round(sum((((duration_sec)/60)/4673800)*100),2) as distribution\n",
    "FROM `studied-bounty-276502.project_01.trips_lesseq_8hr`\n",
    "GROUP BY date_year, date_day_num, date_day\n",
    "ORDER BY date_year, date_day_num\n",
    ")\n",
    "WHERE date_year = 2014"
   ]
  },
  {
   "cell_type": "markdown",
   "metadata": {},
   "source": [
    "#### 4.1.1 - 2016 Trip Duration Distribution by Day of the Week"
   ]
  },
  {
   "cell_type": "code",
   "execution_count": null,
   "metadata": {},
   "outputs": [],
   "source": [
    "week_day_dist_2016\n",
    "week_day_dist_2016.set_index('date_day', inplace=True, drop=True)\n",
    "week_day_dist_2016[['total_duration_hr','distribution']]"
   ]
  },
  {
   "cell_type": "markdown",
   "metadata": {},
   "source": [
    "#### 4.1.2 - 2015 Trip Duration Distribution by Day of the Week"
   ]
  },
  {
   "cell_type": "code",
   "execution_count": null,
   "metadata": {},
   "outputs": [],
   "source": [
    "week_day_dist_2015\n",
    "week_day_dist_2015.set_index('date_day', inplace=True, drop=True)\n",
    "week_day_dist_2015[['total_duration_hr','distribution']]"
   ]
  },
  {
   "cell_type": "markdown",
   "metadata": {},
   "source": [
    "#### 4.1.3 - 2014 Trip Duration Distribution by Day of the Week"
   ]
  },
  {
   "cell_type": "code",
   "execution_count": null,
   "metadata": {},
   "outputs": [],
   "source": [
    "week_day_dist_2014\n",
    "week_day_dist_2014.set_index('date_day', inplace=True, drop=True)\n",
    "week_day_dist_2014[['total_duration_hr','distribution']]"
   ]
  },
  {
   "cell_type": "code",
   "execution_count": null,
   "metadata": {},
   "outputs": [],
   "source": [
    "fig, ax = plt.subplots(3,1,figsize = (16,26))\n",
    "# width = 0.35\n",
    "ax[0].bar(week_day_dist_2016.index, week_day_dist_2016.total_duration_hr,color='b')\n",
    "ax[0].set_title('2016 Total Trip Duration by Day of the Week (Jan - Aug)',fontweight='bold',fontsize=24)\n",
    "ax[0].set_xlabel('Day of the Week', fontsize=20, weight='bold')\n",
    "ax[0].set_ylabel('Total Trip Duration (hr)', fontsize=20, weight='bold');\n",
    "ax[0].set_xticklabels(week_day_dist_2016.index,fontsize=16); \n",
    "ax[0].set(ylim=(0,8000))\n",
    "ax[0].set_axisbelow(True)\n",
    "ax[0].grid(True, axis='y')\n",
    "\n",
    "\n",
    "ax[1].bar(week_day_dist_2015.index, week_day_dist_2015.total_duration_hr,color='g')\n",
    "ax[1].set_title('2015 Total Trip Duration by Day of the Week',fontweight='bold',fontsize=24)\n",
    "ax[1].set_xlabel('Day of the Week', fontsize=20, weight='bold')\n",
    "ax[1].set_ylabel('Total Trip Duration (hr)', fontsize=20, weight='bold');\n",
    "ax[1].set_xticklabels(week_day_dist_2015.index,fontsize=16); \n",
    "ax[1].set(ylim=(0,14000))\n",
    "ax[1].set_axisbelow(True)\n",
    "ax[1].grid(True, axis='y')\n",
    "\n",
    "ax[2].bar(week_day_dist_2014.index, week_day_dist_2014.total_duration_hr,color='r')\n",
    "ax[2].set_title('2014 Total Trip Duration by Day of the Week',fontweight='bold',fontsize=24)\n",
    "ax[2].set_xlabel('Day of the Week', fontsize=20, weight='bold')\n",
    "ax[2].set_ylabel('Total Trip Duration (hr)', fontsize=20, weight='bold');\n",
    "ax[2].set_xticklabels(week_day_dist_2014.index,fontsize=16); \n",
    "ax[2].set(ylim=(0,14000))\n",
    "ax[2].set_axisbelow(True)\n",
    "ax[2].grid(True, axis='y')\n",
    "\n",
    "fig.tight_layout(pad=5)\n",
    "\n",
    "plt.show()"
   ]
  },
  {
   "cell_type": "code",
   "execution_count": null,
   "metadata": {},
   "outputs": [],
   "source": [
    "fig, ax = plt.subplots(figsize = (16,12))\n",
    "ax.plot(week_day_dist_2015.index, week_day_dist_2015.total_duration_hr,color='g', linewidth=4, marker='o', markersize=8)\n",
    "ax.plot(week_day_dist_2014.index, week_day_dist_2014.total_duration_hr,color='r', linewidth=4, marker='o', markersize=8)\n",
    "ax.set_title('2015 vs. 2014 Total Trip Duration by Day of the Week',fontweight='bold',fontsize=24)\n",
    "ax.set_xlabel('Day of the Week', fontsize=20, weight='bold')\n",
    "ax.set_ylabel('Total Trip Duration (hr)', fontsize=20, weight='bold');\n",
    "ax.set_xticklabels(week_day_dist_2015.index,fontsize=16); \n",
    "ax.set(ylim=(6000,14000))\n",
    "ax.set_axisbelow(True)\n",
    "ax.grid(True, axis='y')\n",
    "ax.legend(prop={'size':14}, labels=['2015', '2014'], loc='best')\n",
    "\n",
    "plt.show()"
   ]
  },
  {
   "cell_type": "markdown",
   "metadata": {},
   "source": [
    "#### 4.1.4 Subscriber vs. Non-subscriber"
   ]
  },
  {
   "cell_type": "code",
   "execution_count": null,
   "metadata": {},
   "outputs": [],
   "source": [
    "%%bigquery subscriber_vs_customer\n",
    "\n",
    "SELECT date_year, subscriber_type, round(sum(duration_sec/3600),2) total_duration_hr\n",
    "FROM(\n",
    "SELECT *, EXTRACT(YEAR FROM start_date) date_year\n",
    "FROM bigquery-public-data.san_francisco.bikeshare_trips \n",
    "WHERE duration_sec <= 28800)\n",
    "GROUP BY 1,2\n",
    "ORDER BY 1 DESC, 2 DESC"
   ]
  },
  {
   "cell_type": "code",
   "execution_count": null,
   "metadata": {},
   "outputs": [],
   "source": [
    "subscriber_vs_customer"
   ]
  },
  {
   "cell_type": "markdown",
   "metadata": {},
   "source": [
    "### 4.2 Summary\n",
    "\n",
    "2015 vs. 2014 ridership was higher during the week but 2015 ridership decreased dramatically during the weekend when compared to 2014.  2014 had more consistent ridership on the weekends.  2014 logged a total of 77,896.97 trip hours.  While 2015 experienced a dip of 2% logging 76,309.37 trip hours.  From 2014 to 2015, subscription hours increased by 12.2%; however, non-subscription hours decreased by 18.3%.  Assuming non-subscription riders rode more during the weekend, then the significant decrease in 2015 weekend rides would be explained."
   ]
  },
  {
   "cell_type": "markdown",
   "metadata": {},
   "source": [
    "\n"
   ]
  },
  {
   "cell_type": "markdown",
   "metadata": {},
   "source": [
    "\n"
   ]
  },
  {
   "cell_type": "markdown",
   "metadata": {},
   "source": [
    "### 5.0 Trip Duration Distribution by Month"
   ]
  },
  {
   "cell_type": "markdown",
   "metadata": {},
   "source": [
    "#### 5.1.1 - 2016 Trip Duration Distribution by Month"
   ]
  },
  {
   "cell_type": "code",
   "execution_count": null,
   "metadata": {},
   "outputs": [],
   "source": [
    "%%bigquery monthly_trips_2016\n",
    "SELECT *, round(total_trip_time_hr/num_days,2) avg_hour_per_day\n",
    "FROM(\n",
    "SELECT\n",
    "extract(month FROM start_date) AS date_month_num,\n",
    "FORMAT_DATETIME(\"%B\", DATETIME(start_date)) AS date_month,\n",
    "max(extract(day FROM start_date)) AS num_days,\n",
    "count(DISTINCT trip_id) AS num_trips,\n",
    "round(sum(duration_sec/3600), 2) AS total_trip_time_hr,\n",
    "round(min(duration_sec/60),2) AS min_trip_time,\n",
    "round(max(duration_sec/60),2) AS max_trip_time,\n",
    "round(avg(duration_sec/60)) AS avg_trip_time_min,\n",
    "FROM `studied-bounty-276502.project_01.trips_lesseq_8hr`\n",
    "WHERE extract(year from start_date) = 2016\n",
    "GROUP BY date_month_num, date_month\n",
    "ORDER BY date_month_num\n",
    ")"
   ]
  },
  {
   "cell_type": "code",
   "execution_count": null,
   "metadata": {},
   "outputs": [],
   "source": [
    "monthly_trips_2016.set_index('date_month', inplace=True, drop=True)\n",
    "monthly_trips_2016.drop(columns='date_month_num', inplace=True)"
   ]
  },
  {
   "cell_type": "code",
   "execution_count": null,
   "metadata": {},
   "outputs": [],
   "source": [
    "monthly_trips_2016"
   ]
  },
  {
   "cell_type": "code",
   "execution_count": null,
   "metadata": {},
   "outputs": [],
   "source": [
    "monthly_trips_2016"
   ]
  },
  {
   "cell_type": "code",
   "execution_count": null,
   "metadata": {},
   "outputs": [],
   "source": [
    "round(monthly_trips_2016.total_trip_time_hr.sum(),2)"
   ]
  },
  {
   "cell_type": "markdown",
   "metadata": {},
   "source": [
    "#### 5.1.2 - 2015 Trip Duration Distribution by Month"
   ]
  },
  {
   "cell_type": "code",
   "execution_count": null,
   "metadata": {},
   "outputs": [],
   "source": [
    "%%bigquery monthly_trips_2015\n",
    "\n",
    "SELECT *, round(total_trip_time_hr/num_days,2) avg_hour_per_day\n",
    "FROM(\n",
    "SELECT\n",
    "extract(month FROM start_date) AS date_month_num,\n",
    "FORMAT_DATETIME(\"%B\", DATETIME(start_date)) AS date_month,\n",
    "max(extract(day FROM start_date)) AS num_days,\n",
    "count(DISTINCT trip_id) AS num_trips,\n",
    "round(sum(duration_sec/3600), 2) AS total_trip_time_hr,\n",
    "round(min(duration_sec/60),2) AS min_trip_time,\n",
    "round(max(duration_sec/60),2) AS max_trip_time,\n",
    "round(avg(duration_sec/60)) AS avg_trip_time_min,\n",
    "FROM `studied-bounty-276502.project_01.trips_lesseq_8hr`\n",
    "WHERE extract(year from start_date) = 2015\n",
    "GROUP BY date_month_num, date_month\n",
    "ORDER BY date_month_num\n",
    ")"
   ]
  },
  {
   "cell_type": "code",
   "execution_count": null,
   "metadata": {},
   "outputs": [],
   "source": [
    "monthly_trips_2015.set_index('date_month', inplace=True, drop=True)\n",
    "monthly_trips_2015.drop(columns='date_month_num', inplace=True)"
   ]
  },
  {
   "cell_type": "code",
   "execution_count": null,
   "metadata": {},
   "outputs": [],
   "source": [
    "monthly_trips_2015"
   ]
  },
  {
   "cell_type": "code",
   "execution_count": null,
   "metadata": {},
   "outputs": [],
   "source": [
    "monthly_trips_2015.total_trip_time_hr[:8].sum()"
   ]
  },
  {
   "cell_type": "code",
   "execution_count": null,
   "metadata": {},
   "outputs": [],
   "source": [
    "monthly_trips_2015.total_trip_time_hr.sum()"
   ]
  },
  {
   "cell_type": "markdown",
   "metadata": {},
   "source": [
    "#### 5.1.3 - 2014 Trip Duration Distribution by Month"
   ]
  },
  {
   "cell_type": "code",
   "execution_count": null,
   "metadata": {},
   "outputs": [],
   "source": [
    "%%bigquery monthly_trips_2014\n",
    "\n",
    "SELECT *, round(total_trip_time_hr/num_days,2) avg_hour_per_day\n",
    "FROM(\n",
    "SELECT\n",
    "extract(month FROM start_date) AS date_month_num,\n",
    "FORMAT_DATETIME(\"%B\", DATETIME(start_date)) AS date_month,\n",
    "max(extract(day FROM start_date)) AS num_days,\n",
    "count(DISTINCT trip_id) AS num_trips,\n",
    "round(sum(duration_sec/3600), 2) AS total_trip_time_hr,\n",
    "round(min(duration_sec/60),2) AS min_trip_time,\n",
    "round(max(duration_sec/60),2) AS max_trip_time,\n",
    "round(avg(duration_sec/60)) AS avg_trip_time_min,\n",
    "FROM `studied-bounty-276502.project_01.trips_lesseq_8hr`\n",
    "WHERE extract(year from start_date) = 2014\n",
    "GROUP BY date_month_num, date_month\n",
    "ORDER BY date_month_num\n",
    ")"
   ]
  },
  {
   "cell_type": "code",
   "execution_count": null,
   "metadata": {},
   "outputs": [],
   "source": [
    "monthly_trips_2014.set_index('date_month', inplace=True, drop=True)\n",
    "monthly_trips_2014.drop(columns='date_month_num', inplace=True)"
   ]
  },
  {
   "cell_type": "code",
   "execution_count": null,
   "metadata": {},
   "outputs": [],
   "source": [
    "monthly_trips_2014"
   ]
  },
  {
   "cell_type": "code",
   "execution_count": null,
   "metadata": {},
   "outputs": [],
   "source": [
    "monthly_trips_2014.total_trip_time_hr[:8].sum()"
   ]
  },
  {
   "cell_type": "code",
   "execution_count": null,
   "metadata": {},
   "outputs": [],
   "source": [
    "monthly_trips_2014.total_trip_time_hr.sum()"
   ]
  },
  {
   "cell_type": "markdown",
   "metadata": {},
   "source": [
    "#### 5.1.4 - Summary\n",
    "This data analysis was constrained by rides that were 8 hours or less.\n",
    "* Total hours for 2016** = 44872.85     \n",
    "* Total hours for 2015 = 76309.37\n",
    "* Total hours for 2014 = 77896.67\n",
    "\n",
    "Years constrained to Aug will serve as better comparison for 2016.\n",
    "* 2016 Jan - Aug hours** = 44872.85\n",
    "* 2015 Jan - Aug hours = 54271.54\n",
    "* 2015 Jan - Aug hours = 53162.95\n",
    "\n",
    "** Data available from Jan - Aug"
   ]
  },
  {
   "cell_type": "markdown",
   "metadata": {},
   "source": [
    "\n"
   ]
  },
  {
   "cell_type": "markdown",
   "metadata": {},
   "source": [
    "### 5.2 Plot Total Trip Duration by Month"
   ]
  },
  {
   "cell_type": "code",
   "execution_count": null,
   "metadata": {},
   "outputs": [],
   "source": [
    "fig, ax = plt.subplots(3,1,figsize = (16,26), sharex=True,)\n",
    "ax[0].bar(monthly_trips_2016.index, monthly_trips_2016.total_trip_time_hr,color='b')\n",
    "ax[0].set_title('2016 Total Trip Duration by Month (Jan - Aug)',fontweight='bold',fontsize=24)\n",
    "ax[0].set_xlabel('Month', fontsize=20, weight='bold')\n",
    "ax[0].set_ylabel('Total Trip Duration (hr)', fontsize=20, weight='bold');\n",
    "ax[0].set_xticklabels(monthly_trips_2016.index,fontsize=16,rotation=45); \n",
    "ax[0].set(ylim=(0,10000))\n",
    "ax[0].set_axisbelow(True)\n",
    "ax[0].grid(True, axis='y')\n",
    "\n",
    "ax[1].bar(monthly_trips_2015.index, monthly_trips_2015.total_trip_time_hr,color='g')\n",
    "ax[1].set_title('2015 Total Trip Duration by Month',fontweight='bold',fontsize=24)\n",
    "ax[1].set_xlabel('Month', fontsize=20, weight='bold')\n",
    "ax[1].set_ylabel('Total Trip Duration (hr)', fontsize=20, weight='bold');\n",
    "ax[1].set_xticklabels(monthly_trips_2015.index,fontsize=16,rotation=45); \n",
    "ax[1].set(ylim=(0,10000))\n",
    "ax[1].set_axisbelow(True)\n",
    "ax[1].grid(True, axis='y')\n",
    "\n",
    "ax[2].bar(monthly_trips_2014.index, monthly_trips_2014.total_trip_time_hr,color='r')\n",
    "ax[2].set_title('2014 Total Trip Duration by Month',fontweight='bold',fontsize=24)\n",
    "ax[2].set_xlabel('Month', fontsize=20, weight='bold')\n",
    "ax[2].set_ylabel('Total Trip Duration (hr)', fontsize=20, weight='bold');\n",
    "ax[2].set_xticklabels(monthly_trips_2014.index,fontsize=16, rotation=45); \n",
    "ax[2].set(ylim=(0,10000))\n",
    "ax[2].set_axisbelow(True)\n",
    "ax[2].grid(True, axis='y')\n",
    "\n",
    "# Restored xtick labels after sharex=True\n",
    "for a in fig.axes:\n",
    "    a.tick_params(\n",
    "    axis='x',           # changes apply to the x-axis\n",
    "    which='both',       # both major and minor ticks are affected\n",
    "    bottom=True,\n",
    "    top=False,\n",
    "    labelbottom=True)\n",
    "\n",
    "fig.tight_layout(pad=5)\n",
    "\n",
    "plt.show()"
   ]
  },
  {
   "cell_type": "markdown",
   "metadata": {},
   "source": [
    "\n"
   ]
  },
  {
   "cell_type": "markdown",
   "metadata": {},
   "source": [
    "### 5.3 Plot Avgerage Daily Total of Trip Duration by Month"
   ]
  },
  {
   "cell_type": "code",
   "execution_count": null,
   "metadata": {},
   "outputs": [],
   "source": [
    "fig, ax = plt.subplots(3,1,figsize = (16,26), sharex=True,)\n",
    "ax[0].bar(monthly_trips_2016.index, monthly_trips_2016.avg_hour_per_day,color='b')\n",
    "ax[0].set_title('2016 Average Daily Total of Trip Duration by Month (Jan - Aug)',fontweight='bold',fontsize=24)\n",
    "ax[0].set_xlabel('Month', fontsize=20, weight='bold')\n",
    "ax[0].set_ylabel('Total Trip Duration (hr)', fontsize=20, weight='bold');\n",
    "ax[0].set_xticklabels(monthly_trips_2016.index,fontsize=16,rotation=45); \n",
    "ax[0].set(ylim=(0,300))\n",
    "ax[0].set_axisbelow(True)\n",
    "ax[0].grid(True, axis='y')\n",
    "\n",
    "\n",
    "ax[1].bar(monthly_trips_2015.index, monthly_trips_2015.avg_hour_per_day,color='g')\n",
    "ax[1].set_title('2015 Average Daily Total of Trip Duration by Month',fontweight='bold',fontsize=24)\n",
    "ax[1].set_xlabel('Month', fontsize=20, weight='bold')\n",
    "ax[1].set_ylabel('Total Trip Duration (hr)', fontsize=20, weight='bold');\n",
    "ax[1].set_xticklabels(monthly_trips_2015.index,fontsize=16,rotation=45); \n",
    "ax[1].set(ylim=(0,300))\n",
    "ax[1].set_axisbelow(True)\n",
    "ax[1].grid(True, axis='y')\n",
    "\n",
    "ax[2].bar(monthly_trips_2014.index, monthly_trips_2014.avg_hour_per_day,color='r')\n",
    "ax[2].set_title('2014 Average Daily Total of Trip Duration by Month',fontweight='bold',fontsize=24)\n",
    "ax[2].set_xlabel('Month', fontsize=20, weight='bold')\n",
    "ax[2].set_ylabel('Total Trip Duration (hr)', fontsize=20, weight='bold');\n",
    "ax[2].set_xticklabels(monthly_trips_2014.index,fontsize=16, rotation=45); \n",
    "ax[2].set(ylim=(0,300))\n",
    "ax[2].set_axisbelow(True)\n",
    "ax[2].grid(True, axis='y')\n",
    "\n",
    "# Restored xtick labels after sharex=True\n",
    "for a in fig.axes:\n",
    "    a.tick_params(\n",
    "    axis='x',           # changes apply to the x-axis\n",
    "    which='both',       # both major and minor ticks are affected\n",
    "    bottom=True,\n",
    "    top=False,\n",
    "    labelbottom=True)\n",
    "\n",
    "fig.tight_layout(pad=5)\n",
    "\n",
    "plt.show()"
   ]
  },
  {
   "cell_type": "markdown",
   "metadata": {},
   "source": [
    "### 5.4 Summary\n",
    "\n",
    "The data shows that ridership decreased from 2014 to 2015.  With the data available from 2016 and projections made from 2014 and 2015, 2016 will most likely end up a down year as well.  From the above graphs, it is evident that the total duration of trips and average daily total of trips decreases during November and December. The cold/rainy weather of November and December could contribute to the downturn in ridership.  Motivating/incentivizing customers to ride during November and December would increase ridership during the slowest months of the year.\n",
    "\n",
    "In this scenario, the average daily total of trip duration paints a better picture of the full story.  Some months have more days than other months.  Therefore comparing the total trip duration by month will represent an unfair distribution."
   ]
  },
  {
   "cell_type": "markdown",
   "metadata": {},
   "source": [
    "\n"
   ]
  },
  {
   "cell_type": "markdown",
   "metadata": {},
   "source": [
    "### 6.0 Station Capacity"
   ]
  },
  {
   "cell_type": "markdown",
   "metadata": {},
   "source": [
    "#### 6.1 Station Capacity (from bikeshare_stations)"
   ]
  },
  {
   "cell_type": "code",
   "execution_count": null,
   "metadata": {},
   "outputs": [],
   "source": [
    "pd.set_option('display.max_rows', 100)"
   ]
  },
  {
   "cell_type": "code",
   "execution_count": null,
   "metadata": {},
   "outputs": [],
   "source": [
    "%%bigquery station_capacity\n",
    "SELECT station_id, name, dockcount\n",
    "FROM bigquery-public-data.san_francisco.bikeshare_stations\n",
    "ORDER BY station_id"
   ]
  },
  {
   "cell_type": "code",
   "execution_count": null,
   "metadata": {},
   "outputs": [],
   "source": [
    "station_capacity.head(75)"
   ]
  },
  {
   "cell_type": "markdown",
   "metadata": {},
   "source": [
    "#### 6.2 Calculate Station Capacity From Most Recent Time Stamp (more accurate from bikeshare_status)"
   ]
  },
  {
   "cell_type": "markdown",
   "metadata": {},
   "source": [
    "A bit of commentary on the code below.\n",
    "\n",
    "It takes the most recent poll from the bikeshare_status table for each station, then adds the bike availability to the dock availability for an up-to-the-minute station capacity.  This code would detect if a dock were added or removed from a station."
   ]
  },
  {
   "cell_type": "code",
   "execution_count": null,
   "metadata": {},
   "outputs": [],
   "source": [
    "%%bigquery station_capacity_most_recent\n",
    "SELECT * , (bikes_available + docks_available) as station_capacity\n",
    "FROM(\n",
    "SELECT t1.station_id, t1.bikes_available, t1.docks_available  FROM bigquery-public-data.san_francisco.bikeshare_status as t1\n",
    "JOIN(\n",
    "SELECT station_id, max(time) as mostrecent\n",
    "FROM bigquery-public-data.san_francisco.bikeshare_status\n",
    "GROUP BY station_id) as t2\n",
    "ON t1.station_id = t2.station_id and t1.time=t2.mostrecent\n",
    "ORDER BY t1.station_id)"
   ]
  },
  {
   "cell_type": "code",
   "execution_count": null,
   "metadata": {},
   "outputs": [],
   "source": [
    "station_capacity_most_recent.set_index('station_id', inplace=True, drop=True)\n",
    "station_capacity_most_recent.drop(columns=['bikes_available','docks_available'], inplace=True)"
   ]
  },
  {
   "cell_type": "code",
   "execution_count": null,
   "metadata": {},
   "outputs": [],
   "source": [
    "station_capacity_most_recent.head(25)"
   ]
  },
  {
   "cell_type": "markdown",
   "metadata": {},
   "source": [
    "### 6.3 Summary\n",
    "The bike station capacity will be used in further analysis."
   ]
  },
  {
   "cell_type": "markdown",
   "metadata": {},
   "source": [
    "\n"
   ]
  },
  {
   "cell_type": "markdown",
   "metadata": {},
   "source": [
    "### 7.0 2016 Top Stations Low Bikes/Docks Percent During Busiest Hours 5AM to 8PM"
   ]
  },
  {
   "cell_type": "markdown",
   "metadata": {},
   "source": [
    "#### Views used to create low_percent_by_top_stations_5to20_2016"
   ]
  },
  {
   "cell_type": "markdown",
   "metadata": {},
   "source": [
    "##### View 1"
   ]
  },
  {
   "cell_type": "markdown",
   "metadata": {},
   "source": [
    "Below is the bq I used to create the percentage of time that a particular bike station has low bikes available or low dock space available.  In order to calculate the \"station low\" percentage, I counted the total number of occurrences when bike availability was low (0,1, or 2 bikes available) and add that to the total of occurrences when dock availability was low.  I then divide that number by the total number of polls made on the bike station and multiply by 100 to derive the percentage of time that bikes/docks are low at a particular station.  \n",
    "\n",
    "I define low as 0, 1, or 2.  Interestingly, I am using both the bike availability low and dock availability low to calculate this metric.  Here is why: If there are zero bikes available, no trips will be started.  Also, if 1 or 2 bikes are available, there is a possibility that the bikes remaining in the dock may be damaged. Therefore a customer will not check the bike out.  On the other hand, low docking stations may deter customers from starting a trip.  They may feel that if there are low amounts of docking stations at the current station, then there may not be any available docking stations at the next station.\n",
    "\n",
    "I considered only the hours of 5 AM to 8 PM for this view.  The reason for doing so is because 96% of all trips are within that timeframe. Earlier in the analysis, I calculated this figure.  This will give better insight into the station bike/dock availability during the times that matter.  If hours outside of this time frame were considered, the average percent during peak hours would not be represented.  My intent was to capture the customers' perception of bike stations--which accomplished by analyzing the busiest hours of the day 5 AM - 8 PM."
   ]
  },
  {
   "cell_type": "code",
   "execution_count": null,
   "metadata": {},
   "outputs": [],
   "source": [
    "%%bigquery station_low_percent_5to20_2016 \n",
    "\n",
    "SELECT station_id, round(AVG(low_percent),2) low_percent_avg\n",
    "FROM(\n",
    "SELECT *, round(((bikes_low + docks_low)/docks_count)*100,2) low_percent\n",
    "FROM(\n",
    "    SELECT EXTRACT(YEAR FROM time) AS date_year,\n",
    "           EXTRACT(HOUR FROM time) date_hour,\n",
    "           station_id,\n",
    "           SUM(case when bikes_available IN (0,1,2) THEN 1 ELSE 0 END) as bikes_low,\n",
    "           COUNT(bikes_available) as bikes_count,\n",
    "           SUM(case when docks_available IN (0,1,2) THEN 1 ELSE 0 END) as docks_low,\n",
    "           COUNT(docks_available) as docks_count\n",
    "    FROM bigquery-public-data.san_francisco.bikeshare_status\n",
    "    GROUP BY date_year, date_hour, station_id\n",
    "    ORDER BY date_year DESC, station_id\n",
    "    )\n",
    "WHERE date_year = 2016 and date_hour BETWEEN 5 AND 20\n",
    "ORDER BY station_id, date_hour)\n",
    "GROUP BY station_id\n",
    "ORDER BY station_id"
   ]
  },
  {
   "cell_type": "code",
   "execution_count": null,
   "metadata": {},
   "outputs": [],
   "source": [
    "station_low_percent_5to20_2016.head()"
   ]
  },
  {
   "cell_type": "markdown",
   "metadata": {},
   "source": [
    "##### View 2"
   ]
  },
  {
   "cell_type": "markdown",
   "metadata": {},
   "source": [
    "Below is the bq I used to create a view with a few calculations regarding trips less than 8 hours.  The column that I sought to create was percent_trip_time.  This column represents the percent of total trips that the corresponding station contributes to the overall trip duration.  For example, in 2016, 7.43% of all trips started from Harry Bridges Plaza.  I will use the percent of total trips joined with the percent of bike station low percent, and all of that joined with the dock capacity to present a recommendation.  "
   ]
  },
  {
   "cell_type": "code",
   "execution_count": null,
   "metadata": {},
   "outputs": [],
   "source": [
    "%%bigquery start_station_lesseq_8_2016\n",
    "\n",
    "SELECT *\n",
    "FROM(\n",
    "    SELECT \n",
    "        extract(year from start_date) AS date_year,\n",
    "        start_station_id,\n",
    "        max(start_station_name) station_name,\n",
    "        count(distinct trip_id) AS num_trips,\n",
    "        round(sum(duration_sec)/60,0) AS total_trip_time,\n",
    "        round(avg(duration_sec/60),0) AS avg_trip_time,\n",
    "        round(sum((((duration_sec)/60)/2692370)*100),2) AS percent_trip_time,\n",
    "        round(min(duration_sec/60),1) AS min_trip_time,\n",
    "        round(max(duration_sec/60),1) AS max_trip_time\n",
    "    FROM studied-bounty-276502.project_01.trips_lesseq_8hr\n",
    "    GROUP BY 1,2\n",
    "    ORDER BY 7 DESC\n",
    "    )\n",
    "WHERE date_year = 2016"
   ]
  },
  {
   "cell_type": "code",
   "execution_count": null,
   "metadata": {},
   "outputs": [],
   "source": [
    "start_station_lesseq_8_2016.head(100)"
   ]
  },
  {
   "cell_type": "markdown",
   "metadata": {},
   "source": [
    "##### View 3"
   ]
  },
  {
   "cell_type": "markdown",
   "metadata": {},
   "source": [
    "Below is the bq I used to create a view with the zip codes, city, ad county for each station."
   ]
  },
  {
   "cell_type": "code",
   "execution_count": null,
   "metadata": {},
   "outputs": [],
   "source": [
    "%%bigquery station_zip_codes\n",
    "\n",
    "WITH t1 AS \n",
    "(\n",
    "SELECT ST_GEOGPOINT(longitude, latitude) point, station_id, station_name\n",
    "FROM(\n",
    "    SELECT station_id, max(name) AS station_name, max(latitude) as latitude, max(longitude) as longitude FROM `bigquery-public-data.san_francisco.bikeshare_stations`\n",
    "    GROUP BY station_id\n",
    "    ORDER BY station_id\n",
    "    )\n",
    ")\n",
    "SELECT t1.station_id, t1.station_name, zip_code, city, county\n",
    "FROM `bigquery-public-data.geo_us_boundaries.zip_codes`\n",
    "JOIN t1 ON ST_WITHIN(point, zip_code_geom)\n",
    "ORDER BY station_id"
   ]
  },
  {
   "cell_type": "code",
   "execution_count": null,
   "metadata": {},
   "outputs": [],
   "source": [
    "station_zip_codes.head()"
   ]
  },
  {
   "cell_type": "markdown",
   "metadata": {},
   "source": [
    "#### Table 7.1\n",
    "This table contains the percent of trips, by duration, that start from a particular station and the percent of time that station has either low bike availability or low dock availability.  I also included the dock count of each station."
   ]
  },
  {
   "cell_type": "code",
   "execution_count": null,
   "metadata": {},
   "outputs": [],
   "source": [
    "%%bigquery low_percent_by_top_stations_5to20_2016\n",
    "\n",
    "SELECT t03.*, t04.dockcount dockcount FROM bigquery-public-data.san_francisco.bikeshare_stations as t04\n",
    "JOIN(\n",
    "SELECT \n",
    "    t01.start_station_id, \n",
    "    t01.start_station_name, \n",
    "    t01.percent_trip_time,\n",
    "    t02.low_percent_avg, \n",
    "FROM studied-bounty-276502.project_01.start_station_lesseq_8_2016 AS t01\n",
    "INNER JOIN studied-bounty-276502.project_01.station_low_percent_5to20_2016 AS t02 ON t01.start_station_id = t02.station_id\n",
    "ORDER BY percent_trip_time DESC) as t03\n",
    "ON t04.station_id = t03.start_station_id\n",
    "ORDER BY percent_trip_time DESC"
   ]
  },
  {
   "cell_type": "markdown",
   "metadata": {},
   "source": [
    "\n"
   ]
  },
  {
   "cell_type": "code",
   "execution_count": null,
   "metadata": {},
   "outputs": [],
   "source": [
    "low_percent_by_top_stations_5to20_2016.head(10)"
   ]
  },
  {
   "cell_type": "markdown",
   "metadata": {},
   "source": [
    "#### Table 7.2\n",
    "This table contains the percent of trips, by duration, that start from a particular station and the percent of time that station has either low bike availability or low dock availability.  I also included the dock count of each station."
   ]
  },
  {
   "cell_type": "code",
   "execution_count": null,
   "metadata": {},
   "outputs": [],
   "source": [
    "%%bigquery low_percent_zipcodes_by_top_stations_5to20_2016\n",
    "\n",
    "SELECT \n",
    "    t01.start_station_id, \n",
    "    t01.start_station_name, \n",
    "    t01.percent_trip_time,\n",
    "    t01.low_percent_avg, \n",
    "    t01.dockcount,\n",
    "    t02.zip_code,\n",
    "    t02.city,\n",
    "    t02.county\n",
    "FROM studied-bounty-276502.project_01.prejoin_duration_lowcapacity AS t01\n",
    "JOIN studied-bounty-276502.project_01.prejoin_zip_codes AS t02 ON t01.start_station_id = t02.station_id\n",
    "ORDER BY percent_trip_time DESC"
   ]
  },
  {
   "cell_type": "markdown",
   "metadata": {},
   "source": [
    "\n"
   ]
  },
  {
   "cell_type": "code",
   "execution_count": null,
   "metadata": {},
   "outputs": [],
   "source": [
    "low_percent_zipcodes_by_top_stations_5to20_2016"
   ]
  },
  {
   "cell_type": "markdown",
   "metadata": {},
   "source": [
    "#### Calculations"
   ]
  },
  {
   "cell_type": "markdown",
   "metadata": {},
   "source": [
    "The top ten stations make up 46% of business."
   ]
  },
  {
   "cell_type": "code",
   "execution_count": null,
   "metadata": {},
   "outputs": [],
   "source": [
    "low_percent_by_top_stations_5to20_2016.percent_trip_time.head(10).sum()"
   ]
  },
  {
   "cell_type": "markdown",
   "metadata": {},
   "source": [
    "The top ten stations average a low bike/dock availability 15% of the time."
   ]
  },
  {
   "cell_type": "code",
   "execution_count": null,
   "metadata": {},
   "outputs": [],
   "source": [
    "round(low_percent_by_top_stations_5to20_2016.low_percent_avg.head(10).mean(),2)"
   ]
  },
  {
   "cell_type": "markdown",
   "metadata": {},
   "source": [
    "The top five stations comprise 30% of business."
   ]
  },
  {
   "cell_type": "code",
   "execution_count": null,
   "metadata": {},
   "outputs": [],
   "source": [
    "round(low_percent_by_top_stations_5to20_2016.percent_trip_time[:5].sum(),2)"
   ]
  },
  {
   "cell_type": "markdown",
   "metadata": {},
   "source": [
    "The top five stations average a low bike/dock availability 21.2% of the time."
   ]
  },
  {
   "cell_type": "code",
   "execution_count": null,
   "metadata": {},
   "outputs": [],
   "source": [
    "round(low_percent_by_top_stations_5to20_2016.low_percent_avg[:5].mean(),2)"
   ]
  },
  {
   "cell_type": "markdown",
   "metadata": {},
   "source": [
    "The top three stations account for 20% of business."
   ]
  },
  {
   "cell_type": "code",
   "execution_count": null,
   "metadata": {},
   "outputs": [],
   "source": [
    "round(low_percent_by_top_stations_5to20_2016.percent_trip_time[:3].sum(),2)"
   ]
  },
  {
   "cell_type": "markdown",
   "metadata": {},
   "source": [
    "The top three stations average a low bike/dock availability 23.7% of the time."
   ]
  },
  {
   "cell_type": "code",
   "execution_count": null,
   "metadata": {},
   "outputs": [],
   "source": [
    "round(low_percent_by_top_stations_5to20_2016.low_percent_avg[:3].mean(),2)"
   ]
  },
  {
   "cell_type": "markdown",
   "metadata": {},
   "source": [
    "### 7.1 Summary\n",
    "\n",
    "This is my favorite analysis, partly because I learned how to join three tables and two views, and partly because the insights are fantastic.  From the table, it is evident that the top ten starting stations account for 46% of all 2016 trip duration.  When averaging low bike/rack availability across the top ten stations, it becomes apparent that these stations are low on bikes or racks 15% of the time.  As we look at the top three bike stations, which account for 21% of the business, that number jumps to 23.6%.  From the outside looking in, one way to generate more rides would be to decrease the low bike and rack availability by at least 10% initially. "
   ]
  },
  {
   "cell_type": "markdown",
   "metadata": {},
   "source": [
    "---\n",
    "# What are the most popular commuter trips?"
   ]
  },
  {
   "cell_type": "markdown",
   "metadata": {},
   "source": [
    "#### Commuter trip assumptions:\n",
    "1. Commuter trips will initially be limited to 30 minutes or less--95% of trips fall within this time frame.  My definition of commute is repeated travel between locations.  I will filter by morning  hours 5 AM to 10 AM in an attempt to capture on leg of the trip--not the leg back.  The avg commuter trip duration will ultimately determine the window of time for a commuter trip.\n",
    "2. Subscribers will be considered commuters.  However, customers who fall within the bounds of subscriber average trip times will not be left out of the analysis.  They may be commuters, but it is less likely that a customer would commute frequently without subscribing.\n",
    "3. A commuter trip starts at one station and ends at another station."
   ]
  },
  {
   "cell_type": "markdown",
   "metadata": {},
   "source": [
    "### 1.0 Calculate the Average Commuter Trip Duration"
   ]
  },
  {
   "cell_type": "markdown",
   "metadata": {},
   "source": [
    "The average commuter trip is 8min 41sec.  The standard deviation is 259 sec.  Subscribers make up 84% of trips 30 mins or less.  \n",
    "\n",
    "I calculate the average commuter trip by taking the avg of all subscriber trips in the dataset.   I also calculated the standard deviation and the percent of total trips by subscriber vs. non-subscriber.  Remember, all of this calculated while examining trips of less than 30 minutes."
   ]
  },
  {
   "cell_type": "code",
   "execution_count": null,
   "metadata": {},
   "outputs": [],
   "source": [
    "%%bigquery bikeshare_trips_less_30_min\n",
    "\n",
    "SELECT \n",
    "subscriber_type, \n",
    "ROUND(AVG(duration_sec),2) avg_dur_sec,\n",
    "ROUND(STDDEV(duration_sec),0) stddev_sec,\n",
    "ROUND(((SUM(duration_sec)/3600)/144878)*100,2) tot_dur_percent\n",
    "FROM bigquery-public-data.san_francisco.bikeshare_trips \n",
    "WHERE duration_sec <=1800\n",
    "GROUP BY subscriber_type\n",
    "ORDER BY tot_dur_percent DESC"
   ]
  },
  {
   "cell_type": "code",
   "execution_count": null,
   "metadata": {},
   "outputs": [],
   "source": [
    "bikeshare_trips_less_30_min"
   ]
  },
  {
   "cell_type": "markdown",
   "metadata": {},
   "source": [
    "\n"
   ]
  },
  {
   "cell_type": "markdown",
   "metadata": {},
   "source": [
    "### 2.0 Determine Commuter Trip Time Frame"
   ]
  },
  {
   "cell_type": "markdown",
   "metadata": {},
   "source": [
    "Subscribers make up 93.56% percent of trips between 262 and 780 seconds.  I determined this by summing a case function for subscribers among the dataset.  Also, I calculated that 67.37% of all trips less than 30 mins fall between 262 and 780 seconds.  Through my calculations and logical reasoning, I can assume that 64.37% (95% * 67.63% = 64.37%) of all trips are commuter trips.  This amount of commuter trips seems plausible."
   ]
  },
  {
   "cell_type": "code",
   "execution_count": null,
   "metadata": {},
   "outputs": [],
   "source": [
    "%%bigquery time_for_trip_percent_final\n",
    "\n",
    "SELECT *, \n",
    "  round((subscriber_count/(subscriber_count + customer_count))*100,2) sub_percent, \n",
    "  round(((subscriber_count + customer_count)/936311)*100, 2) percent_of_all_trips_between_262_780\n",
    "FROM(\n",
    "SELECT \n",
    "  SUM(case when subscriber_type = 'Subscriber' then 1 else 0 end) subscriber_count,\n",
    "  SUM(case when subscriber_type = 'Customer' then 1 else 0 end) customer_count\n",
    "FROM bigquery-public-data.san_francisco.bikeshare_trips \n",
    "WHERE duration_sec BETWEEN 262 AND 780)"
   ]
  },
  {
   "cell_type": "code",
   "execution_count": null,
   "metadata": {},
   "outputs": [],
   "source": [
    "time_for_trip_percent_final"
   ]
  },
  {
   "cell_type": "markdown",
   "metadata": {},
   "source": [
    "### 3.0 Determine Most Popular Commuter Trips "
   ]
  },
  {
   "cell_type": "markdown",
   "metadata": {},
   "source": [
    "To determine the most popular commuter trips, I first extract the hour and day from each trip's timestamp.  Next, I constrain the return to the hours of 5 AM to 10 AM and weekdays (Mon, Tue, Wed, Thu, Fri).  The hours of 5 AM and 10 AM are reasonable time frames for commutes, as well as during the weekdays.  All of this using the time frame of 262 to 780 seconds for trip duration, and grouped by the start and end station, then ordered by the number of trips, returns the most popular commuter trips."
   ]
  },
  {
   "cell_type": "code",
   "execution_count": null,
   "metadata": {},
   "outputs": [],
   "source": [
    "%%bigquery pop_commuter_trips_morning\n",
    "\n",
    "SELECT \n",
    "    start_station_name, \n",
    "    end_station_name, \n",
    "    COUNT(DISTINCT trip_id) num_trips,\n",
    "FROM(\n",
    "    SELECT\n",
    "        EXTRACT(HOUR FROM start_date) date_hour,\n",
    "        FORMAT_DATETIME(\"%a\", DATETIME(start_date)) day_of_week,\n",
    "        start_station_name, \n",
    "        end_station_name,\n",
    "        trip_id\n",
    "    FROM bigquery-public-data.san_francisco.bikeshare_trips \n",
    "    WHERE duration_sec BETWEEN 262 AND 780\n",
    "    )\n",
    "WHERE date_hour BETWEEN 5 AND 10 and day_of_week IN ('Mon', 'Tue', 'Wed', 'Thur', 'Fri') and start_station_name <> end_station_name\n",
    "GROUP BY start_station_name, end_station_name\n",
    "ORDER BY num_trips DESC"
   ]
  },
  {
   "cell_type": "code",
   "execution_count": null,
   "metadata": {},
   "outputs": [],
   "source": [
    "%%bigquery pop_commuter_trips_evening\n",
    "\n",
    "SELECT \n",
    "    start_station_name, \n",
    "    end_station_name, \n",
    "    COUNT(DISTINCT trip_id) num_trips,\n",
    "FROM(\n",
    "    SELECT\n",
    "        EXTRACT(YEAR FROM start_date) date_year,\n",
    "        EXTRACT(HOUR FROM start_date) date_hour,\n",
    "        FORMAT_DATETIME(\"%a\", DATETIME(start_date)) day_of_week,\n",
    "        start_station_name, \n",
    "        end_station_name,\n",
    "        trip_id\n",
    "    FROM bigquery-public-data.san_francisco.bikeshare_trips \n",
    "    WHERE duration_sec BETWEEN 262 AND 780\n",
    "    )\n",
    "WHERE date_hour BETWEEN 15 AND 20 and day_of_week IN ('Mon', 'Tue', 'Wed', 'Thur', 'Fri')  and start_station_name <> end_station_name\n",
    "GROUP BY start_station_name, end_station_name\n",
    "ORDER BY num_trips DESC"
   ]
  },
  {
   "cell_type": "code",
   "execution_count": null,
   "metadata": {},
   "outputs": [],
   "source": [
    "pop_commuter_trips_morning.head(20)"
   ]
  },
  {
   "cell_type": "code",
   "execution_count": null,
   "metadata": {},
   "outputs": [],
   "source": [
    "pop_commuter_trips_morning.head(5)"
   ]
  },
  {
   "cell_type": "code",
   "execution_count": null,
   "metadata": {},
   "outputs": [],
   "source": [
    "pop_commuter_trips_evening.head(5)"
   ]
  },
  {
   "cell_type": "markdown",
   "metadata": {},
   "source": [
    "#### The top 5 most popular commuter trips are (drum roll)...."
   ]
  },
  {
   "cell_type": "code",
   "execution_count": null,
   "metadata": {},
   "outputs": [],
   "source": [
    "pop_commuter_trips_morning.head(5)"
   ]
  },
  {
   "cell_type": "markdown",
   "metadata": {},
   "source": [
    "It is somewhat reassuring to see that three of the most popular trips start station at the beginning of the day become the end stations at the end of the day.  Another observation is the top commuter trip (in the morning) becomes the top trip start station and end station reversed in the evening. Harry Bridges Plaza to 2nd at Townsend is the most popular trip in the morning while 2nd at Townsend to Harry Bridges Plaza is the most popular trip in the evening."
   ]
  }
 ],
 "metadata": {
  "environment": {
   "name": "tf2-gpu.2-1.m46",
   "type": "gcloud",
   "uri": "gcr.io/deeplearning-platform-release/tf2-gpu.2-1:m46"
  },
  "kernelspec": {
   "display_name": "Python 3",
   "language": "python",
   "name": "python3"
  },
  "language_info": {
   "codemirror_mode": {
    "name": "ipython",
    "version": 3
   },
   "file_extension": ".py",
   "mimetype": "text/x-python",
   "name": "python",
   "nbconvert_exporter": "python",
   "pygments_lexer": "ipython3",
   "version": "3.7.4"
  }
 },
 "nbformat": 4,
 "nbformat_minor": 4
}
