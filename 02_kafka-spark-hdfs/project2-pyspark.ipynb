{
 "cells": [
  {
   "cell_type": "markdown",
   "metadata": {},
   "source": [
    "### Import json and pandas"
   ]
  },
  {
   "cell_type": "code",
   "execution_count": 2,
   "metadata": {
    "collapsed": true
   },
   "outputs": [],
   "source": [
    "import json\n",
    "import pandas as pd\n",
    "import matplotlib.pyplot as plt\n",
    "from pyspark.sql.types import StructType, StructField, StringType, IntegerType, TimestampType, BooleanType, DateType, DoubleType \n",
    "from pyspark.sql.functions import explode\n",
    "from pyspark.sql import Row"
   ]
  },
  {
   "cell_type": "markdown",
   "metadata": {},
   "source": [
    "# 1.0 Flattening and Exploratory Data Analysis"
   ]
  },
  {
   "cell_type": "markdown",
   "metadata": {},
   "source": [
    "### Pipeline\n",
    "\n",
    "At this point, the data is being published to the streaming context portion of the pipeline.  The messages are read through the queue.  Kafka topic is assessments with one partition and a replication factor of one.  Some of the events that take place in the streaming context are decoration and notifications."
   ]
  },
  {
   "cell_type": "markdown",
   "metadata": {},
   "source": [
    "### Creating a Kafka source for streaming queries. Read messages from Kafka topic assessments. \n",
    "Setting the port of the Kafka container.  \n",
    "Subscribe to topic assessments.  Reading from one topic.\n",
    "Offset starts at the beginning.  \n",
    "Read until the end of the file.  \n",
    "Load the data in raw assessments."
   ]
  },
  {
   "cell_type": "code",
   "execution_count": 5,
   "metadata": {
    "collapsed": true
   },
   "outputs": [],
   "source": [
    "raw_assessments = spark \\\n",
    "  .read \\\n",
    "  .format(\"kafka\") \\\n",
    "  .option(\"kafka.bootstrap.servers\", \"kafka:29092\") \\\n",
    "  .option(\"subscribe\",\"assessments\") \\\n",
    "  .option(\"startingOffsets\", \"earliest\") \\\n",
    "  .option(\"endingOffsets\", \"latest\") \\\n",
    "  .load()"
   ]
  },
  {
   "cell_type": "markdown",
   "metadata": {},
   "source": [
    "raw_assessments is a pyspark.sql.dataframe"
   ]
  },
  {
   "cell_type": "code",
   "execution_count": 6,
   "metadata": {},
   "outputs": [
    {
     "data": {
      "text/plain": [
       "pyspark.sql.dataframe.DataFrame"
      ]
     },
     "execution_count": 6,
     "metadata": {},
     "output_type": "execute_result"
    }
   ],
   "source": [
    "type(raw_assessments)"
   ]
  },
  {
   "cell_type": "markdown",
   "metadata": {},
   "source": [
    "Load raw_assessments into cache."
   ]
  },
  {
   "cell_type": "code",
   "execution_count": 7,
   "metadata": {},
   "outputs": [
    {
     "data": {
      "text/plain": [
       "DataFrame[key: binary, value: binary, topic: string, partition: int, offset: bigint, timestamp: timestamp, timestampType: int]"
      ]
     },
     "execution_count": 7,
     "metadata": {},
     "output_type": "execute_result"
    }
   ],
   "source": [
    "raw_assessments.cache()"
   ]
  },
  {
   "cell_type": "markdown",
   "metadata": {},
   "source": [
    "## 1.1 Initial Schema\n",
    "\n",
    "After initially importing the assessment json file, it is noticed that the column 'value' is of type binary.  The binary format is then converted to type string.  Thorough exploratory data analysis of the first assessment ensues.  The analysis reveals that much of the pertinent data needed to obtain insights are nested inside the sequences object.  At this point, it is evident that the file is nested quite extensively.  Custom functions were used to extract some of the data.  Although the outcome was successful, the means to the end were complex.  A third party data scientist could be reluctant to attempt further analysis.   In order to prepare the file for third-party data scientists, other attempts will be made to more easily access the data inside counts and sequences.  The data contained within counts and questions are essential for gaining valuable assessment insights."
   ]
  },
  {
   "cell_type": "markdown",
   "metadata": {},
   "source": [
    "### Print schema"
   ]
  },
  {
   "cell_type": "code",
   "execution_count": 8,
   "metadata": {
    "scrolled": false
   },
   "outputs": [
    {
     "name": "stdout",
     "output_type": "stream",
     "text": [
      "root\n",
      " |-- key: binary (nullable = true)\n",
      " |-- value: binary (nullable = true)\n",
      " |-- topic: string (nullable = true)\n",
      " |-- partition: integer (nullable = true)\n",
      " |-- offset: long (nullable = true)\n",
      " |-- timestamp: timestamp (nullable = true)\n",
      " |-- timestampType: integer (nullable = true)\n",
      "\n"
     ]
    }
   ],
   "source": [
    "raw_assessments.printSchema()"
   ]
  },
  {
   "cell_type": "markdown",
   "metadata": {},
   "source": [
    "### Show messages"
   ]
  },
  {
   "cell_type": "code",
   "execution_count": 9,
   "metadata": {
    "scrolled": false
   },
   "outputs": [
    {
     "name": "stdout",
     "output_type": "stream",
     "text": [
      "+----+--------------------+-----------+---------+------+--------------------+-------------+\n",
      "| key|               value|      topic|partition|offset|           timestamp|timestampType|\n",
      "+----+--------------------+-----------+---------+------+--------------------+-------------+\n",
      "|null|[7B 22 6B 65 65 6...|assessments|        0|     0|1969-12-31 23:59:...|            0|\n",
      "|null|[7B 22 6B 65 65 6...|assessments|        0|     1|1969-12-31 23:59:...|            0|\n",
      "|null|[7B 22 6B 65 65 6...|assessments|        0|     2|1969-12-31 23:59:...|            0|\n",
      "|null|[7B 22 6B 65 65 6...|assessments|        0|     3|1969-12-31 23:59:...|            0|\n",
      "|null|[7B 22 6B 65 65 6...|assessments|        0|     4|1969-12-31 23:59:...|            0|\n",
      "|null|[7B 22 6B 65 65 6...|assessments|        0|     5|1969-12-31 23:59:...|            0|\n",
      "|null|[7B 22 6B 65 65 6...|assessments|        0|     6|1969-12-31 23:59:...|            0|\n",
      "|null|[7B 22 6B 65 65 6...|assessments|        0|     7|1969-12-31 23:59:...|            0|\n",
      "|null|[7B 22 6B 65 65 6...|assessments|        0|     8|1969-12-31 23:59:...|            0|\n",
      "|null|[7B 22 6B 65 65 6...|assessments|        0|     9|1969-12-31 23:59:...|            0|\n",
      "|null|[7B 22 6B 65 65 6...|assessments|        0|    10|1969-12-31 23:59:...|            0|\n",
      "|null|[7B 22 6B 65 65 6...|assessments|        0|    11|1969-12-31 23:59:...|            0|\n",
      "|null|[7B 22 6B 65 65 6...|assessments|        0|    12|1969-12-31 23:59:...|            0|\n",
      "|null|[7B 22 6B 65 65 6...|assessments|        0|    13|1969-12-31 23:59:...|            0|\n",
      "|null|[7B 22 6B 65 65 6...|assessments|        0|    14|1969-12-31 23:59:...|            0|\n",
      "|null|[7B 22 6B 65 65 6...|assessments|        0|    15|1969-12-31 23:59:...|            0|\n",
      "|null|[7B 22 6B 65 65 6...|assessments|        0|    16|1969-12-31 23:59:...|            0|\n",
      "|null|[7B 22 6B 65 65 6...|assessments|        0|    17|1969-12-31 23:59:...|            0|\n",
      "|null|[7B 22 6B 65 65 6...|assessments|        0|    18|1969-12-31 23:59:...|            0|\n",
      "|null|[7B 22 6B 65 65 6...|assessments|        0|    19|1969-12-31 23:59:...|            0|\n",
      "+----+--------------------+-----------+---------+------+--------------------+-------------+\n",
      "only showing top 20 rows\n",
      "\n"
     ]
    }
   ],
   "source": [
    "raw_assessments.show()"
   ]
  },
  {
   "cell_type": "markdown",
   "metadata": {},
   "source": [
    "### Cast column value as strings"
   ]
  },
  {
   "cell_type": "code",
   "execution_count": 10,
   "metadata": {
    "collapsed": true
   },
   "outputs": [],
   "source": [
    "s_assessments=raw_assessments.select(raw_assessments.value.cast('string'))"
   ]
  },
  {
   "cell_type": "markdown",
   "metadata": {},
   "source": [
    "### Show s_assessments"
   ]
  },
  {
   "cell_type": "code",
   "execution_count": 11,
   "metadata": {
    "scrolled": false
   },
   "outputs": [
    {
     "name": "stdout",
     "output_type": "stream",
     "text": [
      "+--------------------+\n",
      "|               value|\n",
      "+--------------------+\n",
      "|{\"keen_timestamp\"...|\n",
      "|{\"keen_timestamp\"...|\n",
      "|{\"keen_timestamp\"...|\n",
      "|{\"keen_timestamp\"...|\n",
      "|{\"keen_timestamp\"...|\n",
      "|{\"keen_timestamp\"...|\n",
      "|{\"keen_timestamp\"...|\n",
      "|{\"keen_timestamp\"...|\n",
      "|{\"keen_timestamp\"...|\n",
      "|{\"keen_timestamp\"...|\n",
      "+--------------------+\n",
      "only showing top 10 rows\n",
      "\n"
     ]
    }
   ],
   "source": [
    "s_assessments.show(10)"
   ]
  },
  {
   "cell_type": "markdown",
   "metadata": {},
   "source": [
    "### Count the number of assessments"
   ]
  },
  {
   "cell_type": "code",
   "execution_count": 12,
   "metadata": {
    "scrolled": true
   },
   "outputs": [
    {
     "data": {
      "text/plain": [
       "6560"
      ]
     },
     "execution_count": 12,
     "metadata": {},
     "output_type": "execute_result"
    }
   ],
   "source": [
    "s_assessments.count()"
   ]
  },
  {
   "cell_type": "markdown",
   "metadata": {},
   "source": [
    "### Select the first assessment and look at it."
   ]
  },
  {
   "cell_type": "code",
   "execution_count": 13,
   "metadata": {
    "scrolled": false
   },
   "outputs": [
    {
     "data": {
      "text/plain": [
       "[Row(value='{\"keen_timestamp\":\"1516717442.735266\",\"max_attempts\":\"1.0\",\"started_at\":\"2018-01-23T14:23:19.082Z\",\"base_exam_id\":\"37f0a30a-7464-11e6-aa92-a8667f27e5dc\",\"user_exam_id\":\"6d4089e4-bde5-4a22-b65f-18bce9ab79c8\",\"sequences\":{\"questions\":[{\"user_incomplete\":true,\"user_correct\":false,\"options\":[{\"checked\":true,\"at\":\"2018-01-23T14:23:24.670Z\",\"id\":\"49c574b4-5c82-4ffd-9bd1-c3358faf850d\",\"submitted\":1,\"correct\":true},{\"checked\":true,\"at\":\"2018-01-23T14:23:25.914Z\",\"id\":\"f2528210-35c3-4320-acf3-9056567ea19f\",\"submitted\":1,\"correct\":true},{\"checked\":false,\"correct\":true,\"id\":\"d1bf026f-554f-4543-bdd2-54dcf105b826\"}],\"user_submitted\":true,\"id\":\"7a2ed6d3-f492-49b3-b8aa-d080a8aad986\",\"user_result\":\"missed_some\"},{\"user_incomplete\":false,\"user_correct\":false,\"options\":[{\"checked\":true,\"at\":\"2018-01-23T14:23:30.116Z\",\"id\":\"a35d0e80-8c49-415d-b8cb-c21a02627e2b\",\"submitted\":1},{\"checked\":false,\"correct\":true,\"id\":\"bccd6e2e-2cef-4c72-8bfa-317db0ac48bb\"},{\"checked\":true,\"at\":\"2018-01-23T14:23:41.791Z\",\"id\":\"7e0b639a-2ef8-4604-b7eb-5018bd81a91b\",\"submitted\":1,\"correct\":true}],\"user_submitted\":true,\"id\":\"bbed4358-999d-4462-9596-bad5173a6ecb\",\"user_result\":\"incorrect\"},{\"user_incomplete\":false,\"user_correct\":true,\"options\":[{\"checked\":false,\"at\":\"2018-01-23T14:23:52.510Z\",\"id\":\"a9333679-de9d-41ff-bb3d-b239d6b95732\"},{\"checked\":false,\"id\":\"85795acc-b4b1-4510-bd6e-41648a3553c9\"},{\"checked\":true,\"at\":\"2018-01-23T14:23:54.223Z\",\"id\":\"c185ecdb-48fb-4edb-ae4e-0204ac7a0909\",\"submitted\":1,\"correct\":true},{\"checked\":true,\"at\":\"2018-01-23T14:23:53.862Z\",\"id\":\"77a66c83-d001-45cd-9a5a-6bba8eb7389e\",\"submitted\":1,\"correct\":true}],\"user_submitted\":true,\"id\":\"e6ad8644-96b1-4617-b37b-a263dded202c\",\"user_result\":\"correct\"},{\"user_incomplete\":false,\"user_correct\":true,\"options\":[{\"checked\":false,\"id\":\"59b9fc4b-f239-4850-b1f9-912d1fd3ca13\"},{\"checked\":false,\"id\":\"2c29e8e8-d4a8-406e-9cdf-de28ec5890fe\"},{\"checked\":false,\"id\":\"62feee6e-9b76-4123-bd9e-c0b35126b1f1\"},{\"checked\":true,\"at\":\"2018-01-23T14:24:00.807Z\",\"id\":\"7f13df9c-fcbe-4424-914f-2206f106765c\",\"submitted\":1,\"correct\":true}],\"user_submitted\":true,\"id\":\"95194331-ac43-454e-83de-ea8913067055\",\"user_result\":\"correct\"}],\"attempt\":1,\"id\":\"5b28a462-7a3b-42e0-b508-09f3906d1703\",\"counts\":{\"incomplete\":1,\"submitted\":4,\"incorrect\":1,\"all_correct\":false,\"correct\":2,\"total\":4,\"unanswered\":0}},\"keen_created_at\":\"1516717442.735266\",\"certification\":\"false\",\"keen_id\":\"5a6745820eb8ab00016be1f1\",\"exam_name\":\"Normal Forms and All That Jazz Master Class\"}')]"
      ]
     },
     "execution_count": 13,
     "metadata": {},
     "output_type": "execute_result"
    }
   ],
   "source": [
    "first_assessment=s_assessments.select('value').take(1)\n",
    "first_assessment"
   ]
  },
  {
   "cell_type": "markdown",
   "metadata": {},
   "source": [
    "### First assessment is type list.  We must extract the first object."
   ]
  },
  {
   "cell_type": "code",
   "execution_count": 14,
   "metadata": {},
   "outputs": [
    {
     "data": {
      "text/plain": [
       "{'base_exam_id': '37f0a30a-7464-11e6-aa92-a8667f27e5dc',\n",
       " 'certification': 'false',\n",
       " 'exam_name': 'Normal Forms and All That Jazz Master Class',\n",
       " 'keen_created_at': '1516717442.735266',\n",
       " 'keen_id': '5a6745820eb8ab00016be1f1',\n",
       " 'keen_timestamp': '1516717442.735266',\n",
       " 'max_attempts': '1.0',\n",
       " 'sequences': {'attempt': 1,\n",
       "  'counts': {'all_correct': False,\n",
       "   'correct': 2,\n",
       "   'incomplete': 1,\n",
       "   'incorrect': 1,\n",
       "   'submitted': 4,\n",
       "   'total': 4,\n",
       "   'unanswered': 0},\n",
       "  'id': '5b28a462-7a3b-42e0-b508-09f3906d1703',\n",
       "  'questions': [{'id': '7a2ed6d3-f492-49b3-b8aa-d080a8aad986',\n",
       "    'options': [{'at': '2018-01-23T14:23:24.670Z',\n",
       "      'checked': True,\n",
       "      'correct': True,\n",
       "      'id': '49c574b4-5c82-4ffd-9bd1-c3358faf850d',\n",
       "      'submitted': 1},\n",
       "     {'at': '2018-01-23T14:23:25.914Z',\n",
       "      'checked': True,\n",
       "      'correct': True,\n",
       "      'id': 'f2528210-35c3-4320-acf3-9056567ea19f',\n",
       "      'submitted': 1},\n",
       "     {'checked': False,\n",
       "      'correct': True,\n",
       "      'id': 'd1bf026f-554f-4543-bdd2-54dcf105b826'}],\n",
       "    'user_correct': False,\n",
       "    'user_incomplete': True,\n",
       "    'user_result': 'missed_some',\n",
       "    'user_submitted': True},\n",
       "   {'id': 'bbed4358-999d-4462-9596-bad5173a6ecb',\n",
       "    'options': [{'at': '2018-01-23T14:23:30.116Z',\n",
       "      'checked': True,\n",
       "      'id': 'a35d0e80-8c49-415d-b8cb-c21a02627e2b',\n",
       "      'submitted': 1},\n",
       "     {'checked': False,\n",
       "      'correct': True,\n",
       "      'id': 'bccd6e2e-2cef-4c72-8bfa-317db0ac48bb'},\n",
       "     {'at': '2018-01-23T14:23:41.791Z',\n",
       "      'checked': True,\n",
       "      'correct': True,\n",
       "      'id': '7e0b639a-2ef8-4604-b7eb-5018bd81a91b',\n",
       "      'submitted': 1}],\n",
       "    'user_correct': False,\n",
       "    'user_incomplete': False,\n",
       "    'user_result': 'incorrect',\n",
       "    'user_submitted': True},\n",
       "   {'id': 'e6ad8644-96b1-4617-b37b-a263dded202c',\n",
       "    'options': [{'at': '2018-01-23T14:23:52.510Z',\n",
       "      'checked': False,\n",
       "      'id': 'a9333679-de9d-41ff-bb3d-b239d6b95732'},\n",
       "     {'checked': False, 'id': '85795acc-b4b1-4510-bd6e-41648a3553c9'},\n",
       "     {'at': '2018-01-23T14:23:54.223Z',\n",
       "      'checked': True,\n",
       "      'correct': True,\n",
       "      'id': 'c185ecdb-48fb-4edb-ae4e-0204ac7a0909',\n",
       "      'submitted': 1},\n",
       "     {'at': '2018-01-23T14:23:53.862Z',\n",
       "      'checked': True,\n",
       "      'correct': True,\n",
       "      'id': '77a66c83-d001-45cd-9a5a-6bba8eb7389e',\n",
       "      'submitted': 1}],\n",
       "    'user_correct': True,\n",
       "    'user_incomplete': False,\n",
       "    'user_result': 'correct',\n",
       "    'user_submitted': True},\n",
       "   {'id': '95194331-ac43-454e-83de-ea8913067055',\n",
       "    'options': [{'checked': False,\n",
       "      'id': '59b9fc4b-f239-4850-b1f9-912d1fd3ca13'},\n",
       "     {'checked': False, 'id': '2c29e8e8-d4a8-406e-9cdf-de28ec5890fe'},\n",
       "     {'checked': False, 'id': '62feee6e-9b76-4123-bd9e-c0b35126b1f1'},\n",
       "     {'at': '2018-01-23T14:24:00.807Z',\n",
       "      'checked': True,\n",
       "      'correct': True,\n",
       "      'id': '7f13df9c-fcbe-4424-914f-2206f106765c',\n",
       "      'submitted': 1}],\n",
       "    'user_correct': True,\n",
       "    'user_incomplete': False,\n",
       "    'user_result': 'correct',\n",
       "    'user_submitted': True}]},\n",
       " 'started_at': '2018-01-23T14:23:19.082Z',\n",
       " 'user_exam_id': '6d4089e4-bde5-4a22-b65f-18bce9ab79c8'}"
      ]
     },
     "execution_count": 14,
     "metadata": {},
     "output_type": "execute_result"
    }
   ],
   "source": [
    "first_assessment=json.loads(s_assessments.select('value').take(1)[0].value)\n",
    "first_assessment"
   ]
  },
  {
   "cell_type": "markdown",
   "metadata": {},
   "source": [
    "### First assessment object type is now a dict"
   ]
  },
  {
   "cell_type": "code",
   "execution_count": 15,
   "metadata": {},
   "outputs": [
    {
     "data": {
      "text/plain": [
       "dict"
      ]
     },
     "execution_count": 15,
     "metadata": {},
     "output_type": "execute_result"
    }
   ],
   "source": [
    "type(first_assessment)"
   ]
  },
  {
   "cell_type": "markdown",
   "metadata": {},
   "source": [
    "### First assessment keys"
   ]
  },
  {
   "cell_type": "code",
   "execution_count": 16,
   "metadata": {
    "scrolled": false
   },
   "outputs": [
    {
     "name": "stdout",
     "output_type": "stream",
     "text": [
      "keen_timestamp\n",
      "max_attempts\n",
      "started_at\n",
      "base_exam_id\n",
      "user_exam_id\n",
      "sequences\n",
      "keen_created_at\n",
      "certification\n",
      "keen_id\n",
      "exam_name\n"
     ]
    }
   ],
   "source": [
    "print(*first_assessment.keys() , sep='\\n')"
   ]
  },
  {
   "cell_type": "markdown",
   "metadata": {},
   "source": [
    "### First assessment values"
   ]
  },
  {
   "cell_type": "code",
   "execution_count": 17,
   "metadata": {
    "scrolled": false
   },
   "outputs": [
    {
     "name": "stdout",
     "output_type": "stream",
     "text": [
      "1516717442.735266\n",
      "1.0\n",
      "2018-01-23T14:23:19.082Z\n",
      "37f0a30a-7464-11e6-aa92-a8667f27e5dc\n",
      "6d4089e4-bde5-4a22-b65f-18bce9ab79c8\n",
      "{'questions': [{'user_incomplete': True, 'user_correct': False, 'options': [{'checked': True, 'at': '2018-01-23T14:23:24.670Z', 'id': '49c574b4-5c82-4ffd-9bd1-c3358faf850d', 'submitted': 1, 'correct': True}, {'checked': True, 'at': '2018-01-23T14:23:25.914Z', 'id': 'f2528210-35c3-4320-acf3-9056567ea19f', 'submitted': 1, 'correct': True}, {'checked': False, 'correct': True, 'id': 'd1bf026f-554f-4543-bdd2-54dcf105b826'}], 'user_submitted': True, 'id': '7a2ed6d3-f492-49b3-b8aa-d080a8aad986', 'user_result': 'missed_some'}, {'user_incomplete': False, 'user_correct': False, 'options': [{'checked': True, 'at': '2018-01-23T14:23:30.116Z', 'id': 'a35d0e80-8c49-415d-b8cb-c21a02627e2b', 'submitted': 1}, {'checked': False, 'correct': True, 'id': 'bccd6e2e-2cef-4c72-8bfa-317db0ac48bb'}, {'checked': True, 'at': '2018-01-23T14:23:41.791Z', 'id': '7e0b639a-2ef8-4604-b7eb-5018bd81a91b', 'submitted': 1, 'correct': True}], 'user_submitted': True, 'id': 'bbed4358-999d-4462-9596-bad5173a6ecb', 'user_result': 'incorrect'}, {'user_incomplete': False, 'user_correct': True, 'options': [{'checked': False, 'at': '2018-01-23T14:23:52.510Z', 'id': 'a9333679-de9d-41ff-bb3d-b239d6b95732'}, {'checked': False, 'id': '85795acc-b4b1-4510-bd6e-41648a3553c9'}, {'checked': True, 'at': '2018-01-23T14:23:54.223Z', 'id': 'c185ecdb-48fb-4edb-ae4e-0204ac7a0909', 'submitted': 1, 'correct': True}, {'checked': True, 'at': '2018-01-23T14:23:53.862Z', 'id': '77a66c83-d001-45cd-9a5a-6bba8eb7389e', 'submitted': 1, 'correct': True}], 'user_submitted': True, 'id': 'e6ad8644-96b1-4617-b37b-a263dded202c', 'user_result': 'correct'}, {'user_incomplete': False, 'user_correct': True, 'options': [{'checked': False, 'id': '59b9fc4b-f239-4850-b1f9-912d1fd3ca13'}, {'checked': False, 'id': '2c29e8e8-d4a8-406e-9cdf-de28ec5890fe'}, {'checked': False, 'id': '62feee6e-9b76-4123-bd9e-c0b35126b1f1'}, {'checked': True, 'at': '2018-01-23T14:24:00.807Z', 'id': '7f13df9c-fcbe-4424-914f-2206f106765c', 'submitted': 1, 'correct': True}], 'user_submitted': True, 'id': '95194331-ac43-454e-83de-ea8913067055', 'user_result': 'correct'}], 'attempt': 1, 'id': '5b28a462-7a3b-42e0-b508-09f3906d1703', 'counts': {'incomplete': 1, 'submitted': 4, 'incorrect': 1, 'all_correct': False, 'correct': 2, 'total': 4, 'unanswered': 0}}\n",
      "1516717442.735266\n",
      "false\n",
      "5a6745820eb8ab00016be1f1\n",
      "Normal Forms and All That Jazz Master Class\n"
     ]
    }
   ],
   "source": [
    "print(*first_assessment.values() , sep='\\n')"
   ]
  },
  {
   "cell_type": "markdown",
   "metadata": {},
   "source": [
    "### Access different values of first assessment"
   ]
  },
  {
   "cell_type": "code",
   "execution_count": 18,
   "metadata": {},
   "outputs": [
    {
     "name": "stdout",
     "output_type": "stream",
     "text": [
      "1516717442.735266\n"
     ]
    }
   ],
   "source": [
    "print(first_assessment['keen_timestamp'])"
   ]
  },
  {
   "cell_type": "code",
   "execution_count": 19,
   "metadata": {},
   "outputs": [
    {
     "name": "stdout",
     "output_type": "stream",
     "text": [
      "1 . 0\n"
     ]
    }
   ],
   "source": [
    "print(*first_assessment['max_attempts'])"
   ]
  },
  {
   "cell_type": "code",
   "execution_count": 20,
   "metadata": {},
   "outputs": [
    {
     "name": "stdout",
     "output_type": "stream",
     "text": [
      "2018-01-23T14:23:19.082Z\n"
     ]
    }
   ],
   "source": [
    "print(first_assessment['started_at'])"
   ]
  },
  {
   "cell_type": "code",
   "execution_count": 21,
   "metadata": {},
   "outputs": [
    {
     "data": {
      "text/plain": [
       "'Normal Forms and All That Jazz Master Class'"
      ]
     },
     "execution_count": 21,
     "metadata": {},
     "output_type": "execute_result"
    }
   ],
   "source": [
    "first_assessment['exam_name']"
   ]
  },
  {
   "cell_type": "code",
   "execution_count": 22,
   "metadata": {
    "scrolled": false
   },
   "outputs": [
    {
     "name": "stdout",
     "output_type": "stream",
     "text": [
      "questions\n",
      "attempt\n",
      "id\n",
      "counts\n"
     ]
    }
   ],
   "source": [
    "print(*first_assessment['sequences'].keys(), sep=\"\\n\")"
   ]
  },
  {
   "cell_type": "code",
   "execution_count": 23,
   "metadata": {
    "scrolled": false
   },
   "outputs": [
    {
     "name": "stdout",
     "output_type": "stream",
     "text": [
      "[{'user_incomplete': True, 'user_correct': False, 'options': [{'checked': True, 'at': '2018-01-23T14:23:24.670Z', 'id': '49c574b4-5c82-4ffd-9bd1-c3358faf850d', 'submitted': 1, 'correct': True}, {'checked': True, 'at': '2018-01-23T14:23:25.914Z', 'id': 'f2528210-35c3-4320-acf3-9056567ea19f', 'submitted': 1, 'correct': True}, {'checked': False, 'correct': True, 'id': 'd1bf026f-554f-4543-bdd2-54dcf105b826'}], 'user_submitted': True, 'id': '7a2ed6d3-f492-49b3-b8aa-d080a8aad986', 'user_result': 'missed_some'}, {'user_incomplete': False, 'user_correct': False, 'options': [{'checked': True, 'at': '2018-01-23T14:23:30.116Z', 'id': 'a35d0e80-8c49-415d-b8cb-c21a02627e2b', 'submitted': 1}, {'checked': False, 'correct': True, 'id': 'bccd6e2e-2cef-4c72-8bfa-317db0ac48bb'}, {'checked': True, 'at': '2018-01-23T14:23:41.791Z', 'id': '7e0b639a-2ef8-4604-b7eb-5018bd81a91b', 'submitted': 1, 'correct': True}], 'user_submitted': True, 'id': 'bbed4358-999d-4462-9596-bad5173a6ecb', 'user_result': 'incorrect'}, {'user_incomplete': False, 'user_correct': True, 'options': [{'checked': False, 'at': '2018-01-23T14:23:52.510Z', 'id': 'a9333679-de9d-41ff-bb3d-b239d6b95732'}, {'checked': False, 'id': '85795acc-b4b1-4510-bd6e-41648a3553c9'}, {'checked': True, 'at': '2018-01-23T14:23:54.223Z', 'id': 'c185ecdb-48fb-4edb-ae4e-0204ac7a0909', 'submitted': 1, 'correct': True}, {'checked': True, 'at': '2018-01-23T14:23:53.862Z', 'id': '77a66c83-d001-45cd-9a5a-6bba8eb7389e', 'submitted': 1, 'correct': True}], 'user_submitted': True, 'id': 'e6ad8644-96b1-4617-b37b-a263dded202c', 'user_result': 'correct'}, {'user_incomplete': False, 'user_correct': True, 'options': [{'checked': False, 'id': '59b9fc4b-f239-4850-b1f9-912d1fd3ca13'}, {'checked': False, 'id': '2c29e8e8-d4a8-406e-9cdf-de28ec5890fe'}, {'checked': False, 'id': '62feee6e-9b76-4123-bd9e-c0b35126b1f1'}, {'checked': True, 'at': '2018-01-23T14:24:00.807Z', 'id': '7f13df9c-fcbe-4424-914f-2206f106765c', 'submitted': 1, 'correct': True}], 'user_submitted': True, 'id': '95194331-ac43-454e-83de-ea8913067055', 'user_result': 'correct'}]\n",
      "1\n",
      "5b28a462-7a3b-42e0-b508-09f3906d1703\n",
      "{'incomplete': 1, 'submitted': 4, 'incorrect': 1, 'all_correct': False, 'correct': 2, 'total': 4, 'unanswered': 0}\n"
     ]
    }
   ],
   "source": [
    "print(*first_assessment['sequences'].values(), sep=\"\\n\")"
   ]
  },
  {
   "cell_type": "markdown",
   "metadata": {},
   "source": [
    "### The object questions is a list"
   ]
  },
  {
   "cell_type": "code",
   "execution_count": 24,
   "metadata": {},
   "outputs": [
    {
     "data": {
      "text/plain": [
       "list"
      ]
     },
     "execution_count": 24,
     "metadata": {},
     "output_type": "execute_result"
    }
   ],
   "source": [
    "type(first_assessment['sequences']['questions'])"
   ]
  },
  {
   "cell_type": "markdown",
   "metadata": {},
   "source": [
    "### A look at first assessment sequences-questions"
   ]
  },
  {
   "cell_type": "code",
   "execution_count": 25,
   "metadata": {
    "scrolled": false
   },
   "outputs": [
    {
     "data": {
      "text/plain": [
       "[{'id': '7a2ed6d3-f492-49b3-b8aa-d080a8aad986',\n",
       "  'options': [{'at': '2018-01-23T14:23:24.670Z',\n",
       "    'checked': True,\n",
       "    'correct': True,\n",
       "    'id': '49c574b4-5c82-4ffd-9bd1-c3358faf850d',\n",
       "    'submitted': 1},\n",
       "   {'at': '2018-01-23T14:23:25.914Z',\n",
       "    'checked': True,\n",
       "    'correct': True,\n",
       "    'id': 'f2528210-35c3-4320-acf3-9056567ea19f',\n",
       "    'submitted': 1},\n",
       "   {'checked': False,\n",
       "    'correct': True,\n",
       "    'id': 'd1bf026f-554f-4543-bdd2-54dcf105b826'}],\n",
       "  'user_correct': False,\n",
       "  'user_incomplete': True,\n",
       "  'user_result': 'missed_some',\n",
       "  'user_submitted': True},\n",
       " {'id': 'bbed4358-999d-4462-9596-bad5173a6ecb',\n",
       "  'options': [{'at': '2018-01-23T14:23:30.116Z',\n",
       "    'checked': True,\n",
       "    'id': 'a35d0e80-8c49-415d-b8cb-c21a02627e2b',\n",
       "    'submitted': 1},\n",
       "   {'checked': False,\n",
       "    'correct': True,\n",
       "    'id': 'bccd6e2e-2cef-4c72-8bfa-317db0ac48bb'},\n",
       "   {'at': '2018-01-23T14:23:41.791Z',\n",
       "    'checked': True,\n",
       "    'correct': True,\n",
       "    'id': '7e0b639a-2ef8-4604-b7eb-5018bd81a91b',\n",
       "    'submitted': 1}],\n",
       "  'user_correct': False,\n",
       "  'user_incomplete': False,\n",
       "  'user_result': 'incorrect',\n",
       "  'user_submitted': True},\n",
       " {'id': 'e6ad8644-96b1-4617-b37b-a263dded202c',\n",
       "  'options': [{'at': '2018-01-23T14:23:52.510Z',\n",
       "    'checked': False,\n",
       "    'id': 'a9333679-de9d-41ff-bb3d-b239d6b95732'},\n",
       "   {'checked': False, 'id': '85795acc-b4b1-4510-bd6e-41648a3553c9'},\n",
       "   {'at': '2018-01-23T14:23:54.223Z',\n",
       "    'checked': True,\n",
       "    'correct': True,\n",
       "    'id': 'c185ecdb-48fb-4edb-ae4e-0204ac7a0909',\n",
       "    'submitted': 1},\n",
       "   {'at': '2018-01-23T14:23:53.862Z',\n",
       "    'checked': True,\n",
       "    'correct': True,\n",
       "    'id': '77a66c83-d001-45cd-9a5a-6bba8eb7389e',\n",
       "    'submitted': 1}],\n",
       "  'user_correct': True,\n",
       "  'user_incomplete': False,\n",
       "  'user_result': 'correct',\n",
       "  'user_submitted': True},\n",
       " {'id': '95194331-ac43-454e-83de-ea8913067055',\n",
       "  'options': [{'checked': False, 'id': '59b9fc4b-f239-4850-b1f9-912d1fd3ca13'},\n",
       "   {'checked': False, 'id': '2c29e8e8-d4a8-406e-9cdf-de28ec5890fe'},\n",
       "   {'checked': False, 'id': '62feee6e-9b76-4123-bd9e-c0b35126b1f1'},\n",
       "   {'at': '2018-01-23T14:24:00.807Z',\n",
       "    'checked': True,\n",
       "    'correct': True,\n",
       "    'id': '7f13df9c-fcbe-4424-914f-2206f106765c',\n",
       "    'submitted': 1}],\n",
       "  'user_correct': True,\n",
       "  'user_incomplete': False,\n",
       "  'user_result': 'correct',\n",
       "  'user_submitted': True}]"
      ]
     },
     "execution_count": 25,
     "metadata": {},
     "output_type": "execute_result"
    }
   ],
   "source": [
    "first_assessment['sequences']['questions']"
   ]
  },
  {
   "cell_type": "markdown",
   "metadata": {},
   "source": [
    "### A look at first assessment sequences-questions[0]"
   ]
  },
  {
   "cell_type": "code",
   "execution_count": 26,
   "metadata": {
    "scrolled": false
   },
   "outputs": [
    {
     "data": {
      "text/plain": [
       "{'id': '7a2ed6d3-f492-49b3-b8aa-d080a8aad986',\n",
       " 'options': [{'at': '2018-01-23T14:23:24.670Z',\n",
       "   'checked': True,\n",
       "   'correct': True,\n",
       "   'id': '49c574b4-5c82-4ffd-9bd1-c3358faf850d',\n",
       "   'submitted': 1},\n",
       "  {'at': '2018-01-23T14:23:25.914Z',\n",
       "   'checked': True,\n",
       "   'correct': True,\n",
       "   'id': 'f2528210-35c3-4320-acf3-9056567ea19f',\n",
       "   'submitted': 1},\n",
       "  {'checked': False,\n",
       "   'correct': True,\n",
       "   'id': 'd1bf026f-554f-4543-bdd2-54dcf105b826'}],\n",
       " 'user_correct': False,\n",
       " 'user_incomplete': True,\n",
       " 'user_result': 'missed_some',\n",
       " 'user_submitted': True}"
      ]
     },
     "execution_count": 26,
     "metadata": {},
     "output_type": "execute_result"
    }
   ],
   "source": [
    "first_assessment['sequences']['questions'][0]"
   ]
  },
  {
   "cell_type": "markdown",
   "metadata": {},
   "source": [
    "### Get first assessment value in sequences.questions[0].options[0].id"
   ]
  },
  {
   "cell_type": "markdown",
   "metadata": {},
   "source": [
    "This is not a good method of extracting data"
   ]
  },
  {
   "cell_type": "code",
   "execution_count": 27,
   "metadata": {
    "scrolled": true
   },
   "outputs": [
    {
     "data": {
      "text/plain": [
       "'49c574b4-5c82-4ffd-9bd1-c3358faf850d'"
      ]
     },
     "execution_count": 27,
     "metadata": {},
     "output_type": "execute_result"
    }
   ],
   "source": [
    "first_assessment['sequences']['questions'][0]['options'][0]['id']"
   ]
  },
  {
   "cell_type": "markdown",
   "metadata": {},
   "source": [
    "### A look at first assessment sequences-counts"
   ]
  },
  {
   "cell_type": "code",
   "execution_count": 28,
   "metadata": {
    "scrolled": false
   },
   "outputs": [
    {
     "data": {
      "text/plain": [
       "{'all_correct': False,\n",
       " 'correct': 2,\n",
       " 'incomplete': 1,\n",
       " 'incorrect': 1,\n",
       " 'submitted': 4,\n",
       " 'total': 4,\n",
       " 'unanswered': 0}"
      ]
     },
     "execution_count": 28,
     "metadata": {},
     "output_type": "execute_result"
    }
   ],
   "source": [
    "first_assessment['sequences']['counts']"
   ]
  },
  {
   "cell_type": "code",
   "execution_count": 29,
   "metadata": {},
   "outputs": [
    {
     "data": {
      "text/plain": [
       "dict_keys(['incomplete', 'submitted', 'incorrect', 'all_correct', 'correct', 'total', 'unanswered'])"
      ]
     },
     "execution_count": 29,
     "metadata": {},
     "output_type": "execute_result"
    }
   ],
   "source": [
    "first_assessment['sequences']['counts'].keys()"
   ]
  },
  {
   "cell_type": "code",
   "execution_count": 30,
   "metadata": {},
   "outputs": [
    {
     "data": {
      "text/plain": [
       "dict_values([1, 4, 1, False, 2, 4, 0])"
      ]
     },
     "execution_count": 30,
     "metadata": {},
     "output_type": "execute_result"
    }
   ],
   "source": [
    "first_assessment['sequences']['counts'].values()"
   ]
  },
  {
   "cell_type": "markdown",
   "metadata": {},
   "source": [
    "### First attempt to find how many people took Learning Git."
   ]
  },
  {
   "cell_type": "markdown",
   "metadata": {},
   "source": [
    "This code takes too long to return the exam names"
   ]
  },
  {
   "cell_type": "code",
   "execution_count": 31,
   "metadata": {},
   "outputs": [
    {
     "name": "stdout",
     "output_type": "stream",
     "text": [
      "0\n"
     ]
    }
   ],
   "source": [
    "l_exam_name = []\n",
    "num = 0\n",
    "\n",
    "for i in range(1,5):\n",
    "    assessment=json.loads(s_assessments.select('value').take(i)[i-1].value)\n",
    "    if assessment['exam_name'] == 'Learning Git':\n",
    "        num+=1\n",
    "\n",
    "print(num)"
   ]
  },
  {
   "cell_type": "markdown",
   "metadata": {},
   "source": [
    "### Writing a function ultimately returns the total number of assessments, though it is rather cumbersome."
   ]
  },
  {
   "cell_type": "code",
   "execution_count": 32,
   "metadata": {
    "scrolled": true
   },
   "outputs": [
    {
     "name": "stderr",
     "output_type": "stream",
     "text": [
      "/spark-2.2.0-bin-hadoop2.6/python/pyspark/sql/session.py:351: UserWarning: Using RDD of dict to inferSchema is deprecated. Use pyspark.sql.Row instead\n",
      "  warnings.warn(\"Using RDD of dict to inferSchema is deprecated. \"\n"
     ]
    },
    {
     "name": "stdout",
     "output_type": "stream",
     "text": [
      "+--------------------+--------------------+\n",
      "|           exam_name|             keen_id|\n",
      "+--------------------+--------------------+\n",
      "|Normal Forms and ...|5a6745820eb8ab000...|\n",
      "|Normal Forms and ...|5a674541ab6b0a000...|\n",
      "|The Principles of...|5a67999d3ed3e3000...|\n",
      "|The Principles of...|5a6799694fc7c7000...|\n",
      "|Introduction to B...|5a6791e824fccd000...|\n",
      "+--------------------+--------------------+\n",
      "only showing top 5 rows\n",
      "\n"
     ]
    }
   ],
   "source": [
    "def get_exam_name(x):\n",
    "    raw_dict = json.loads(x.value)\n",
    "    exam_dict = {\"keen_id\" : raw_dict[\"keen_id\"], \n",
    "               \"exam_name\" : raw_dict[\"exam_name\"]}\n",
    "    return exam_dict\n",
    "get_exam_name = s_assessments.rdd.map(get_exam_name).toDF()\n",
    "get_exam_name.show(5)\n",
    "get_exam_name\n",
    "get_exam_name.registerTempTable(\"exam_name\")"
   ]
  },
  {
   "cell_type": "code",
   "execution_count": 33,
   "metadata": {
    "scrolled": true
   },
   "outputs": [
    {
     "name": "stdout",
     "output_type": "stream",
     "text": [
      "+------------+\n",
      "|   exam_name|\n",
      "+------------+\n",
      "|Learning Git|\n",
      "|Learning Git|\n",
      "|Learning Git|\n",
      "|Learning Git|\n",
      "|Learning Git|\n",
      "+------------+\n",
      "only showing top 5 rows\n",
      "\n"
     ]
    }
   ],
   "source": [
    "learning_git = spark.sql(\"select exam_name from exam_name where exam_name = 'Learning Git'\")\n",
    "learning_git.show(5)"
   ]
  },
  {
   "cell_type": "code",
   "execution_count": 34,
   "metadata": {
    "scrolled": true
   },
   "outputs": [
    {
     "name": "stdout",
     "output_type": "stream",
     "text": [
      "+----------------+\n",
      "|count(exam_name)|\n",
      "+----------------+\n",
      "|             788|\n",
      "+----------------+\n",
      "\n"
     ]
    }
   ],
   "source": [
    "spark.sql(\"select count(exam_name) from exam_name where exam_name = 'Learning Git'\").show()"
   ]
  },
  {
   "cell_type": "markdown",
   "metadata": {},
   "source": [
    "### Function get_counts_01 to access sequences.counts data"
   ]
  },
  {
   "cell_type": "code",
   "execution_count": 35,
   "metadata": {
    "scrolled": true
   },
   "outputs": [
    {
     "name": "stderr",
     "output_type": "stream",
     "text": [
      "/spark-2.2.0-bin-hadoop2.6/python/pyspark/sql/session.py:351: UserWarning: Using RDD of dict to inferSchema is deprecated. Use pyspark.sql.Row instead\n",
      "  warnings.warn(\"Using RDD of dict to inferSchema is deprecated. \"\n"
     ]
    },
    {
     "name": "stdout",
     "output_type": "stream",
     "text": [
      "+-----------+-------+--------------------+-----+\n",
      "|all_correct|correct|           exam_name|total|\n",
      "+-----------+-------+--------------------+-----+\n",
      "|      false|      2|Normal Forms and ...|    4|\n",
      "|      false|      1|Normal Forms and ...|    4|\n",
      "|      false|      3|The Principles of...|    4|\n",
      "|      false|      2|The Principles of...|    4|\n",
      "|      false|      3|Introduction to B...|    4|\n",
      "+-----------+-------+--------------------+-----+\n",
      "only showing top 5 rows\n",
      "\n"
     ]
    }
   ],
   "source": [
    "def get_counts_01(x):\n",
    "    raw_dict = json.loads(x.value)\n",
    "    counts_dict = {\"exam_name\" : raw_dict[\"exam_name\"],\n",
    "               \"total\" : raw_dict[\"sequences\"][\"counts\"][\"total\"],\n",
    "               \"correct\" : raw_dict[\"sequences\"][\"counts\"][\"correct\"],\n",
    "               \"all_correct\" : raw_dict[\"sequences\"][\"counts\"][\"all_correct\"]}\n",
    "    return counts_dict\n",
    "get_counts_01 = s_assessments.rdd.map(get_counts_01).toDF()\n",
    "get_counts_01.show(5)\n",
    "get_counts_01.registerTempTable('counts_01')"
   ]
  },
  {
   "cell_type": "code",
   "execution_count": 36,
   "metadata": {
    "scrolled": true
   },
   "outputs": [
    {
     "name": "stdout",
     "output_type": "stream",
     "text": [
      "+--------------------+-----+-------+\n",
      "|           exam_name|total|correct|\n",
      "+--------------------+-----+-------+\n",
      "|Normal Forms and ...|    4|      2|\n",
      "|Normal Forms and ...|    4|      1|\n",
      "|The Principles of...|    4|      3|\n",
      "|The Principles of...|    4|      2|\n",
      "|Introduction to B...|    4|      3|\n",
      "+--------------------+-----+-------+\n",
      "only showing top 5 rows\n",
      "\n"
     ]
    }
   ],
   "source": [
    "spark.sql(\"select exam_name, total, correct from counts_01\").show(5)"
   ]
  },
  {
   "cell_type": "markdown",
   "metadata": {},
   "source": [
    "### Running this SQL query throws an error"
   ]
  },
  {
   "cell_type": "code",
   "execution_count": 37,
   "metadata": {
    "collapsed": true,
    "scrolled": false
   },
   "outputs": [],
   "source": [
    "# spark.sql(\"select exam_name, sum(total) total_num_questions, sum(correct) total_questions_correct \\\n",
    "            # from counts_01 group by exam_name\").show()"
   ]
  },
  {
   "cell_type": "markdown",
   "metadata": {},
   "source": [
    "### Function get_counts_02 to access data in sequences.counts.  Second iteration accounts for missing keys in original assessments json file."
   ]
  },
  {
   "cell_type": "code",
   "execution_count": 38,
   "metadata": {
    "scrolled": false
   },
   "outputs": [
    {
     "name": "stdout",
     "output_type": "stream",
     "text": [
      "+-------+--------------------+-----+\n",
      "|correct|           exam_name|total|\n",
      "+-------+--------------------+-----+\n",
      "|      2|Normal Forms and ...|    4|\n",
      "|      1|Normal Forms and ...|    4|\n",
      "|      3|The Principles of...|    4|\n",
      "|      2|The Principles of...|    4|\n",
      "|      3|Introduction to B...|    4|\n",
      "|      5|        Learning Git|    5|\n",
      "|      1|Git Fundamentals ...|    1|\n",
      "|      5|Introduction to P...|    5|\n",
      "|      4|Intermediate Pyth...|    4|\n",
      "|      0|Introduction to P...|    5|\n",
      "+-------+--------------------+-----+\n",
      "\n"
     ]
    }
   ],
   "source": [
    "def get_counts_02(x):\n",
    "    \n",
    "    raw_dict = json.loads(x.value)\n",
    "    my_list = []\n",
    "    \n",
    "    if \"sequences\" in raw_dict:\n",
    "        if \"counts\" in raw_dict[\"sequences\"]:\n",
    "            if \"correct\" in raw_dict[\"sequences\"][\"counts\"] and \"total\" in raw_dict[\"sequences\"][\"counts\"]: \n",
    "                my_dict = {\"exam_name\" : raw_dict[\"exam_name\"],\n",
    "                           \"correct\": raw_dict[\"sequences\"][\"counts\"][\"correct\"], \n",
    "                           \"total\": raw_dict[\"sequences\"][\"counts\"][\"total\"]}\n",
    "                my_list.append(Row(**my_dict))\n",
    "    return my_list\n",
    "\n",
    "df_correct_total = s_assessments.rdd.flatMap(get_counts_02).toDF()\n",
    "df_correct_total.registerTempTable('counts_02')\n",
    "spark.sql(\"select * from counts_02 limit 10\").show()"
   ]
  },
  {
   "cell_type": "markdown",
   "metadata": {},
   "source": [
    "### This query is the same as above but it works."
   ]
  },
  {
   "cell_type": "code",
   "execution_count": 39,
   "metadata": {},
   "outputs": [
    {
     "name": "stdout",
     "output_type": "stream",
     "text": [
      "+--------------------+-------------------+-----------------------+\n",
      "|           exam_name|total_num_questions|total_questions_correct|\n",
      "+--------------------+-------------------+-----------------------+\n",
      "|Learning Data Mod...|                 72|                     36|\n",
      "|Networking for Pe...|                 90|                     50|\n",
      "|Introduction to J...|               1580|                   1384|\n",
      "|Learning Apache H...|                128|                     98|\n",
      "|Learning Spring P...|                 16|                     10|\n",
      "|Learning iPython ...|                136|                     68|\n",
      "|Introduction to P...|               1620|                    918|\n",
      "|Learning C# Best ...|                350|                    162|\n",
      "|Introduction to A...|                 84|                     46|\n",
      "|A Practical Intro...|                 72|                     42|\n",
      "|I'm a Software Ar...|                120|                     64|\n",
      "|Introduction to B...|                600|                    370|\n",
      "|       View Updating|                  8|                      2|\n",
      "|Mastering Python ...|                200|                    148|\n",
      "|Intermediate C# P...|                344|                    196|\n",
      "|Starting a Grails...|                 40|                     30|\n",
      "|Introduction to A...|                 72|                     60|\n",
      "|JavaScript Templa...|                168|                    114|\n",
      "|Being a Better In...|                 60|                     30|\n",
      "|Mastering Advance...|                272|                     98|\n",
      "+--------------------+-------------------+-----------------------+\n",
      "only showing top 20 rows\n",
      "\n"
     ]
    }
   ],
   "source": [
    "spark.sql(\"select exam_name, sum(total) total_num_questions, sum(correct) total_questions_correct \\\n",
    "            from counts_02 group by exam_name\").show()"
   ]
  },
  {
   "cell_type": "markdown",
   "metadata": {},
   "source": [
    "## 1.2 First Schema\n",
    "\n",
    "\n",
    "This schema applies a rdd.map lambda function to flatten the assessments json file.  The lambda function converts the data passed into it to its datatype. Next, the spark.sql row function is used to avoid deprecation and work a row at a time.  Then, applying a map works an element at a time. The rdd.map lambda function is taking a dataframe and mapping it to a Spark dataframe.  RDD is Spark's distributed dataset.  This schema contains some flat data; base_exam_id, certification, exam_name, etc. that are queried at this point.  Furthermore, SQL queries can be run on the sequences.quesitons data.  However, sequences.counts data is still returning null errors. This is likely due to missing keys in the dictionary of the original file.  Counts data can be accessed as done previously using custom lambda functions, which return a list that is passed into an rdd.flatMap function.  Nevertheless, there might be a different way."
   ]
  },
  {
   "cell_type": "markdown",
   "metadata": {},
   "source": [
    "### Extract assessments using rdd.map lambda function"
   ]
  },
  {
   "cell_type": "code",
   "execution_count": 40,
   "metadata": {
    "collapsed": true,
    "scrolled": true
   },
   "outputs": [],
   "source": [
    "extracted_assessments_first_schema = s_assessments.rdd.map(lambda x: Row(**json.loads(x.value))).toDF()"
   ]
  },
  {
   "cell_type": "markdown",
   "metadata": {},
   "source": [
    "### Visualize schema"
   ]
  },
  {
   "cell_type": "code",
   "execution_count": 41,
   "metadata": {
    "scrolled": false
   },
   "outputs": [
    {
     "name": "stdout",
     "output_type": "stream",
     "text": [
      "root\n",
      " |-- base_exam_id: string (nullable = true)\n",
      " |-- certification: string (nullable = true)\n",
      " |-- exam_name: string (nullable = true)\n",
      " |-- keen_created_at: string (nullable = true)\n",
      " |-- keen_id: string (nullable = true)\n",
      " |-- keen_timestamp: string (nullable = true)\n",
      " |-- max_attempts: string (nullable = true)\n",
      " |-- sequences: map (nullable = true)\n",
      " |    |-- key: string\n",
      " |    |-- value: array (valueContainsNull = true)\n",
      " |    |    |-- element: map (containsNull = true)\n",
      " |    |    |    |-- key: string\n",
      " |    |    |    |-- value: boolean (valueContainsNull = true)\n",
      " |-- started_at: string (nullable = true)\n",
      " |-- user_exam_id: string (nullable = true)\n",
      "\n"
     ]
    }
   ],
   "source": [
    "extracted_assessments_first_schema.printSchema()"
   ]
  },
  {
   "cell_type": "code",
   "execution_count": 42,
   "metadata": {
    "scrolled": true
   },
   "outputs": [
    {
     "name": "stdout",
     "output_type": "stream",
     "text": [
      "+--------------------+-------------+--------------------+-----------------+--------------------+-----------------+------------+--------------------+--------------------+--------------------+\n",
      "|        base_exam_id|certification|           exam_name|  keen_created_at|             keen_id|   keen_timestamp|max_attempts|           sequences|          started_at|        user_exam_id|\n",
      "+--------------------+-------------+--------------------+-----------------+--------------------+-----------------+------------+--------------------+--------------------+--------------------+\n",
      "|37f0a30a-7464-11e...|        false|Normal Forms and ...|1516717442.735266|5a6745820eb8ab000...|1516717442.735266|         1.0|Map(questions -> ...|2018-01-23T14:23:...|6d4089e4-bde5-4a2...|\n",
      "+--------------------+-------------+--------------------+-----------------+--------------------+-----------------+------------+--------------------+--------------------+--------------------+\n",
      "only showing top 1 row\n",
      "\n"
     ]
    }
   ],
   "source": [
    "extracted_assessments_first_schema.show(1)"
   ]
  },
  {
   "cell_type": "markdown",
   "metadata": {},
   "source": [
    "### Analyze first assessment"
   ]
  },
  {
   "cell_type": "code",
   "execution_count": 43,
   "metadata": {
    "scrolled": true
   },
   "outputs": [
    {
     "data": {
      "text/plain": [
       "Row(base_exam_id='37f0a30a-7464-11e6-aa92-a8667f27e5dc', certification='false', exam_name='Normal Forms and All That Jazz Master Class', keen_created_at='1516717442.735266', keen_id='5a6745820eb8ab00016be1f1', keen_timestamp='1516717442.735266', max_attempts='1.0', sequences={'questions': [{'options': None, 'user_correct': False, 'user_incomplete': True, 'id': None, 'user_result': None, 'user_submitted': True}, {'options': None, 'user_correct': False, 'user_incomplete': False, 'id': None, 'user_result': None, 'user_submitted': True}, {'options': None, 'user_correct': True, 'user_incomplete': False, 'id': None, 'user_result': None, 'user_submitted': True}, {'options': None, 'user_correct': True, 'user_incomplete': False, 'id': None, 'user_result': None, 'user_submitted': True}], 'id': None, 'attempt': None, 'counts': None}, started_at='2018-01-23T14:23:19.082Z', user_exam_id='6d4089e4-bde5-4a22-b65f-18bce9ab79c8')"
      ]
     },
     "execution_count": 43,
     "metadata": {},
     "output_type": "execute_result"
    }
   ],
   "source": [
    "first_assessment_02 = extracted_assessments_first_schema.take(1)[0]\n",
    "first_assessment_02\n",
    "#first_assessment=json.loads(s_assessments.select('value').take(1)[0].value)"
   ]
  },
  {
   "cell_type": "markdown",
   "metadata": {},
   "source": [
    "### Create SQL view assessments_first_format"
   ]
  },
  {
   "cell_type": "code",
   "execution_count": 44,
   "metadata": {
    "collapsed": true
   },
   "outputs": [],
   "source": [
    "extracted_assessments_first_schema.registerTempTable('assessments_first_format')"
   ]
  },
  {
   "cell_type": "markdown",
   "metadata": {},
   "source": [
    "### Querying exam_name works"
   ]
  },
  {
   "cell_type": "code",
   "execution_count": 45,
   "metadata": {},
   "outputs": [
    {
     "name": "stdout",
     "output_type": "stream",
     "text": [
      "+--------------------+\n",
      "|           exam_name|\n",
      "+--------------------+\n",
      "|Learning Data Mod...|\n",
      "|Networking for Pe...|\n",
      "|Introduction to J...|\n",
      "|Learning Apache H...|\n",
      "|Learning Spring P...|\n",
      "+--------------------+\n",
      "only showing top 5 rows\n",
      "\n"
     ]
    }
   ],
   "source": [
    "spark.sql(\"select distinct(exam_name) from assessments_first_format\").show(5)"
   ]
  },
  {
   "cell_type": "markdown",
   "metadata": {},
   "source": [
    "### Sequences.counts gives an error"
   ]
  },
  {
   "cell_type": "code",
   "execution_count": 46,
   "metadata": {
    "collapsed": true,
    "scrolled": false
   },
   "outputs": [],
   "source": [
    "#spark.sql(\"select sequences.counts.total total from assessments_first_format\").show(5)"
   ]
  },
  {
   "cell_type": "markdown",
   "metadata": {},
   "source": [
    "### Sequences.questions is working"
   ]
  },
  {
   "cell_type": "code",
   "execution_count": 47,
   "metadata": {
    "scrolled": true
   },
   "outputs": [
    {
     "name": "stdout",
     "output_type": "stream",
     "text": [
      "+-----+\n",
      "| user|\n",
      "+-----+\n",
      "| true|\n",
      "|false|\n",
      "|false|\n",
      "|false|\n",
      "|false|\n",
      "+-----+\n",
      "only showing top 5 rows\n",
      "\n"
     ]
    }
   ],
   "source": [
    "spark.sql(\"select sequences.questions[0].user_incomplete user from assessments_first_format\").show(5)"
   ]
  },
  {
   "cell_type": "code",
   "execution_count": 48,
   "metadata": {
    "scrolled": false
   },
   "outputs": [
    {
     "name": "stdout",
     "output_type": "stream",
     "text": [
      "+-----+\n",
      "| user|\n",
      "+-----+\n",
      "|false|\n",
      "| true|\n",
      "|false|\n",
      "| true|\n",
      "|false|\n",
      "+-----+\n",
      "only showing top 5 rows\n",
      "\n"
     ]
    }
   ],
   "source": [
    "spark.sql(\"select sequences.questions[0].user_correct user from assessments_first_format\").show(5)"
   ]
  },
  {
   "cell_type": "markdown",
   "metadata": {},
   "source": [
    "## 1.3 Second Schema\n",
    "\n",
    "The second attempt at flattening the assessments json file uses an enforced schema named second_schema.  The second_schema is placed in the toDF command to create the specified class.  SQL function StructType allows the user to specify a list or tuple.  The StructType list is used in the schema along with StructField.  StructField has the following options: name, datatype, and [nullable].  Name is used to build the schema using the same key names as the original file.  The datatype is specified according to the expected value.  Nullable is true by default.  The enforced schema works well to flatten the nested counts data.  Unfortunately, this method ignores the data in sequences.questions."
   ]
  },
  {
   "cell_type": "markdown",
   "metadata": {},
   "source": [
    "### Build the enforced schema\n",
    "Located at the very bottom of Spark 2.3.0 Spark SQL, DataFrames and Dataset Guide"
   ]
  },
  {
   "cell_type": "code",
   "execution_count": 49,
   "metadata": {
    "collapsed": true
   },
   "outputs": [],
   "source": [
    "second_schema = StructType([\n",
    "                StructField('keen_timestamp', StringType()),\n",
    "                StructField('max_attempts', StringType()),\n",
    "                StructField('started_at', StringType()),\n",
    "                StructField('base_exam_id', StringType()),\n",
    "                StructField('user_exam_id', StringType()),\n",
    "                StructField('sequences', StructType([\n",
    "                    StructField('attempt', IntegerType()),\n",
    "                    StructField('id', StringType()),\n",
    "                    StructField('counts', StructType([\n",
    "                        StructField('incomplete', IntegerType()),\n",
    "                        StructField('submitted', IntegerType()),\n",
    "                        StructField('incorrect', IntegerType()),\n",
    "                        StructField('all_correct', BooleanType()),\n",
    "                        StructField('correct', IntegerType()),\n",
    "                        StructField('total', IntegerType()),\n",
    "                        StructField('unanswered', IntegerType())\n",
    "                                                    ]))\n",
    "                                                ])),\n",
    "                StructField('keen_created_at', StringType()),\n",
    "                StructField('certification', StringType()),\n",
    "                StructField('keen_id', StringType()),\n",
    "                StructField('exam_name', StringType())\n",
    "                                                    ])\n"
   ]
  },
  {
   "cell_type": "markdown",
   "metadata": {},
   "source": [
    "### Extract the assessments using the manually built schema"
   ]
  },
  {
   "cell_type": "code",
   "execution_count": 50,
   "metadata": {
    "collapsed": true,
    "scrolled": true
   },
   "outputs": [],
   "source": [
    "extracted_assessments_second_schema = s_assessments.rdd.map(lambda x: json.loads(x.value)).toDF(schema=second_schema)"
   ]
  },
  {
   "cell_type": "markdown",
   "metadata": {},
   "source": [
    "### Visualize the schema"
   ]
  },
  {
   "cell_type": "code",
   "execution_count": 51,
   "metadata": {
    "scrolled": false
   },
   "outputs": [
    {
     "name": "stdout",
     "output_type": "stream",
     "text": [
      "root\n",
      " |-- keen_timestamp: string (nullable = true)\n",
      " |-- max_attempts: string (nullable = true)\n",
      " |-- started_at: string (nullable = true)\n",
      " |-- base_exam_id: string (nullable = true)\n",
      " |-- user_exam_id: string (nullable = true)\n",
      " |-- sequences: struct (nullable = true)\n",
      " |    |-- attempt: integer (nullable = true)\n",
      " |    |-- id: string (nullable = true)\n",
      " |    |-- counts: struct (nullable = true)\n",
      " |    |    |-- incomplete: integer (nullable = true)\n",
      " |    |    |-- submitted: integer (nullable = true)\n",
      " |    |    |-- incorrect: integer (nullable = true)\n",
      " |    |    |-- all_correct: boolean (nullable = true)\n",
      " |    |    |-- correct: integer (nullable = true)\n",
      " |    |    |-- total: integer (nullable = true)\n",
      " |    |    |-- unanswered: integer (nullable = true)\n",
      " |-- keen_created_at: string (nullable = true)\n",
      " |-- certification: string (nullable = true)\n",
      " |-- keen_id: string (nullable = true)\n",
      " |-- exam_name: string (nullable = true)\n",
      "\n"
     ]
    }
   ],
   "source": [
    "extracted_assessments_second_schema.printSchema()"
   ]
  },
  {
   "cell_type": "code",
   "execution_count": 52,
   "metadata": {
    "scrolled": false
   },
   "outputs": [
    {
     "name": "stdout",
     "output_type": "stream",
     "text": [
      "+-----------------+------------+--------------------+--------------------+--------------------+--------------------+-----------------+-------------+--------------------+--------------------+\n",
      "|   keen_timestamp|max_attempts|          started_at|        base_exam_id|        user_exam_id|           sequences|  keen_created_at|certification|             keen_id|           exam_name|\n",
      "+-----------------+------------+--------------------+--------------------+--------------------+--------------------+-----------------+-------------+--------------------+--------------------+\n",
      "|1516717442.735266|         1.0|2018-01-23T14:23:...|37f0a30a-7464-11e...|6d4089e4-bde5-4a2...|[1,5b28a462-7a3b-...|1516717442.735266|        false|5a6745820eb8ab000...|Normal Forms and ...|\n",
      "+-----------------+------------+--------------------+--------------------+--------------------+--------------------+-----------------+-------------+--------------------+--------------------+\n",
      "only showing top 1 row\n",
      "\n"
     ]
    }
   ],
   "source": [
    "extracted_assessments_second_schema.show(1)"
   ]
  },
  {
   "cell_type": "markdown",
   "metadata": {},
   "source": [
    "### View the first assessment"
   ]
  },
  {
   "cell_type": "code",
   "execution_count": 53,
   "metadata": {
    "scrolled": true
   },
   "outputs": [
    {
     "data": {
      "text/plain": [
       "Row(keen_timestamp='1516717442.735266', max_attempts='1.0', started_at='2018-01-23T14:23:19.082Z', base_exam_id='37f0a30a-7464-11e6-aa92-a8667f27e5dc', user_exam_id='6d4089e4-bde5-4a22-b65f-18bce9ab79c8', sequences=Row(attempt=1, id='5b28a462-7a3b-42e0-b508-09f3906d1703', counts=Row(incomplete=1, submitted=4, incorrect=1, all_correct=False, correct=2, total=4, unanswered=0)), keen_created_at='1516717442.735266', certification='false', keen_id='5a6745820eb8ab00016be1f1', exam_name='Normal Forms and All That Jazz Master Class')"
      ]
     },
     "execution_count": 53,
     "metadata": {},
     "output_type": "execute_result"
    }
   ],
   "source": [
    "first_assessment_03 = extracted_assessments_second_schema.take(1)[0]\n",
    "first_assessment_03"
   ]
  },
  {
   "cell_type": "markdown",
   "metadata": {},
   "source": [
    "### Create SQL view assessement_second_format"
   ]
  },
  {
   "cell_type": "code",
   "execution_count": 54,
   "metadata": {
    "collapsed": true
   },
   "outputs": [],
   "source": [
    "extracted_assessments_second_schema.registerTempTable('assessments_second_format')"
   ]
  },
  {
   "cell_type": "markdown",
   "metadata": {},
   "source": [
    "### Querying exam_name works"
   ]
  },
  {
   "cell_type": "code",
   "execution_count": 55,
   "metadata": {
    "scrolled": true
   },
   "outputs": [
    {
     "name": "stdout",
     "output_type": "stream",
     "text": [
      "+--------------------+\n",
      "|           exam_name|\n",
      "+--------------------+\n",
      "|Learning Data Mod...|\n",
      "|Networking for Pe...|\n",
      "|Introduction to J...|\n",
      "|Learning Apache H...|\n",
      "|Learning Spring P...|\n",
      "+--------------------+\n",
      "only showing top 5 rows\n",
      "\n"
     ]
    }
   ],
   "source": [
    "spark.sql(\"select distinct(exam_name) from assessments_second_format\").show(5)"
   ]
  },
  {
   "cell_type": "markdown",
   "metadata": {},
   "source": [
    "### Querying sequences.counts.incomplete works"
   ]
  },
  {
   "cell_type": "code",
   "execution_count": 56,
   "metadata": {
    "scrolled": false
   },
   "outputs": [
    {
     "name": "stdout",
     "output_type": "stream",
     "text": [
      "+----------+\n",
      "|incomplete|\n",
      "+----------+\n",
      "|         1|\n",
      "|         2|\n",
      "|         0|\n",
      "|         2|\n",
      "|         0|\n",
      "+----------+\n",
      "only showing top 5 rows\n",
      "\n"
     ]
    }
   ],
   "source": [
    "spark.sql(\"select sequences.counts.incomplete from assessments_second_format\").show(5)"
   ]
  },
  {
   "cell_type": "markdown",
   "metadata": {},
   "source": [
    "### Sequences.quesitions was unfortunately not addressed in this schema"
   ]
  },
  {
   "cell_type": "markdown",
   "metadata": {},
   "source": [
    "## 1.4 Final Schema\n",
    "\n",
    "The final schema allows third party data scientists to access all the data in the original assessments json file.  First a rdd.map and lambda function are applied to map every value in s_assessment to its datatype.  Next, the spark.read.json command automatically infers the schema of the newly created JSON data set assessments and returns each object as dataframe.  The conversion is possible because each line contains a separate, self-contained valid JSON object.  Thus far, there have been several contrived methods of querying the data in sequences.questions and sequences.counts.  Furthermore, the final_schema is used throughout the remainder of the analysis due to its ease of use."
   ]
  },
  {
   "cell_type": "markdown",
   "metadata": {},
   "source": [
    "### Apply value map to each RDD element"
   ]
  },
  {
   "cell_type": "code",
   "execution_count": 57,
   "metadata": {
    "collapsed": true
   },
   "outputs": [],
   "source": [
    "assessments = s_assessments.rdd.map(lambda x: x.value)"
   ]
  },
  {
   "cell_type": "markdown",
   "metadata": {},
   "source": [
    "### Read/load json file return the result of assessements as a dataframe\n",
    "\n",
    "Good reference in pyspark documentation 3.0.0"
   ]
  },
  {
   "cell_type": "code",
   "execution_count": 58,
   "metadata": {
    "collapsed": true
   },
   "outputs": [],
   "source": [
    "extracted_assessments = spark.read.json(assessments)"
   ]
  },
  {
   "cell_type": "markdown",
   "metadata": {},
   "source": [
    "### Visualize inferred schema"
   ]
  },
  {
   "cell_type": "code",
   "execution_count": 59,
   "metadata": {},
   "outputs": [
    {
     "name": "stdout",
     "output_type": "stream",
     "text": [
      "root\n",
      " |-- base_exam_id: string (nullable = true)\n",
      " |-- certification: string (nullable = true)\n",
      " |-- exam_name: string (nullable = true)\n",
      " |-- keen_created_at: string (nullable = true)\n",
      " |-- keen_id: string (nullable = true)\n",
      " |-- keen_timestamp: string (nullable = true)\n",
      " |-- max_attempts: string (nullable = true)\n",
      " |-- sequences: struct (nullable = true)\n",
      " |    |-- attempt: long (nullable = true)\n",
      " |    |-- counts: struct (nullable = true)\n",
      " |    |    |-- all_correct: boolean (nullable = true)\n",
      " |    |    |-- correct: long (nullable = true)\n",
      " |    |    |-- incomplete: long (nullable = true)\n",
      " |    |    |-- incorrect: long (nullable = true)\n",
      " |    |    |-- submitted: long (nullable = true)\n",
      " |    |    |-- total: long (nullable = true)\n",
      " |    |    |-- unanswered: long (nullable = true)\n",
      " |    |-- id: string (nullable = true)\n",
      " |    |-- questions: array (nullable = true)\n",
      " |    |    |-- element: struct (containsNull = true)\n",
      " |    |    |    |-- id: string (nullable = true)\n",
      " |    |    |    |-- options: array (nullable = true)\n",
      " |    |    |    |    |-- element: struct (containsNull = true)\n",
      " |    |    |    |    |    |-- at: string (nullable = true)\n",
      " |    |    |    |    |    |-- checked: boolean (nullable = true)\n",
      " |    |    |    |    |    |-- correct: boolean (nullable = true)\n",
      " |    |    |    |    |    |-- id: string (nullable = true)\n",
      " |    |    |    |    |    |-- submitted: long (nullable = true)\n",
      " |    |    |    |-- user_correct: boolean (nullable = true)\n",
      " |    |    |    |-- user_incomplete: boolean (nullable = true)\n",
      " |    |    |    |-- user_result: string (nullable = true)\n",
      " |    |    |    |-- user_submitted: boolean (nullable = true)\n",
      " |-- started_at: string (nullable = true)\n",
      " |-- user_exam_id: string (nullable = true)\n",
      "\n"
     ]
    }
   ],
   "source": [
    "extracted_assessments.printSchema()"
   ]
  },
  {
   "cell_type": "markdown",
   "metadata": {},
   "source": [
    "### Remove duplicate keen_ids/exams from the dataset"
   ]
  },
  {
   "cell_type": "code",
   "execution_count": 60,
   "metadata": {
    "collapsed": true
   },
   "outputs": [],
   "source": [
    "extracted_assessments = extracted_assessments.dropDuplicates(['keen_id'])"
   ]
  },
  {
   "cell_type": "markdown",
   "metadata": {},
   "source": [
    "### Save to cache"
   ]
  },
  {
   "cell_type": "code",
   "execution_count": 61,
   "metadata": {},
   "outputs": [
    {
     "data": {
      "text/plain": [
       "DataFrame[base_exam_id: string, certification: string, exam_name: string, keen_created_at: string, keen_id: string, keen_timestamp: string, max_attempts: string, sequences: struct<attempt:bigint,counts:struct<all_correct:boolean,correct:bigint,incomplete:bigint,incorrect:bigint,submitted:bigint,total:bigint,unanswered:bigint>,id:string,questions:array<struct<id:string,options:array<struct<at:string,checked:boolean,correct:boolean,id:string,submitted:bigint>>,user_correct:boolean,user_incomplete:boolean,user_result:string,user_submitted:boolean>>>, started_at: string, user_exam_id: string]"
      ]
     },
     "execution_count": 61,
     "metadata": {},
     "output_type": "execute_result"
    }
   ],
   "source": [
    "extracted_assessments.cache()"
   ]
  },
  {
   "cell_type": "code",
   "execution_count": 62,
   "metadata": {},
   "outputs": [
    {
     "name": "stdout",
     "output_type": "stream",
     "text": [
      "+--------------------+-------------+--------------------+------------------+--------------------+------------------+------------+--------------------+--------------------+--------------------+\n",
      "|        base_exam_id|certification|           exam_name|   keen_created_at|             keen_id|    keen_timestamp|max_attempts|           sequences|          started_at|        user_exam_id|\n",
      "+--------------------+-------------+--------------------+------------------+--------------------+------------------+------------+--------------------+--------------------+--------------------+\n",
      "|1a233da8-e6e5-48a...|        false|Intermediate Pyth...|1511499390.3836269|5a17a67efa1257000...|1511499390.3836269|         1.0|[1,[false,1,0,3,4...|2017-11-24T04:54:...|ab96c540-1dbb-4c3...|\n",
      "+--------------------+-------------+--------------------+------------------+--------------------+------------------+------------+--------------------+--------------------+--------------------+\n",
      "only showing top 1 row\n",
      "\n"
     ]
    }
   ],
   "source": [
    "extracted_assessments.show(1)"
   ]
  },
  {
   "cell_type": "markdown",
   "metadata": {
    "collapsed": true
   },
   "source": [
    "# 2.0 SQL view assessments is created"
   ]
  },
  {
   "cell_type": "markdown",
   "metadata": {},
   "source": [
    "### Pipeline\n",
    "\n",
    "The registerTempTable() command registers a dataframe as a temporary table in the SQL context.  The data is stored using Hive's highly-optimized, in-memory columnar format."
   ]
  },
  {
   "cell_type": "code",
   "execution_count": 63,
   "metadata": {
    "collapsed": true
   },
   "outputs": [],
   "source": [
    "extracted_assessments.registerTempTable('assessments')"
   ]
  },
  {
   "cell_type": "markdown",
   "metadata": {},
   "source": [
    "### Can access the list of sequences.questions.user_correct for the first assessment"
   ]
  },
  {
   "cell_type": "code",
   "execution_count": 64,
   "metadata": {
    "scrolled": false
   },
   "outputs": [
    {
     "name": "stdout",
     "output_type": "stream",
     "text": [
      "+--------------------+\n",
      "|        user_correct|\n",
      "+--------------------+\n",
      "|[false, false, fa...|\n",
      "+--------------------+\n",
      "only showing top 1 row\n",
      "\n"
     ]
    }
   ],
   "source": [
    "spark.sql(\"select sequences.questions.user_correct user_correct from assessments\").show(1)"
   ]
  },
  {
   "cell_type": "markdown",
   "metadata": {},
   "source": [
    "### Can access the first element in the list of sequences.questions.user_correct of the first assessment"
   ]
  },
  {
   "cell_type": "code",
   "execution_count": 65,
   "metadata": {},
   "outputs": [
    {
     "name": "stdout",
     "output_type": "stream",
     "text": [
      "+------------+\n",
      "|user_correct|\n",
      "+------------+\n",
      "|       false|\n",
      "+------------+\n",
      "only showing top 1 row\n",
      "\n"
     ]
    }
   ],
   "source": [
    "spark.sql(\"select sequences.questions.user_correct[0] user_correct from assessments\").show(1)"
   ]
  },
  {
   "cell_type": "markdown",
   "metadata": {},
   "source": [
    "### Can access the first element in sequences.counts.total of the first assessment"
   ]
  },
  {
   "cell_type": "code",
   "execution_count": 66,
   "metadata": {},
   "outputs": [
    {
     "name": "stdout",
     "output_type": "stream",
     "text": [
      "+---------------+\n",
      "|total_questions|\n",
      "+---------------+\n",
      "|              4|\n",
      "+---------------+\n",
      "only showing top 1 row\n",
      "\n"
     ]
    }
   ],
   "source": [
    "spark.sql(\"select sequences.counts.total total_questions from assessments\").show(1)"
   ]
  },
  {
   "cell_type": "markdown",
   "metadata": {},
   "source": [
    "# 3.0 Questions"
   ]
  },
  {
   "cell_type": "markdown",
   "metadata": {},
   "source": [
    "### Pipeline\n",
    "\n",
    "A query tool is located at the end of the pipeline.  Keep in mind that the queries are run from a temporary table that was stored in Hive."
   ]
  },
  {
   "cell_type": "markdown",
   "metadata": {},
   "source": [
    "### 3.1 How many assessments are in the dataset?\n",
    "There are 3,242 assessments in the dataset."
   ]
  },
  {
   "cell_type": "code",
   "execution_count": 67,
   "metadata": {
    "scrolled": true
   },
   "outputs": [
    {
     "name": "stdout",
     "output_type": "stream",
     "text": [
      "+-----------------+\n",
      "|total_assessments|\n",
      "+-----------------+\n",
      "|             3242|\n",
      "+-----------------+\n",
      "\n"
     ]
    }
   ],
   "source": [
    "spark.sql(\"select count(exam_name) total_assessments from assessments\").show()"
   ]
  },
  {
   "cell_type": "markdown",
   "metadata": {},
   "source": [
    "### 3.2 What's the name of your Kafka topic? How did you come up with that name?"
   ]
  },
  {
   "cell_type": "markdown",
   "metadata": {
    "scrolled": true
   },
   "source": [
    "The name of my Kafka topic is assessments.  I used the name assessments because the topic is subscribed to assessment data from the assessment json file.  Choosing the name assessments was the natural choice in this situation.\n"
   ]
  },
  {
   "cell_type": "markdown",
   "metadata": {},
   "source": [
    "### 3.3 How many people took Learning Git?"
   ]
  },
  {
   "cell_type": "code",
   "execution_count": 68,
   "metadata": {
    "scrolled": true
   },
   "outputs": [
    {
     "name": "stdout",
     "output_type": "stream",
     "text": [
      "The number of people that took Learning Git are: 390\n",
      "+------------+---------+\n",
      "|   exam_name|total_num|\n",
      "+------------+---------+\n",
      "|Learning Git|      390|\n",
      "+------------+---------+\n",
      "\n"
     ]
    }
   ],
   "source": [
    "print('The number of people that took Learning Git are:', \\\n",
    "      spark.sql(\"select exam_name from assessments where exam_name = 'Learning Git'\").count())\n",
    "\n",
    "spark.sql(\"select * from (\\\n",
    "                select exam_name, count(exam_name) as total_num \\\n",
    "                from assessments \\\n",
    "                group by exam_name) \\\n",
    "            where exam_name =='Learning Git'\").show()"
   ]
  },
  {
   "cell_type": "markdown",
   "metadata": {},
   "source": [
    "### 3.4  What is the least common course taken?  What is the most common?"
   ]
  },
  {
   "cell_type": "code",
   "execution_count": 69,
   "metadata": {
    "scrolled": false
   },
   "outputs": [
    {
     "name": "stdout",
     "output_type": "stream",
     "text": [
      "+--------------------+---------+\n",
      "|           exam_name|total_num|\n",
      "+--------------------+---------+\n",
      "|Native Web Apps f...|        1|\n",
      "|Nulls, Three-valu...|        1|\n",
      "|Learning to Visua...|        1|\n",
      "|Operating Red Hat...|        1|\n",
      "|Client-Side Data ...|        2|\n",
      "|The Closed World ...|        2|\n",
      "|Learning Spring P...|        2|\n",
      "|Arduino Prototypi...|        2|\n",
      "|Hibernate and JPA...|        2|\n",
      "|What's New in Jav...|        2|\n",
      "+--------------------+---------+\n",
      "only showing top 10 rows\n",
      "\n"
     ]
    }
   ],
   "source": [
    "spark.sql(\"select exam_name, count(exam_name) as total_num \\\n",
    "            from assessments \\\n",
    "            group by exam_name \\\n",
    "            order by total_num\").show(10)"
   ]
  },
  {
   "cell_type": "code",
   "execution_count": 70,
   "metadata": {
    "collapsed": true
   },
   "outputs": [],
   "source": [
    "courses_total_num = spark.sql(\"select exam_name, count(exam_name) as total_num \\\n",
    "                                from assessments \\\n",
    "                                group by exam_name \\\n",
    "                                order by total_num\")"
   ]
  },
  {
   "cell_type": "markdown",
   "metadata": {},
   "source": [
    "### The least common courses are!"
   ]
  },
  {
   "cell_type": "code",
   "execution_count": 71,
   "metadata": {
    "scrolled": true
   },
   "outputs": [
    {
     "name": "stdout",
     "output_type": "stream",
     "text": [
      "The least common courses are:\n",
      "1. Native Web Apps for Android\n",
      "2. Learning to Visualize Data with D3.js\n",
      "3. Nulls, Three-valued Logic and Missing Information\n",
      "4. Operating Red Hat Enterprise Linux Servers\n"
     ]
    }
   ],
   "source": [
    "print(\"The least common courses are:\")\n",
    "for i in range(4):\n",
    "    print(str(i+1)+\".\",courses_total_num.take(4)[i][0])\n"
   ]
  },
  {
   "cell_type": "markdown",
   "metadata": {},
   "source": [
    "### Find the most common course."
   ]
  },
  {
   "cell_type": "code",
   "execution_count": 72,
   "metadata": {
    "collapsed": true
   },
   "outputs": [],
   "source": [
    "courses_total_num_desc = spark.sql(\"select exam_name, count(exam_name) as total_num \\\n",
    "                                    from assessments \\\n",
    "                                    group by exam_name \\\n",
    "                                    order by total_num desc\")"
   ]
  },
  {
   "cell_type": "code",
   "execution_count": 73,
   "metadata": {
    "scrolled": true
   },
   "outputs": [
    {
     "name": "stdout",
     "output_type": "stream",
     "text": [
      "+------------+---------+\n",
      "|   exam_name|total_num|\n",
      "+------------+---------+\n",
      "|Learning Git|      390|\n",
      "+------------+---------+\n",
      "only showing top 1 row\n",
      "\n"
     ]
    }
   ],
   "source": [
    "courses_total_num_desc.show(1)"
   ]
  },
  {
   "cell_type": "markdown",
   "metadata": {},
   "source": [
    "### The most common course is!"
   ]
  },
  {
   "cell_type": "code",
   "execution_count": 74,
   "metadata": {},
   "outputs": [
    {
     "name": "stdout",
     "output_type": "stream",
     "text": [
      "The most common course is: Learning Git\n"
     ]
    }
   ],
   "source": [
    "print(\"The most common course is:\",courses_total_num_desc.first()[0])"
   ]
  },
  {
   "cell_type": "markdown",
   "metadata": {},
   "source": [
    "### 3.5 How many distinct exams are in the dataset?"
   ]
  },
  {
   "cell_type": "code",
   "execution_count": 75,
   "metadata": {
    "scrolled": false
   },
   "outputs": [
    {
     "name": "stdout",
     "output_type": "stream",
     "text": [
      "+------------+\n",
      "|num_of_exams|\n",
      "+------------+\n",
      "|         103|\n",
      "+------------+\n",
      "\n"
     ]
    }
   ],
   "source": [
    "spark.sql(\"select count(distinct(exam_name)) num_of_exams from assessments\").show()"
   ]
  },
  {
   "cell_type": "markdown",
   "metadata": {},
   "source": [
    "### 3.6 What are the number of perfect scores for each exam?\n",
    "\n",
    "No key:value pair exists for a perfect score on an exam, not even a percentage.  If the assessment data for sequences.count.correct is correct for the total number of questions, it is assumed that the exam outcome was a perfect score."
   ]
  },
  {
   "cell_type": "code",
   "execution_count": 76,
   "metadata": {
    "scrolled": false
   },
   "outputs": [
    {
     "name": "stdout",
     "output_type": "stream",
     "text": [
      "+--------------------+-----------------+-------------+\n",
      "|           exam_name|total_exams_taken|perfect_score|\n",
      "+--------------------+-----------------+-------------+\n",
      "|        Learning Git|              390|          128|\n",
      "|Introduction to J...|              158|           94|\n",
      "|Introduction to M...|              119|           46|\n",
      "|Beginning Program...|               79|           29|\n",
      "|Advanced Machine ...|               67|           24|\n",
      "|Intermediate Pyth...|              156|           23|\n",
      "|Learning Apache M...|               80|           21|\n",
      "|Git Fundamentals ...|               28|           21|\n",
      "|    Learning Eclipse|               85|           21|\n",
      "|Learning to Progr...|              128|           20|\n",
      "|Introduction to P...|              162|           19|\n",
      "|        Learning SQL|               57|           14|\n",
      "|Introduction to B...|               73|           13|\n",
      "|Software Architec...|               48|           13|\n",
      "|Software Architec...|              109|           12|\n",
      "|   Python Epiphanies|               51|           12|\n",
      "|Beginning C# Prog...|               83|           12|\n",
      "|Learning SQL for ...|               11|           10|\n",
      "|Expert Data Wrang...|               35|           10|\n",
      "|Introduction to T...|               28|           10|\n",
      "+--------------------+-----------------+-------------+\n",
      "only showing top 20 rows\n",
      "\n"
     ]
    }
   ],
   "source": [
    "spark.sql(\"select exam_name, count(exam_name) total_exams_taken, sum(case when correct=total then 1 else 0 end) perfect_score from( \\\n",
    "            select exam_name, sequences.counts.correct correct, sequences.counts.total total  \\\n",
    "            from assessments) \\\n",
    "            group by exam_name\\\n",
    "            order by perfect_score desc\").show()"
   ]
  },
  {
   "cell_type": "markdown",
   "metadata": {},
   "source": [
    "### 3.7 What is the perfect scores percentage for each exam?"
   ]
  },
  {
   "cell_type": "code",
   "execution_count": 77,
   "metadata": {
    "scrolled": false
   },
   "outputs": [
    {
     "name": "stdout",
     "output_type": "stream",
     "text": [
      "+--------------------+-----------------+---------------------+\n",
      "|           exam_name|total_exams_taken|perfect_score_percent|\n",
      "+--------------------+-----------------+---------------------+\n",
      "|Learning to Visua...|                1|                100.0|\n",
      "|The Closed World ...|                2|                100.0|\n",
      "|Nulls, Three-valu...|                1|                100.0|\n",
      "|Learning SQL for ...|               11|                90.91|\n",
      "|Introduction to H...|                8|                 75.0|\n",
      "|Git Fundamentals ...|               28|                 75.0|\n",
      "|Introduction to A...|                6|                66.67|\n",
      "|Introduction to J...|              158|                59.49|\n",
      "|Introduction to A...|                7|                57.14|\n",
      "|Refactor a Monoli...|               17|                52.94|\n",
      "|Learning Apache C...|               12|                 50.0|\n",
      "|What's New in Jav...|                2|                 50.0|\n",
      "|Introduction to A...|                9|                44.44|\n",
      "|Mastering Python ...|               25|                 40.0|\n",
      "|An Introduction t...|                5|                 40.0|\n",
      "|Starting a Grails...|                5|                 40.0|\n",
      "|Being a Better In...|               10|                 40.0|\n",
      "|Introduction to M...|              119|                38.66|\n",
      "|Introduction to A...|               13|                38.46|\n",
      "|           Nullology|                8|                 37.5|\n",
      "|Beginning Program...|               79|                36.71|\n",
      "|Amazon Web Servic...|               11|                36.36|\n",
      "|Advanced Machine ...|               67|                35.82|\n",
      "|Introduction to T...|               28|                35.71|\n",
      "|Working with Algo...|               14|                35.71|\n",
      "| Mastering Web Views|                3|                33.33|\n",
      "|Getting Ready for...|                3|                33.33|\n",
      "|Service Based Arc...|                3|                33.33|\n",
      "|Hadoop Fundamenta...|                6|                33.33|\n",
      "|Collaborating wit...|                6|                33.33|\n",
      "|Using Web Components|                3|                33.33|\n",
      "|        Learning Git|              390|                32.82|\n",
      "|Learning C# Desig...|               19|                31.58|\n",
      "|Learning Apache H...|               16|                31.25|\n",
      "|Cloud Native Arch...|               29|                31.03|\n",
      "|Arduino Prototypi...|               10|                 30.0|\n",
      "|Architectural Con...|               10|                 30.0|\n",
      "|Learning Linux Se...|               27|                29.63|\n",
      "|Data Science with...|                7|                28.57|\n",
      "|Expert Data Wrang...|               35|                28.57|\n",
      "|Reproducible Rese...|               21|                28.57|\n",
      "|Introduction to A...|               14|                28.57|\n",
      "|Software Architec...|               48|                27.08|\n",
      "|Networking for Pe...|               15|                26.67|\n",
      "|I'm a Software Ar...|               15|                26.67|\n",
      "|Learning Apache M...|               80|                26.25|\n",
      "|       View Updating|                4|                 25.0|\n",
      "|Using Storytellin...|                4|                 25.0|\n",
      "|    Learning Eclipse|               85|                24.71|\n",
      "|        Learning SQL|               57|                24.56|\n",
      "|JavaScript Templa...|               21|                23.81|\n",
      "|        Learning DNS|               38|                23.68|\n",
      "|   Python Epiphanies|               51|                23.53|\n",
      "|An Introduction t...|               31|                22.58|\n",
      "|A Practical Intro...|                9|                22.22|\n",
      "|Intermediate C# P...|               39|                20.51|\n",
      "|Event-Driven Micr...|               10|                 20.0|\n",
      "|Relational Theory...|               15|                 20.0|\n",
      "|Modeling for Soft...|                5|                 20.0|\n",
      "|Practical Java Pr...|               53|                18.87|\n",
      "|Introduction to S...|               27|                18.52|\n",
      "|The Principles of...|               11|                18.18|\n",
      "|SQL: Beyond the B...|               11|                18.18|\n",
      "|Introduction to B...|               73|                17.81|\n",
      "|Learning iPython ...|               17|                17.65|\n",
      "|Cloud Computing W...|               17|                17.65|\n",
      "|    HTML5 The Basics|               52|                17.31|\n",
      "|Amazon Web Servic...|               12|                16.67|\n",
      "|Using R for Big D...|               24|                16.67|\n",
      "|Introduction to D...|               43|                16.28|\n",
      "|Data Visualizatio...|               31|                16.13|\n",
      "|  Learning Java EE 7|               25|                 16.0|\n",
      "|Learning to Progr...|              128|                15.63|\n",
      "|JavaScript: The G...|               58|                15.52|\n",
      "|         Offline Web|               13|                15.38|\n",
      "|Intermediate Pyth...|              156|                14.74|\n",
      "|Beginning C# Prog...|               83|                14.46|\n",
      "|              TCP/IP|               21|                14.29|\n",
      "|Normal Forms and ...|                7|                14.29|\n",
      "|Python Data Struc...|               29|                13.79|\n",
      "|Web & Native Work...|                8|                 12.5|\n",
      "|      Arduino Inputs|                8|                 12.5|\n",
      "|Introduction to P...|              162|                11.73|\n",
      "|       Mastering Git|               77|                11.69|\n",
      "|Learning Data Mod...|                9|                11.11|\n",
      "|Software Architec...|              109|                11.01|\n",
      "|Learning C# Best ...|               29|                10.34|\n",
      "|Mastering Advance...|               34|                 8.82|\n",
      "|Learning Data Str...|               13|                 7.69|\n",
      "|Introduction to M...|               13|                 7.69|\n",
      "|          Great Bash|               14|                 7.14|\n",
      "|Learning Linux Sy...|               59|                 6.78|\n",
      "|Design Patterns i...|               15|                 6.67|\n",
      "|Learning Spring P...|                2|                  0.0|\n",
      "|Arduino Prototypi...|                2|                  0.0|\n",
      "|Understanding the...|                2|                  0.0|\n",
      "|Example Exam For ...|                5|                  0.0|\n",
      "|Operating Red Hat...|                1|                  0.0|\n",
      "|Hibernate and JPA...|                2|                  0.0|\n",
      "|Building Web Serv...|                3|                  0.0|\n",
      "|Introduction to M...|                6|                  0.0|\n",
      "|Native Web Apps f...|                1|                  0.0|\n",
      "|Client-Side Data ...|                2|                  0.0|\n",
      "+--------------------+-----------------+---------------------+\n",
      "\n"
     ]
    }
   ],
   "source": [
    "spark.sql(\"select exam_name, total_exams_taken, round((perfect_score/total_exams_taken)*100, 2) perfect_score_percent from (\\\n",
    "                select exam_name, count(exam_name) total_exams_taken, sum(case when correct=total then 1 else 0 end) \\\n",
    "                perfect_score from( \\\n",
    "                    select exam_name, sequences.counts.correct correct, sequences.counts.total total  \\\n",
    "                    from assessments) \\\n",
    "                group by exam_name) \\\n",
    "            order by perfect_score_percent desc\").show(103)"
   ]
  },
  {
   "cell_type": "markdown",
   "metadata": {},
   "source": [
    "### 3.8 What are the average of correct questions for each exam?\n",
    "\n",
    "For some reason, \"Example Exam For Development and Testing oh yeahsdf\" has null data for the key:value pairs that existed in the nests.  Judging by the title, the exam may only be a sample test.  There are five like it in the dataset."
   ]
  },
  {
   "cell_type": "code",
   "execution_count": 78,
   "metadata": {
    "scrolled": false
   },
   "outputs": [
    {
     "name": "stdout",
     "output_type": "stream",
     "text": [
      "+--------------------+---------------+---------------------+\n",
      "|           exam_name|total_questions|avg_questions_correct|\n",
      "+--------------------+---------------+---------------------+\n",
      "|Example Exam For ...|           null|                 null|\n",
      "|       View Updating|              1|                 0.25|\n",
      "|Introduction to H...|              1|                 0.75|\n",
      "|           Nullology|              1|                 0.38|\n",
      "|Git Fundamentals ...|              1|                 0.75|\n",
      "|Introduction to A...|              1|                 0.57|\n",
      "|Nulls, Three-valu...|              1|                  1.0|\n",
      "|The Closed World ...|              2|                  2.0|\n",
      "|Hadoop Fundamenta...|              2|                 1.33|\n",
      "|An Introduction t...|              2|                  1.2|\n",
      "|         Offline Web|              3|                 1.31|\n",
      "|Networking for Pe...|              3|                 1.67|\n",
      "|Introduction to A...|              3|                 1.64|\n",
      "|Web & Native Work...|              3|                 1.25|\n",
      "|Amazon Web Servic...|              3|                  1.5|\n",
      "|Introduction to A...|              3|                 2.31|\n",
      "|Using R for Big D...|              3|                 1.67|\n",
      "|Introduction to T...|              3|                 2.14|\n",
      "|Relational Theory...|              3|                 1.87|\n",
      "|Software Architec...|              3|                 1.77|\n",
      "|Refactor a Monoli...|              3|                 2.29|\n",
      "|  Learning Java EE 7|              3|                 1.44|\n",
      "|Introduction to A...|              3|                  2.5|\n",
      "|Learning to Visua...|              3|                  3.0|\n",
      "|Introduction to A...|              4|                 3.33|\n",
      "|Practical Java Pr...|              4|                 2.38|\n",
      "|Learning iPython ...|              4|                  2.0|\n",
      "|Learning Apache H...|              4|                 3.06|\n",
      "|Data Visualizatio...|              4|                 1.97|\n",
      "|Introduction to B...|              4|                 2.42|\n",
      "|Learning Spring P...|              4|                  2.5|\n",
      "|Service Based Arc...|              4|                 2.67|\n",
      "|Starting a Grails...|              4|                  3.0|\n",
      "|Python Data Struc...|              4|                 2.17|\n",
      "|        Learning SQL|              4|                 2.95|\n",
      "|JavaScript Templa...|              4|                 2.71|\n",
      "|Learning Data Mod...|              4|                  2.0|\n",
      "|Amazon Web Servic...|              4|                 2.91|\n",
      "|        Learning DNS|              4|                 2.53|\n",
      "|I'm a Software Ar...|              4|                 2.13|\n",
      "|Normal Forms and ...|              4|                 2.43|\n",
      "|Data Science with...|              4|                 2.43|\n",
      "|Learning SQL for ...|              4|                 3.91|\n",
      "|Introduction to S...|              4|                 2.15|\n",
      "|Mastering Python ...|              4|                 2.96|\n",
      "|Learning Apache M...|              4|                 2.44|\n",
      "|Introduction to M...|              4|                 2.75|\n",
      "| Mastering Web Views|              4|                 1.67|\n",
      "|An Introduction t...|              4|                 2.26|\n",
      "|Mastering Advance...|              4|                 1.44|\n",
      "|Reproducible Rese...|              4|                 2.48|\n",
      "|       Mastering Git|              4|                 2.35|\n",
      "|Using Storytellin...|              4|                  3.0|\n",
      "|Modeling for Soft...|              4|                  2.6|\n",
      "|The Principles of...|              4|                 2.27|\n",
      "|Hibernate and JPA...|              4|                  2.0|\n",
      "|Intermediate C# P...|              4|                 2.21|\n",
      "|Learning Apache C...|              4|                 2.67|\n",
      "|Learning Data Str...|              4|                  2.0|\n",
      "|Beginning C# Prog...|              4|                  2.2|\n",
      "|Software Architec...|              4|                 1.92|\n",
      "|SQL: Beyond the B...|              4|                 2.55|\n",
      "|JavaScript: The G...|              4|                 2.62|\n",
      "|Intermediate Pyth...|              4|                 2.06|\n",
      "|Learning C# Desig...|              4|                 2.74|\n",
      "|Introduction to M...|              4|                 2.15|\n",
      "|Building Web Serv...|              4|                 1.67|\n",
      "|Working with Algo...|              4|                 2.86|\n",
      "|A Practical Intro...|              4|                 2.33|\n",
      "|Native Web Apps f...|              4|                  1.0|\n",
      "|Advanced Machine ...|              4|                  2.9|\n",
      "|Cloud Computing W...|              4|                 1.71|\n",
      "|Learning Linux Se...|              4|                 2.48|\n",
      "|Expert Data Wrang...|              4|                 2.66|\n",
      "|Beginning Program...|              4|                 3.06|\n",
      "|Introduction to J...|              5|                 4.38|\n",
      "|Introduction to P...|              5|                 2.83|\n",
      "|              TCP/IP|              5|                 2.81|\n",
      "|Learning C# Best ...|              5|                 2.31|\n",
      "|        Learning Git|              5|                 3.37|\n",
      "|Collaborating wit...|              5|                 3.67|\n",
      "|    Learning Eclipse|              5|                 3.53|\n",
      "|Arduino Prototypi...|              5|                  3.4|\n",
      "|Design Patterns i...|              5|                 2.33|\n",
      "|Architectural Con...|              5|                  2.9|\n",
      "|Event-Driven Micr...|              5|                  3.3|\n",
      "|Cloud Native Arch...|              5|                  4.0|\n",
      "|Getting Ready for...|              5|                  4.0|\n",
      "|Client-Side Data ...|              5|                  1.0|\n",
      "|Arduino Prototypi...|              6|                  2.0|\n",
      "|Using Web Components|              6|                  3.0|\n",
      "|      Arduino Inputs|              6|                 3.88|\n",
      "|    HTML5 The Basics|              6|                 3.63|\n",
      "|Introduction to M...|              6|                  3.5|\n",
      "|   Python Epiphanies|              6|                 4.45|\n",
      "|What's New in Jav...|              7|                  4.5|\n",
      "|Being a Better In...|              7|                  1.5|\n",
      "|Understanding the...|              7|                  5.5|\n",
      "|Introduction to D...|              7|                 3.65|\n",
      "|Learning to Progr...|              7|                 3.81|\n",
      "|Learning Linux Sy...|              8|                 4.44|\n",
      "|          Great Bash|             10|                 6.14|\n",
      "|Operating Red Hat...|             20|                 11.0|\n",
      "+--------------------+---------------+---------------------+\n",
      "\n"
     ]
    }
   ],
   "source": [
    "spark.sql(\"select exam_name, max(total) total_questions, round(avg(correct),2) avg_questions_correct \\\n",
    "           from(select exam_name, sequences.counts.correct correct, sequences.counts.total total  \\\n",
    "            from assessments) \\\n",
    "            group by exam_name \\\n",
    "            order by total_questions\").show(103)"
   ]
  },
  {
   "cell_type": "code",
   "execution_count": 93,
   "metadata": {
    "scrolled": false
   },
   "outputs": [
    {
     "name": "stdout",
     "output_type": "stream",
     "text": [
      "+--------------------+----------+\n",
      "|           exam_name|exam_count|\n",
      "+--------------------+----------+\n",
      "|Example Exam For ...|         5|\n",
      "+--------------------+----------+\n",
      "\n"
     ]
    }
   ],
   "source": [
    "test = spark.sql(\"select * from(select exam_name, count(exam_name) exam_count \\\n",
    "            from assessments \\\n",
    "            group by exam_name) \\\n",
    "            where exam_name = 'Example Exam For Development and Testing oh yeahsdf'\").show()"
   ]
  },
  {
   "cell_type": "code",
   "execution_count": 101,
   "metadata": {
    "scrolled": false
   },
   "outputs": [
    {
     "name": "stdout",
     "output_type": "stream",
     "text": [
      "+--------------------+-------------+-----+----------+-------+------------+\n",
      "|           exam_name|certification|total|incomplete|correct|user_correct|\n",
      "+--------------------+-------------+-----+----------+-------+------------+\n",
      "|Example Exam For ...|        false| null|      null|   null|        null|\n",
      "|Example Exam For ...|        false| null|      null|   null|        null|\n",
      "|Example Exam For ...|        false| null|      null|   null|        null|\n",
      "|Example Exam For ...|        false| null|      null|   null|        null|\n",
      "|Example Exam For ...|        false| null|      null|   null|        null|\n",
      "+--------------------+-------------+-----+----------+-------+------------+\n",
      "\n"
     ]
    }
   ],
   "source": [
    "test = spark.sql(\"select * from(select exam_name, certification, sequences.counts.total, sequences.counts.incomplete, sequences.counts.correct,  \\\n",
    "            sequences.questions.user_correct[0] user_correct\\\n",
    "            from assessments) \\\n",
    "            where exam_name = 'Example Exam For Development and Testing oh yeahsdf'\").show()"
   ]
  },
  {
   "cell_type": "markdown",
   "metadata": {},
   "source": [
    "### 3.9 Lets examine the Learning Git assessment."
   ]
  },
  {
   "cell_type": "markdown",
   "metadata": {},
   "source": [
    "### 3.9.1 Learning Git assessments with score greater than 90%"
   ]
  },
  {
   "cell_type": "code",
   "execution_count": 75,
   "metadata": {
    "scrolled": false
   },
   "outputs": [
    {
     "name": "stdout",
     "output_type": "stream",
     "text": [
      "How many Learning Git exams are 90% and greater:  128\n",
      "+------------+--------------------+----------+----------+---------+---------+-------+-----+-----------+\n",
      "|   exam_name|        user_exam_id|unanswered|incomplete|incorrect|submitted|correct|total|all_correct|\n",
      "+------------+--------------------+----------+----------+---------+---------+-------+-----+-----------+\n",
      "|Learning Git|2cbbfe41-b954-4ca...|         0|         0|        0|        5|      5|    5|       true|\n",
      "|Learning Git|0d56a1e7-3bb1-435...|         0|         0|        0|        5|      5|    5|       true|\n",
      "|Learning Git|07d33f96-64e6-499...|         0|         0|        0|        5|      5|    5|       true|\n",
      "|Learning Git|1c965684-9ee4-4b7...|         0|         0|        0|        5|      5|    5|       true|\n",
      "|Learning Git|865cdead-a00f-4e9...|         0|         0|        0|        5|      5|    5|       true|\n",
      "|Learning Git|afd223cf-734e-4d3...|         0|         0|        0|        5|      5|    5|       true|\n",
      "|Learning Git|2a3b242d-92ac-4a3...|         0|         0|        0|        5|      5|    5|       true|\n",
      "|Learning Git|5857c5e8-8c95-485...|         0|         0|        0|        5|      5|    5|       true|\n",
      "|Learning Git|b8cb85e9-446b-454...|         0|         0|        0|        5|      5|    5|       true|\n",
      "|Learning Git|f09eba67-387b-43e...|         0|         0|        0|        5|      5|    5|       true|\n",
      "|Learning Git|7ff9b3b0-6a5f-413...|         0|         0|        0|        5|      5|    5|       true|\n",
      "|Learning Git|4682a6be-b921-4e5...|         0|         0|        0|        5|      5|    5|       true|\n",
      "|Learning Git|e75400eb-49fd-4f2...|         0|         0|        0|        5|      5|    5|       true|\n",
      "|Learning Git|1f45905c-f5a6-41b...|         0|         0|        0|        5|      5|    5|       true|\n",
      "|Learning Git|010e40c7-86f8-428...|         0|         0|        0|        5|      5|    5|       true|\n",
      "|Learning Git|1faff964-ce87-4a2...|         0|         0|        0|        5|      5|    5|       true|\n",
      "|Learning Git|3d41c213-15a0-4e1...|         0|         0|        0|        5|      5|    5|       true|\n",
      "|Learning Git|61566493-0205-4c3...|         0|         0|        0|        5|      5|    5|       true|\n",
      "|Learning Git|a5a1a307-9031-4f9...|         0|         0|        0|        5|      5|    5|       true|\n",
      "|Learning Git|e929da6a-142e-46f...|         0|         0|        0|        5|      5|    5|       true|\n",
      "+------------+--------------------+----------+----------+---------+---------+-------+-----+-----------+\n",
      "only showing top 20 rows\n",
      "\n"
     ]
    }
   ],
   "source": [
    "print(\"How many Learning Git exams are 90% and greater: \",\n",
    "spark.sql(\"select * from(select exam_name, \\\n",
    "          user_exam_id,                \\\n",
    "          sequences.counts.unanswered, \\\n",
    "          sequences.counts.incomplete, \\\n",
    "          sequences.counts.incorrect,  \\\n",
    "          sequences.counts.submitted,  \\\n",
    "          sequences.counts.correct,    \\\n",
    "          sequences.counts.total,      \\\n",
    "          sequences.counts.all_correct \\\n",
    "from assessments where exam_name='Learning Git') \\\n",
    "where (correct/total) >=.90\").count())\n",
    "\n",
    "spark.sql(\"select * from(select exam_name, \\\n",
    "          user_exam_id,                \\\n",
    "          sequences.counts.unanswered, \\\n",
    "          sequences.counts.incomplete, \\\n",
    "          sequences.counts.incorrect,  \\\n",
    "          sequences.counts.submitted,  \\\n",
    "          sequences.counts.correct,    \\\n",
    "          sequences.counts.total,      \\\n",
    "          sequences.counts.all_correct \\\n",
    "from assessments where exam_name='Learning Git') \\\n",
    "where (correct/total) >= .9\").show()"
   ]
  },
  {
   "cell_type": "markdown",
   "metadata": {},
   "source": [
    "### 3.9.2 Learning Git assessments 80% and greater but less than 90%."
   ]
  },
  {
   "cell_type": "code",
   "execution_count": 102,
   "metadata": {
    "scrolled": false
   },
   "outputs": [
    {
     "name": "stdout",
     "output_type": "stream",
     "text": [
      "How many Learning Git exams are 80% and greater but less than 90%:  87\n",
      "+------------+--------------------+----------+----------+---------+---------+-------+-----+-----------+\n",
      "|   exam_name|        user_exam_id|unanswered|incomplete|incorrect|submitted|correct|total|all_correct|\n",
      "+------------+--------------------+----------+----------+---------+---------+-------+-----+-----------+\n",
      "|Learning Git|22978de3-f4ea-42c...|         0|         0|        1|        5|      4|    5|      false|\n",
      "|Learning Git|3a521425-5c8e-41c...|         0|         0|        1|        5|      4|    5|      false|\n",
      "|Learning Git|aa1281d2-b447-41c...|         0|         0|        1|        5|      4|    5|      false|\n",
      "|Learning Git|a3ab3eb2-f2c2-4bc...|         0|         0|        1|        5|      4|    5|      false|\n",
      "|Learning Git|d630e406-59d3-43f...|         0|         0|        1|        5|      4|    5|      false|\n",
      "|Learning Git|26ac13db-251d-458...|         0|         0|        1|        5|      4|    5|      false|\n",
      "|Learning Git|c256bc7f-f630-468...|         0|         0|        1|        5|      4|    5|      false|\n",
      "|Learning Git|da35d2ef-0e2e-4a0...|         0|         0|        1|        5|      4|    5|      false|\n",
      "|Learning Git|bc1f5e8c-56b0-498...|         0|         0|        1|        5|      4|    5|      false|\n",
      "|Learning Git|dcc916fd-405e-43f...|         0|         0|        1|        5|      4|    5|      false|\n",
      "|Learning Git|590b68d4-9b0a-4c8...|         0|         0|        1|        5|      4|    5|      false|\n",
      "|Learning Git|bf3cde66-c4d4-4a8...|         0|         0|        1|        5|      4|    5|      false|\n",
      "|Learning Git|c367a379-1b41-4b5...|         0|         0|        1|        5|      4|    5|      false|\n",
      "|Learning Git|56d47621-ce11-4ea...|         0|         0|        1|        5|      4|    5|      false|\n",
      "|Learning Git|ec8982ef-7747-4f8...|         0|         0|        1|        5|      4|    5|      false|\n",
      "|Learning Git|e5850532-8903-4ea...|         0|         0|        1|        5|      4|    5|      false|\n",
      "|Learning Git|0f79f005-1ad5-43e...|         0|         0|        1|        5|      4|    5|      false|\n",
      "|Learning Git|390a6673-16fd-455...|         0|         0|        1|        5|      4|    5|      false|\n",
      "|Learning Git|81630faa-fa6c-42a...|         0|         0|        1|        5|      4|    5|      false|\n",
      "|Learning Git|0d0ef0d0-52a6-47f...|         0|         0|        1|        5|      4|    5|      false|\n",
      "+------------+--------------------+----------+----------+---------+---------+-------+-----+-----------+\n",
      "only showing top 20 rows\n",
      "\n"
     ]
    }
   ],
   "source": [
    "print(\"How many Learning Git exams are 80% and greater but less than 90%: \",\n",
    "spark.sql(\"select * from(select exam_name, \\\n",
    "          user_exam_id,                \\\n",
    "          sequences.counts.unanswered, \\\n",
    "          sequences.counts.incomplete, \\\n",
    "          sequences.counts.incorrect,  \\\n",
    "          sequences.counts.submitted,  \\\n",
    "          sequences.counts.correct,    \\\n",
    "          sequences.counts.total,      \\\n",
    "          sequences.counts.all_correct \\\n",
    "from assessments where exam_name='Learning Git') \\\n",
    "where (correct/total) >=.8 and (correct/total) < .9\").count())\n",
    "\n",
    "spark.sql(\"select * from(select exam_name, \\\n",
    "          user_exam_id,                \\\n",
    "          sequences.counts.unanswered, \\\n",
    "          sequences.counts.incomplete, \\\n",
    "          sequences.counts.incorrect,  \\\n",
    "          sequences.counts.submitted,  \\\n",
    "          sequences.counts.correct,    \\\n",
    "          sequences.counts.total,      \\\n",
    "          sequences.counts.all_correct \\\n",
    "from assessments where exam_name='Learning Git') \\\n",
    "where (correct/total) >= .8 and (correct/total) < .9\").show()"
   ]
  },
  {
   "cell_type": "markdown",
   "metadata": {},
   "source": [
    "### 3.9.3 Learning Git assessments 70% and greater but less than 80%.\n",
    "\n",
    "There are no exams in this percentage range."
   ]
  },
  {
   "cell_type": "code",
   "execution_count": 77,
   "metadata": {
    "scrolled": true
   },
   "outputs": [
    {
     "name": "stdout",
     "output_type": "stream",
     "text": [
      "How many Learning Git exams are 70% and greater but less than 80%:  0\n",
      "+---------+------------+----------+----------+---------+---------+-------+-----+-----------+-------------+\n",
      "|exam_name|user_exam_id|unanswered|incomplete|incorrect|submitted|correct|total|all_correct|certification|\n",
      "+---------+------------+----------+----------+---------+---------+-------+-----+-----------+-------------+\n",
      "+---------+------------+----------+----------+---------+---------+-------+-----+-----------+-------------+\n",
      "\n"
     ]
    }
   ],
   "source": [
    "print(\"How many Learning Git exams are 70% and greater but less than 80%: \",\n",
    "spark.sql(\"select * from(select exam_name, \\\n",
    "          user_exam_id,                \\\n",
    "          sequences.counts.unanswered, \\\n",
    "          sequences.counts.incomplete, \\\n",
    "          sequences.counts.incorrect,  \\\n",
    "          sequences.counts.submitted,  \\\n",
    "          sequences.counts.correct,    \\\n",
    "          sequences.counts.total,      \\\n",
    "          sequences.counts.all_correct,\\\n",
    "          certification                \\\n",
    "from assessments where exam_name='Learning Git') \\\n",
    "where (correct/total) >=.7 and (correct/total) < .8\").count())\n",
    "\n",
    "spark.sql(\"select * from(select exam_name, \\\n",
    "          user_exam_id,                \\\n",
    "          sequences.counts.unanswered, \\\n",
    "          sequences.counts.incomplete, \\\n",
    "          sequences.counts.incorrect,  \\\n",
    "          sequences.counts.submitted,  \\\n",
    "          sequences.counts.correct,    \\\n",
    "          sequences.counts.total,      \\\n",
    "          sequences.counts.all_correct,\\\n",
    "          certification                \\\n",
    "from assessments where exam_name='Learning Git') \\\n",
    "where (correct/total) >= .7 and (correct/total) < .8\").show()"
   ]
  },
  {
   "cell_type": "markdown",
   "metadata": {},
   "source": [
    "### 3.9.4 Learning Git exam scores"
   ]
  },
  {
   "cell_type": "code",
   "execution_count": 78,
   "metadata": {
    "scrolled": false
   },
   "outputs": [
    {
     "name": "stdout",
     "output_type": "stream",
     "text": [
      "Learning Git exam scores.\n",
      "+------------+--------------------+-------+----------+----------+---------+---------+-------+-----+-----+\n",
      "|   exam_name|        user_exam_id|attempt|unanswered|incomplete|incorrect|submitted|correct|total|score|\n",
      "+------------+--------------------+-------+----------+----------+---------+---------+-------+-----+-----+\n",
      "|Learning Git|22978de3-f4ea-42c...|      1|         0|         0|        1|        5|      4|    5| 80.0|\n",
      "|Learning Git|2cbbfe41-b954-4ca...|      1|         0|         0|        0|        5|      5|    5|100.0|\n",
      "|Learning Git|0d56a1e7-3bb1-435...|      1|         0|         0|        0|        5|      5|    5|100.0|\n",
      "|Learning Git|b481351e-8cd8-461...|      1|         0|         0|        2|        5|      3|    5| 60.0|\n",
      "|Learning Git|07d33f96-64e6-499...|      1|         0|         0|        0|        5|      5|    5|100.0|\n",
      "|Learning Git|1c965684-9ee4-4b7...|      1|         0|         0|        0|        5|      5|    5|100.0|\n",
      "|Learning Git|865cdead-a00f-4e9...|      1|         0|         0|        0|        5|      5|    5|100.0|\n",
      "|Learning Git|afd223cf-734e-4d3...|      1|         0|         0|        0|        5|      5|    5|100.0|\n",
      "|Learning Git|c8830452-1ad1-446...|      1|         3|         0|        1|        2|      1|    5| 20.0|\n",
      "|Learning Git|3a521425-5c8e-41c...|      1|         0|         0|        1|        5|      4|    5| 80.0|\n",
      "|Learning Git|2a3b242d-92ac-4a3...|      1|         0|         0|        0|        5|      5|    5|100.0|\n",
      "|Learning Git|aa1281d2-b447-41c...|      1|         0|         0|        1|        5|      4|    5| 80.0|\n",
      "|Learning Git|5857c5e8-8c95-485...|      1|         0|         0|        0|        5|      5|    5|100.0|\n",
      "|Learning Git|79ccdb3a-14f4-41a...|      1|         1|         0|        4|        4|      0|    5|  0.0|\n",
      "|Learning Git|a3ab3eb2-f2c2-4bc...|      1|         0|         0|        1|        5|      4|    5| 80.0|\n",
      "|Learning Git|d630e406-59d3-43f...|      1|         0|         0|        1|        5|      4|    5| 80.0|\n",
      "|Learning Git|b8cb85e9-446b-454...|      1|         0|         0|        0|        5|      5|    5|100.0|\n",
      "|Learning Git|26ac13db-251d-458...|      1|         0|         0|        1|        5|      4|    5| 80.0|\n",
      "|Learning Git|c256bc7f-f630-468...|      1|         0|         0|        1|        5|      4|    5| 80.0|\n",
      "|Learning Git|b7d20745-eb5c-411...|      1|         0|         0|        2|        5|      3|    5| 60.0|\n",
      "+------------+--------------------+-------+----------+----------+---------+---------+-------+-----+-----+\n",
      "only showing top 20 rows\n",
      "\n"
     ]
    }
   ],
   "source": [
    "git_scores = spark.sql(\"select *, round((correct/total)*100, 2) score from(select exam_name, \\\n",
    "                          user_exam_id,                \\\n",
    "                          sequences.attempt,           \\\n",
    "                          sequences.counts.unanswered, \\\n",
    "                          sequences.counts.incomplete, \\\n",
    "                          sequences.counts.incorrect,  \\\n",
    "                          sequences.counts.submitted,  \\\n",
    "                          sequences.counts.correct,    \\\n",
    "                          sequences.counts.total       \\\n",
    "                        from assessments \\\n",
    "                        where exam_name='Learning Git')\")\n",
    "print(\"Learning Git exam scores.\")\n",
    "git_scores.show()"
   ]
  },
  {
   "cell_type": "code",
   "execution_count": 79,
   "metadata": {
    "collapsed": true
   },
   "outputs": [],
   "source": [
    "pd_learn_git = git_scores.toPandas()"
   ]
  },
  {
   "cell_type": "code",
   "execution_count": 80,
   "metadata": {},
   "outputs": [
    {
     "data": {
      "text/html": [
       "<div>\n",
       "<style>\n",
       "    .dataframe thead tr:only-child th {\n",
       "        text-align: right;\n",
       "    }\n",
       "\n",
       "    .dataframe thead th {\n",
       "        text-align: left;\n",
       "    }\n",
       "\n",
       "    .dataframe tbody tr th {\n",
       "        vertical-align: top;\n",
       "    }\n",
       "</style>\n",
       "<table border=\"1\" class=\"dataframe\">\n",
       "  <thead>\n",
       "    <tr style=\"text-align: right;\">\n",
       "      <th></th>\n",
       "      <th>exam_name</th>\n",
       "      <th>user_exam_id</th>\n",
       "      <th>attempt</th>\n",
       "      <th>unanswered</th>\n",
       "      <th>incomplete</th>\n",
       "      <th>incorrect</th>\n",
       "      <th>submitted</th>\n",
       "      <th>correct</th>\n",
       "      <th>total</th>\n",
       "      <th>score</th>\n",
       "    </tr>\n",
       "  </thead>\n",
       "  <tbody>\n",
       "    <tr>\n",
       "      <th>0</th>\n",
       "      <td>Learning Git</td>\n",
       "      <td>22978de3-f4ea-42c2-8821-1e794bf30733</td>\n",
       "      <td>1</td>\n",
       "      <td>0</td>\n",
       "      <td>0</td>\n",
       "      <td>1</td>\n",
       "      <td>5</td>\n",
       "      <td>4</td>\n",
       "      <td>5</td>\n",
       "      <td>80.0</td>\n",
       "    </tr>\n",
       "    <tr>\n",
       "      <th>1</th>\n",
       "      <td>Learning Git</td>\n",
       "      <td>2cbbfe41-b954-4ca8-9087-d6c1d0df3522</td>\n",
       "      <td>1</td>\n",
       "      <td>0</td>\n",
       "      <td>0</td>\n",
       "      <td>0</td>\n",
       "      <td>5</td>\n",
       "      <td>5</td>\n",
       "      <td>5</td>\n",
       "      <td>100.0</td>\n",
       "    </tr>\n",
       "    <tr>\n",
       "      <th>2</th>\n",
       "      <td>Learning Git</td>\n",
       "      <td>0d56a1e7-3bb1-435a-b36c-1667438ddef5</td>\n",
       "      <td>1</td>\n",
       "      <td>0</td>\n",
       "      <td>0</td>\n",
       "      <td>0</td>\n",
       "      <td>5</td>\n",
       "      <td>5</td>\n",
       "      <td>5</td>\n",
       "      <td>100.0</td>\n",
       "    </tr>\n",
       "    <tr>\n",
       "      <th>3</th>\n",
       "      <td>Learning Git</td>\n",
       "      <td>b481351e-8cd8-461e-aad9-fc01a058d0ee</td>\n",
       "      <td>1</td>\n",
       "      <td>0</td>\n",
       "      <td>0</td>\n",
       "      <td>2</td>\n",
       "      <td>5</td>\n",
       "      <td>3</td>\n",
       "      <td>5</td>\n",
       "      <td>60.0</td>\n",
       "    </tr>\n",
       "    <tr>\n",
       "      <th>4</th>\n",
       "      <td>Learning Git</td>\n",
       "      <td>07d33f96-64e6-4994-8d50-487324b11e9d</td>\n",
       "      <td>1</td>\n",
       "      <td>0</td>\n",
       "      <td>0</td>\n",
       "      <td>0</td>\n",
       "      <td>5</td>\n",
       "      <td>5</td>\n",
       "      <td>5</td>\n",
       "      <td>100.0</td>\n",
       "    </tr>\n",
       "  </tbody>\n",
       "</table>\n",
       "</div>"
      ],
      "text/plain": [
       "      exam_name                          user_exam_id  attempt  unanswered  \\\n",
       "0  Learning Git  22978de3-f4ea-42c2-8821-1e794bf30733        1           0   \n",
       "1  Learning Git  2cbbfe41-b954-4ca8-9087-d6c1d0df3522        1           0   \n",
       "2  Learning Git  0d56a1e7-3bb1-435a-b36c-1667438ddef5        1           0   \n",
       "3  Learning Git  b481351e-8cd8-461e-aad9-fc01a058d0ee        1           0   \n",
       "4  Learning Git  07d33f96-64e6-4994-8d50-487324b11e9d        1           0   \n",
       "\n",
       "   incomplete  incorrect  submitted  correct  total  score  \n",
       "0           0          1          5        4      5   80.0  \n",
       "1           0          0          5        5      5  100.0  \n",
       "2           0          0          5        5      5  100.0  \n",
       "3           0          2          5        3      5   60.0  \n",
       "4           0          0          5        5      5  100.0  "
      ]
     },
     "execution_count": 80,
     "metadata": {},
     "output_type": "execute_result"
    }
   ],
   "source": [
    "pd_learn_git.head()"
   ]
  },
  {
   "cell_type": "code",
   "execution_count": 81,
   "metadata": {},
   "outputs": [
    {
     "data": {
      "text/html": [
       "<div>\n",
       "<style>\n",
       "    .dataframe thead tr:only-child th {\n",
       "        text-align: right;\n",
       "    }\n",
       "\n",
       "    .dataframe thead th {\n",
       "        text-align: left;\n",
       "    }\n",
       "\n",
       "    .dataframe tbody tr th {\n",
       "        vertical-align: top;\n",
       "    }\n",
       "</style>\n",
       "<table border=\"1\" class=\"dataframe\">\n",
       "  <thead>\n",
       "    <tr style=\"text-align: right;\">\n",
       "      <th></th>\n",
       "      <th>attempt</th>\n",
       "      <th>unanswered</th>\n",
       "      <th>incomplete</th>\n",
       "      <th>incorrect</th>\n",
       "      <th>submitted</th>\n",
       "      <th>correct</th>\n",
       "      <th>total</th>\n",
       "    </tr>\n",
       "    <tr>\n",
       "      <th>score</th>\n",
       "      <th></th>\n",
       "      <th></th>\n",
       "      <th></th>\n",
       "      <th></th>\n",
       "      <th></th>\n",
       "      <th></th>\n",
       "      <th></th>\n",
       "    </tr>\n",
       "  </thead>\n",
       "  <tbody>\n",
       "    <tr>\n",
       "      <th>0.0</th>\n",
       "      <td>24</td>\n",
       "      <td>57</td>\n",
       "      <td>0</td>\n",
       "      <td>63</td>\n",
       "      <td>63</td>\n",
       "      <td>0</td>\n",
       "      <td>120</td>\n",
       "    </tr>\n",
       "    <tr>\n",
       "      <th>20.0</th>\n",
       "      <td>44</td>\n",
       "      <td>51</td>\n",
       "      <td>0</td>\n",
       "      <td>125</td>\n",
       "      <td>169</td>\n",
       "      <td>44</td>\n",
       "      <td>220</td>\n",
       "    </tr>\n",
       "    <tr>\n",
       "      <th>40.0</th>\n",
       "      <td>39</td>\n",
       "      <td>6</td>\n",
       "      <td>0</td>\n",
       "      <td>111</td>\n",
       "      <td>189</td>\n",
       "      <td>78</td>\n",
       "      <td>195</td>\n",
       "    </tr>\n",
       "    <tr>\n",
       "      <th>60.0</th>\n",
       "      <td>68</td>\n",
       "      <td>2</td>\n",
       "      <td>0</td>\n",
       "      <td>134</td>\n",
       "      <td>338</td>\n",
       "      <td>204</td>\n",
       "      <td>340</td>\n",
       "    </tr>\n",
       "    <tr>\n",
       "      <th>80.0</th>\n",
       "      <td>87</td>\n",
       "      <td>3</td>\n",
       "      <td>0</td>\n",
       "      <td>84</td>\n",
       "      <td>432</td>\n",
       "      <td>348</td>\n",
       "      <td>435</td>\n",
       "    </tr>\n",
       "    <tr>\n",
       "      <th>100.0</th>\n",
       "      <td>128</td>\n",
       "      <td>0</td>\n",
       "      <td>0</td>\n",
       "      <td>0</td>\n",
       "      <td>640</td>\n",
       "      <td>640</td>\n",
       "      <td>640</td>\n",
       "    </tr>\n",
       "  </tbody>\n",
       "</table>\n",
       "</div>"
      ],
      "text/plain": [
       "       attempt  unanswered  incomplete  incorrect  submitted  correct  total\n",
       "score                                                                       \n",
       "0.0         24          57           0         63         63        0    120\n",
       "20.0        44          51           0        125        169       44    220\n",
       "40.0        39           6           0        111        189       78    195\n",
       "60.0        68           2           0        134        338      204    340\n",
       "80.0        87           3           0         84        432      348    435\n",
       "100.0      128           0           0          0        640      640    640"
      ]
     },
     "execution_count": 81,
     "metadata": {},
     "output_type": "execute_result"
    }
   ],
   "source": [
    "pd_learn_git_score = pd_learn_git.groupby('score').sum()\n",
    "pd_learn_git_score"
   ]
  },
  {
   "cell_type": "code",
   "execution_count": 82,
   "metadata": {
    "scrolled": false
   },
   "outputs": [
    {
     "data": {
      "image/png": "[encoded data removed]",
      "text/plain": [
       "<matplotlib.figure.Figure at 0x7f8c5f1385f8>"
      ]
     },
     "metadata": {},
     "output_type": "display_data"
    }
   ],
   "source": [
    "plt.figure(figsize=(12,8))\n",
    "plt.bar(pd_learn_git_score.index, pd_learn_git_score.attempt, width=10)\n",
    "plt.title(\"Exam Total by Percent\", fontsize=16)\n",
    "plt.xlabel(\"Score (%)\", fontsize=14)\n",
    "plt.ylabel(\"Number of Exams\", fontsize=14)\n",
    "plt.show()"
   ]
  },
  {
   "cell_type": "markdown",
   "metadata": {
    "scrolled": false
   },
   "source": [
    "### 3.10 What are the correct percentages for each Learning Git question?"
   ]
  },
  {
   "cell_type": "code",
   "execution_count": 83,
   "metadata": {
    "scrolled": true
   },
   "outputs": [
    {
     "name": "stdout",
     "output_type": "stream",
     "text": [
      "+------------+-----------+-----------+-----------+-----------+-----------+\n",
      "|   exam_name|q01_percent|q02_percent|q03_percent|q04_percent|q05_percent|\n",
      "+------------+-----------+-----------+-----------+-----------+-----------+\n",
      "|Learning Git|      67.51|      67.51|      65.23|       66.5|      66.75|\n",
      "+------------+-----------+-----------+-----------+-----------+-----------+\n",
      "\n"
     ]
    }
   ],
   "source": [
    "learning_git_questions = \\\n",
    "spark.sql(\"select exam_name, \\\n",
    "          round((q01_correct/394)*100,2) q01_percent, \\\n",
    "          round((q02_correct/394)*100,2) q02_percent, \\\n",
    "          round((q03_correct/394)*100,2) q03_percent, \\\n",
    "          round((q04_correct/394)*100,2) q04_percent, \\\n",
    "          round((q05_correct/394)*100,2) q05_percent \\\n",
    "          from (select exam_name, \\\n",
    "                    sum(case when sequences.questions.user_correct[0] = 'true' then 1 else 0 end) as q01_correct, \\\n",
    "                    sum(case when sequences.questions.user_correct[1] = 'true' then 1 else 0 end) as q02_correct, \\\n",
    "                    sum(case when sequences.questions.user_correct[2] = 'true' then 1 else 0 end) as q03_correct, \\\n",
    "                    sum(case when sequences.questions.user_correct[3] = 'true' then 1 else 0 end) as q04_correct, \\\n",
    "                    sum(case when sequences.questions.user_correct[4] = 'true' then 1 else 0 end) as q05_correct \\\n",
    "                    from assessments \\\n",
    "                    group by exam_name) \\\n",
    "            where exam_name = 'Learning Git'\")\n",
    "learning_git_questions.show()"
   ]
  },
  {
   "cell_type": "markdown",
   "metadata": {},
   "source": [
    "# 4.0 HDFS"
   ]
  },
  {
   "cell_type": "markdown",
   "metadata": {},
   "source": [
    "### Pipeline\n",
    "\n",
    "Now that the files have been transformed into a suitable format, they will be written to HDFS.  The pipeline location is transitioning from the streaming context to the distributed storage."
   ]
  },
  {
   "cell_type": "markdown",
   "metadata": {},
   "source": [
    "### Write to HDFS"
   ]
  },
  {
   "cell_type": "code",
   "execution_count": 84,
   "metadata": {
    "collapsed": true
   },
   "outputs": [],
   "source": [
    "extracted_assessments.write.parquet(\"/tmp/assessments\")"
   ]
  },
  {
   "cell_type": "code",
   "execution_count": 85,
   "metadata": {
    "collapsed": true
   },
   "outputs": [],
   "source": [
    "git_scores.write.parquet(\"/tmp/git_scores\")"
   ]
  },
  {
   "cell_type": "markdown",
   "metadata": {},
   "source": [
    "### Read from HDFS"
   ]
  },
  {
   "cell_type": "code",
   "execution_count": 86,
   "metadata": {
    "collapsed": true
   },
   "outputs": [],
   "source": [
    "assessments_read = spark.read.parquet(\"/tmp/assessments\")"
   ]
  },
  {
   "cell_type": "code",
   "execution_count": 87,
   "metadata": {
    "collapsed": true
   },
   "outputs": [],
   "source": [
    "git_scores_read = spark.read.parquet(\"/tmp/git_scores\")"
   ]
  },
  {
   "cell_type": "markdown",
   "metadata": {},
   "source": [
    "### Display pyspark sql dataframes"
   ]
  },
  {
   "cell_type": "code",
   "execution_count": 88,
   "metadata": {},
   "outputs": [
    {
     "name": "stdout",
     "output_type": "stream",
     "text": [
      "+--------------------+-------------+--------------------+-----------------+--------------------+-----------------+------------+--------------------+--------------------+--------------------+\n",
      "|        base_exam_id|certification|           exam_name|  keen_created_at|             keen_id|   keen_timestamp|max_attempts|           sequences|          started_at|        user_exam_id|\n",
      "+--------------------+-------------+--------------------+-----------------+--------------------+-----------------+------------+--------------------+--------------------+--------------------+\n",
      "|417d1748-76ab-11e...|        false|Learning Apache H...|1511377011.421613|5a15c873a4754b000...|1511377011.421613|         1.0|[1,[true,4,0,0,4,...|2017-11-22T18:55:...|27ccf268-a469-41a...|\n",
      "+--------------------+-------------+--------------------+-----------------+--------------------+-----------------+------------+--------------------+--------------------+--------------------+\n",
      "only showing top 1 row\n",
      "\n"
     ]
    }
   ],
   "source": [
    "assessments_read.show(1)"
   ]
  },
  {
   "cell_type": "code",
   "execution_count": 89,
   "metadata": {},
   "outputs": [
    {
     "name": "stdout",
     "output_type": "stream",
     "text": [
      "+------------+--------------------+-------+----------+----------+---------+---------+-------+-----+-----+\n",
      "|   exam_name|        user_exam_id|attempt|unanswered|incomplete|incorrect|submitted|correct|total|score|\n",
      "+------------+--------------------+-------+----------+----------+---------+---------+-------+-----+-----+\n",
      "|Learning Git|9d83503e-1e81-4c5...|      1|         0|         0|        0|        5|      5|    5|100.0|\n",
      "|Learning Git|690ff7aa-6aca-47c...|      1|         0|         0|        2|        5|      3|    5| 60.0|\n",
      "|Learning Git|1823d4f8-57a8-458...|      1|         0|         0|        0|        5|      5|    5|100.0|\n",
      "|Learning Git|06616dd0-fff9-470...|      1|         0|         0|        5|        5|      0|    5|  0.0|\n",
      "|Learning Git|e3ab5dd9-9810-4eb...|      1|         0|         0|        0|        5|      5|    5|100.0|\n",
      "|Learning Git|ec8982ef-7747-4f8...|      1|         0|         0|        1|        5|      4|    5| 80.0|\n",
      "|Learning Git|b3bbfe86-5163-459...|      1|         2|         0|        2|        3|      1|    5| 20.0|\n",
      "|Learning Git|d24b2885-b8d3-4ac...|      1|         0|         0|        4|        5|      1|    5| 20.0|\n",
      "|Learning Git|7acc8320-bb4f-4f5...|      1|         0|         0|        0|        5|      5|    5|100.0|\n",
      "|Learning Git|765bc318-efa6-46f...|      1|         0|         0|        1|        5|      4|    5| 80.0|\n",
      "|Learning Git|f3f6d8db-224b-4b8...|      1|         0|         0|        0|        5|      5|    5|100.0|\n",
      "|Learning Git|0cb9fc56-ef91-497...|      1|         0|         0|        1|        5|      4|    5| 80.0|\n",
      "|Learning Git|31191923-68dc-41b...|      1|         0|         0|        1|        5|      4|    5| 80.0|\n",
      "|Learning Git|83a85e5c-c704-4db...|      1|         0|         0|        4|        5|      1|    5| 20.0|\n",
      "|Learning Git|79a4252b-ee23-4d8...|      1|         0|         0|        2|        5|      3|    5| 60.0|\n",
      "|Learning Git|d64a34dd-18e0-48a...|      1|         0|         0|        3|        5|      2|    5| 40.0|\n",
      "|Learning Git|79ccdb3a-14f4-41a...|      1|         1|         0|        4|        4|      0|    5|  0.0|\n",
      "|Learning Git|a3ab3eb2-f2c2-4bc...|      1|         0|         0|        1|        5|      4|    5| 80.0|\n",
      "|Learning Git|d630e406-59d3-43f...|      1|         0|         0|        1|        5|      4|    5| 80.0|\n",
      "|Learning Git|b8cb85e9-446b-454...|      1|         0|         0|        0|        5|      5|    5|100.0|\n",
      "+------------+--------------------+-------+----------+----------+---------+---------+-------+-----+-----+\n",
      "only showing top 20 rows\n",
      "\n"
     ]
    }
   ],
   "source": [
    "git_scores_read.show()"
   ]
  },
  {
   "cell_type": "code",
   "execution_count": null,
   "metadata": {
    "collapsed": true
   },
   "outputs": [],
   "source": []
  },
  {
   "cell_type": "code",
   "execution_count": null,
   "metadata": {
    "collapsed": true
   },
   "outputs": [],
   "source": []
  },
  {
   "cell_type": "code",
   "execution_count": null,
   "metadata": {
    "collapsed": true
   },
   "outputs": [],
   "source": []
  },
  {
   "cell_type": "code",
   "execution_count": null,
   "metadata": {
    "collapsed": true
   },
   "outputs": [],
   "source": []
  },
  {
   "cell_type": "code",
   "execution_count": null,
   "metadata": {
    "collapsed": true
   },
   "outputs": [],
   "source": []
  },
  {
   "cell_type": "code",
   "execution_count": null,
   "metadata": {
    "collapsed": true
   },
   "outputs": [],
   "source": []
  },
  {
   "cell_type": "code",
   "execution_count": null,
   "metadata": {
    "collapsed": true
   },
   "outputs": [],
   "source": []
  },
  {
   "cell_type": "code",
   "execution_count": null,
   "metadata": {
    "collapsed": true
   },
   "outputs": [],
   "source": []
  },
  {
   "cell_type": "code",
   "execution_count": null,
   "metadata": {
    "collapsed": true
   },
   "outputs": [],
   "source": []
  },
  {
   "cell_type": "code",
   "execution_count": null,
   "metadata": {
    "collapsed": true
   },
   "outputs": [],
   "source": []
  },
  {
   "cell_type": "code",
   "execution_count": null,
   "metadata": {
    "collapsed": true
   },
   "outputs": [],
   "source": []
  },
  {
   "cell_type": "code",
   "execution_count": null,
   "metadata": {
    "collapsed": true
   },
   "outputs": [],
   "source": []
  },
  {
   "cell_type": "code",
   "execution_count": null,
   "metadata": {
    "collapsed": true
   },
   "outputs": [],
   "source": []
  },
  {
   "cell_type": "code",
   "execution_count": null,
   "metadata": {
    "collapsed": true
   },
   "outputs": [],
   "source": []
  },
  {
   "cell_type": "code",
   "execution_count": null,
   "metadata": {
    "collapsed": true
   },
   "outputs": [],
   "source": []
  },
  {
   "cell_type": "code",
   "execution_count": null,
   "metadata": {
    "collapsed": true
   },
   "outputs": [],
   "source": []
  },
  {
   "cell_type": "code",
   "execution_count": null,
   "metadata": {
    "collapsed": true
   },
   "outputs": [],
   "source": []
  },
  {
   "cell_type": "code",
   "execution_count": null,
   "metadata": {
    "collapsed": true
   },
   "outputs": [],
   "source": []
  },
  {
   "cell_type": "code",
   "execution_count": null,
   "metadata": {
    "collapsed": true
   },
   "outputs": [],
   "source": []
  },
  {
   "cell_type": "code",
   "execution_count": null,
   "metadata": {
    "collapsed": true
   },
   "outputs": [],
   "source": []
  },
  {
   "cell_type": "code",
   "execution_count": null,
   "metadata": {
    "collapsed": true
   },
   "outputs": [],
   "source": []
  }
 ],
 "metadata": {
  "environment": {
   "name": "tf2-gpu.2-1.m46",
   "type": "gcloud",
   "uri": "gcr.io/deeplearning-platform-release/tf2-gpu.2-1:m46"
  },
  "kernelspec": {
   "display_name": "Python 3",
   "language": "python",
   "name": "python3"
  },
  "language_info": {
   "codemirror_mode": {
    "name": "ipython",
    "version": 3
   },
   "file_extension": ".py",
   "mimetype": "text/x-python",
   "name": "python",
   "nbconvert_exporter": "python",
   "pygments_lexer": "ipython3",
   "version": "3.6.1"
  }
 },
 "nbformat": 4,
 "nbformat_minor": 2
}
