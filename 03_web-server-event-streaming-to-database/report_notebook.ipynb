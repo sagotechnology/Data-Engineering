{
 "cells": [
  {
   "cell_type": "markdown",
   "metadata": {},
   "source": [
    "## Project 03 Report"
   ]
  },
  {
   "cell_type": "markdown",
   "metadata": {},
   "source": [
    "This notebook is a step-by-step guide for setting up a data pipeline that streams events from a web server into a database.  The major parts of the data pipeline include Flask, Kafka, Spark, HDFS, Hive, and Presto.  For this project's scope, a fictitious game uses the Flask API webserver to write user-generated data into Kafka.  Kafka's topic \"events\" ingests the user-events.  Using Spark, a data sync is set up to stream data into HDFS every ten seconds.  The Hive metastore is used to create a table structure for the join guild and purchase sword events that are then populated with data from HDFS using Presto.  The last section of the report discusses business insights derived from the user data--available via Presto queries. "
   ]
  },
  {
   "cell_type": "markdown",
   "metadata": {},
   "source": [
    "#### 1.0 | Spin Up Cluster"
   ]
  },
  {
   "cell_type": "markdown",
   "metadata": {},
   "source": [
    "##### 1.1. \n",
    "Please see the docker-compose.yml file for more information about the data pipeline setup.  \n",
    "&nbsp;  \n",
    "```cd w205/project-3-samueljgomez/```  \n",
    "```docker-compose up -d```\n",
    "___"
   ]
  },
  {
   "cell_type": "markdown",
   "metadata": {},
   "source": [
    "#### 2.0 | Start the Flask API Webserver \n",
    "##### 2.1  \n",
    "I am using the mids container for the Flask app.  The env variable designates the location of the Flask app.  I am invoking flask run using the host option to connect to the server from the outside if needed. The game_api.py file contains the routes for the game.  \n",
    "&nbsp;  \n",
    "```docker-compose exec mids env FLASK_APP=/w205/project-3-samueljgomez/game_api.py flask run --host 0.0.0.0``` \n",
    "___"
   ]
  },
  {
   "cell_type": "markdown",
   "metadata": {},
   "source": [
    "#### 3.0 | Setup Kafka Topic for Streaming\n",
    "##### 3.1\n",
    "This command is used to set up the kafka topic for streaming.  The name of the topic is events.  I am not using the -e option to keep the topic running continuously.  Kafka will now watch for events.  \n",
    "&nbsp;  \n",
    "```docker-compose exec mids kafkacat -C -b kafka:29092 -t events -o beginning```  \n",
    "___"
   ]
  },
  {
   "cell_type": "markdown",
   "metadata": {},
   "source": [
    "#### 4.0 | Run Spark Jobs\n",
    "##### 4.1  \n",
    "These lines of code send the write_swords_stream.py and write_guild_stream.py jobs to spark--please see those files for more about the content. Instead of using spark-pyspark I am using spark-submit. The mount point for spark is in w205, so I use only w205 when searching the directory.  These functions takes some time to run.  It is a good practice to keep in mind the overhead associated with certain tools.  \n",
    "&nbsp;  \n",
    "```docker-compose exec spark spark-submit /w205/project-3-samueljgomez/write_swords_stream.py```\n",
    "\n",
    "```docker-compose exec spark spark-submit /w205/project-3-samueljgomez/write_guild_stream.py```\n",
    "___"
   ]
  },
  {
   "cell_type": "markdown",
   "metadata": {},
   "source": [
    "#### 5.0 | Look Into Hadoop Files\n",
    "##### 5.1. \n",
    "Using this command I can see the tables for sword purchases and guild joins were created in the hadoop file system.  \n",
    "&nbsp;  \n",
    "```docker-compose exec cloudera hadoop fs -ls /tmp/```\n",
    "___"
   ]
  },
  {
   "cell_type": "markdown",
   "metadata": {},
   "source": [
    "#### 6.0 | Create Tables in Hive\n",
    "##### 6.1. \n",
    "The hive metastore is used to track schema and create tables.  Here I am entering the hive console to create the guild_joins and sword_purchases tables.  \n",
    "&nbsp;  \n",
    "```docker-compose exec cloudera hive```    \n",
    "##### 6.2. \n",
    "Below I am create two tables and registering the schema for sword purchases and guild joins. Note guild string, sword_type sting, and sword_cost int are columns in the tables that I created for guild joins and sword purchases respectively.  The compression used is snappy and the location in hdfs is specified.  There is no data stored in hive, only the table description.  \n",
    "##### 6.2.1\n",
    "##### hive metastore guild_joins\n",
    "```create external table if not exists default.guild_joins (raw_event string, timestamp string, Accept string, Host string, User_Agent string, event_type string, guild string) stored as parquet location '/tmp/guild_joins'  tblproperties (\"parquet.compress\"=\"SNAPPY\");```\n",
    "\n",
    "```OK\n",
    "Time taken: 0.917 seconds```  \n",
    "##### 6.2.2\n",
    "##### hive metastore sword_purchases\n",
    "```create external table if not exists default.sword_purchases (raw_event string, timestamp string, Accept string, Host string, User_Agent string, event_type string, sword_type string, sword_cost int) stored as parquet location '/tmp/sword_purchases'  tblproperties (\"parquet.compress\"=\"SNAPPY\");```\n",
    "```OK\n",
    "Time taken: 0.077 seconds```\n",
    "___"
   ]
  },
  {
   "cell_type": "markdown",
   "metadata": {},
   "source": [
    "#### 7.0 | Generate Events Using Curl and Apache Bench\n",
    "##### 7.1  \n",
    "Using this command I can generate a user event.   \n",
    "&nbsp;   \n",
    "```jupyter@midsw205:~/w205/project-3-samueljgomez$ docker-compose exec mids curl http://localhost:5000/join_guild```    \n",
    "&nbsp;  \n",
    "The response output lets the user know what guild was joined.  \n",
    "&nbsp;   \n",
    "```You have joined Blueblades!```    \n",
    "&nbsp;  \n",
    "To continuously generate events, I created the events_stream.sh file--please take a look for more information.  Running this command generates fifty events of join guild and purhcase sword with unique user IDs.\n",
    "\n",
    "```bash events/stream_events.sh```\n",
    "___"
   ]
  },
  {
   "cell_type": "markdown",
   "metadata": {},
   "source": [
    "#### 8.0 | Watch Event Stream in Flask and Kafka. \n",
    "##### 8.1 Flask stream.\n",
    "Below is a flask terminal output when an event occurs. \n",
    "&nbsp;   \n",
    "```127.0.0.1 - - [02/Aug/2020 06:56:20] \"GET /join_guild HTTP/1.0\" 200 -```\n",
    "```127.0.0.1 - - [02/Aug/2020 06:56:21] \"GET /join_guild HTTP/1.0\" 200 -```\n",
    "```127.0.0.1 - - [02/Aug/2020 06:56:22] \"GET /join_guild HTTP/1.0\" 200 -```\n",
    "```127.0.0.1 - - [02/Aug/2020 06:56:22] \"GET /join_guild HTTP/1.0\" 200 -```\n",
    "\n",
    "##### 8.2 Kafka stream using curl.\n",
    "The command line output in Kafka looks like this when an event is generated using the curl command.  The host is the user/player.  The guild is the guild that the user joined.  I created this functionality using the join_guild and guild_assign functions in the game_api.py file.  The event_type is also within the join_guild function.  It attaches the event type to the specific generated event.  The event type is used for allocating events to tables in hdfs, querying, etc.  The accept field is included as well as the user-agent field.  In this case the user-agent is curl.  \n",
    "&nbsp;  \n",
    "```{\"Host\": \"localhost:5000\", \"guild\": \"Blueblades\", \"event_type\": \"join_guild\", \"Accept\": \"*/*\", \"User-Agent\": \"curl/7.47.0\"}```  \n",
    "##### 8.3 Kafka stream using Apache Bench.\n",
    "In this case the user-agent is Apache Bench.  \n",
    "Notice that I added sword type and sword cost to the purhcase sword event.  \n",
    "&nbsp; \n",
    "```{\"Host\": \"user1.comcast.com\", \"guild\": \"Blueblades\", \"event_type\": \"join_guild\", \"Accept\": \"*/*\", \"User-Agent\": \"ApacheBench/2.3\"}\n",
    "{\"Host\": \"user1.att.com\", \"guild\": \"Triad\", \"event_type\": \"join_guild\", \"Accept\": \"*/*\", \"User-Agent\": \"ApacheBench/2.3\"}\n",
    "{\"Host\": \"user2.comcast.com\", \"guild\": \"Triad\", \"event_type\": \"join_guild\", \"Accept\": \"*/*\", \"User-Agent\": \"ApacheBench/2.3\"}\n",
    "{\"Host\": \"user2.att.com\", \"guild\": \"Triad\", \"event_type\": \"join_guild\", \"Accept\": \"*/*\", \"User-Agent\": \"ApacheBench/2.3\"}```\n",
    "\n",
    "```{\"event_type\": \"purchase_sword\", \"sword_cost\": 10, \"Accept\": \"*/*\", \"User-Agent\": \"ApacheBench/2.3\", \"Host\": \"user1.comcast.com\", \"sword_type\": \"crusader\"}\n",
    "{\"event_type\": \"purchase_sword\", \"sword_cost\": 5, \"Accept\": \"*/*\", \"User-Agent\": \"ApacheBench/2.3\", \"Host\": \"user1.att.com\", \"sword_type\": \"templer\"}\n",
    "{\"event_type\": \"purchase_sword\", \"sword_cost\": 10, \"Accept\": \"*/*\", \"User-Agent\": \"ApacheBench/2.3\", \"Host\": \"user2.comcast.com\", \"sword_type\": \"crusader\"}\n",
    "{\"event_type\": \"purchase_sword\", \"sword_cost\": 10, \"Accept\": \"*/*\", \"User-Agent\": \"ApacheBench/2.3\", \"Host\": \"user2.att.com\", \n",
    "\"sword_type\": \"crusader\"}```\n",
    "___"
   ]
  },
  {
   "cell_type": "markdown",
   "metadata": {},
   "source": [
    "#### 9.0 | Use Presto for Business Insights\n",
    "##### 9.1\n",
    "##### This command opens the presto console.  I will query HDFS using this tool and infer the schema from hive.\n",
    "```docker-compose exec presto presto --server presto:8080 --catalog hive --schema default```\n",
    "##### 9.2\n",
    "##### Display tables\n",
    "```show tables;```\n",
    "```\n",
    "      Table      \n",
    "-----------------\n",
    " guild_joins     \n",
    " sword_purchases \n",
    "``` \n",
    "##### 9.3\n",
    "##### Describe table guild_joins.\n",
    "```describe guild_joins;```\n",
    "```\n",
    "   Column   |  Type   | Comment \n",
    "------------+---------+---------\n",
    " raw_event  | varchar |         \n",
    " timestamp  | varchar |         \n",
    " accept     | varchar |         \n",
    " host       | varchar |         \n",
    " user_agent | varchar |         \n",
    " event_type | varchar |         \n",
    " guild      | varchar |         \n",
    "```  \n",
    "\n",
    "##### 9.4\n",
    "##### Describe table sword_purchases.\n",
    "```describe sword_purchases;```\n",
    "```\n",
    "   Column   |  Type   | Comment \n",
    "------------+---------+---------\n",
    " raw_event  | varchar |         \n",
    " timestamp  | varchar |         \n",
    " accept     | varchar |         \n",
    " host       | varchar |         \n",
    " user_agent | varchar |         \n",
    " event_type | varchar |         \n",
    " sword_type | varchar |         \n",
    " sword_cost | integer |         \n",
    "```  \n",
    "##### 9.5\n",
    "##### One hundred user have join a guild.\n",
    "```select count(distinct(host)) num_hosts from guild_joins;```\n",
    "```\n",
    " num_hosts \n",
    "-----------\n",
    "       100 \n",
    "```\n",
    "##### 9.6\n",
    "##### The most popular guild is Blueblades.\n",
    "```select guild, count(guild) as num_members from guild_joins group by guild order by 2 desc;```\n",
    "```\n",
    "    guild     | num_members \n",
    "--------------+-------------\n",
    " Blueblades   |          25 \n",
    " Triad        |          23 \n",
    " Bouldergarde |          18 \n",
    " Madvale      |          18 \n",
    " Hellforge    |          16 \n",
    " ```\n",
    "##### 9.7\n",
    "##### One hundred swords have been purhcased throughout gameplay.\n",
    "```select count(sword_type) num_swords from sword_purchases;```\n",
    "```\n",
    " num_swords \n",
    "------------\n",
    "        100 \n",
    "```\n",
    "\n",
    "##### 9.8\n",
    "##### The templer sword brought in the most revenue.  It was also the most purchased sword.  The most expensive sword, light saber, was only purchased by one user.\n",
    "```select sword_type, count(sword_type) num_swords, sum(sword_cost) sum_sword_cost from sword_purchases group by sword_type;```\n",
    "```\n",
    "  sword_type   | num_swords | sum_sword_cost \n",
    "---------------+------------+----------------\n",
    " templer       |         83 |            415 \n",
    " crusader      |         14 |            140 \n",
    " hattori hanzo |          2 |             50 \n",
    " light saber   |          1 |             50\n",
    "```\n",
    "___"
   ]
  },
  {
   "cell_type": "markdown",
   "metadata": {},
   "source": [
    "#### 10.0 | Business Case\n",
    "Our user data reveals that most of the users are joining the Bludblades guild.   It would be a good idea to make users fulfill certain requirements like experience, accomplishments, etc. to join this guild.  User preference to join this guild might create more user gameplay if there were requirements to join.  We can also see that one hundred different users have joined a guild.\n",
    "\n",
    "From the query ran on swords, we learned that the most popular sword is the templer sword.  This sword also generated the most revenue.  More revenue could be generated from the hattori hazo and light saber swords if promotions were offered.  This may also motivate users to purchase more than one sword and play more/spend more in order to earn the tokens to purchase these sword types.\n"
   ]
  },
  {
   "cell_type": "markdown",
   "metadata": {},
   "source": [
    "Using post methods I could create more interaction with the end users.  For example, if a user requested a sword, I could prompt the user with the options of swords available.  I could also include a price for the sword and execute a trasaction by removing coins from their account.  Unfortunatley, I was not able to accomplish this level of functionality.  If I had more time, I would have enjoyed setting this up."
   ]
  }
 ],
 "metadata": {
  "environment": {
   "name": "tf2-gpu.2-1.m46",
   "type": "gcloud",
   "uri": "gcr.io/deeplearning-platform-release/tf2-gpu.2-1:m46"
  },
  "kernelspec": {
   "display_name": "Python 3",
   "language": "python",
   "name": "python3"
  },
  "language_info": {
   "codemirror_mode": {
    "name": "ipython",
    "version": 3
   },
   "file_extension": ".py",
   "mimetype": "text/x-python",
   "name": "python",
   "nbconvert_exporter": "python",
   "pygments_lexer": "ipython3",
   "version": "3.7.6"
  }
 },
 "nbformat": 4,
 "nbformat_minor": 4
}
